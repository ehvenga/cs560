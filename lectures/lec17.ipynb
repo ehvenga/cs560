{
 "cells": [
  {
   "cell_type": "code",
   "execution_count": 1,
   "metadata": {
    "tags": []
   },
   "outputs": [],
   "source": [
    "from datascience import *\n",
    "import numpy as np\n",
    "\n",
    "%matplotlib inline\n",
    "import matplotlib.pyplot as plots\n",
    "plots.style.use('fivethirtyeight')"
   ]
  },
  {
   "cell_type": "markdown",
   "metadata": {},
   "source": [
    "## Lecture 17 ##"
   ]
  },
  {
   "cell_type": "markdown",
   "metadata": {},
   "source": [
    "## Alameda County Jury Panels ##"
   ]
  },
  {
   "cell_type": "markdown",
   "metadata": {},
   "source": [
    "How do we compare multiple values to a model? Was a sample drawn randomly?"
   ]
  },
  {
   "cell_type": "code",
   "execution_count": 2,
   "metadata": {
    "tags": []
   },
   "outputs": [
    {
     "data": {
      "text/html": [
       "<table border=\"1\" class=\"dataframe\">\n",
       "    <thead>\n",
       "        <tr>\n",
       "            <th>Ethnicity</th> <th>Eligible</th> <th>Panels</th>\n",
       "        </tr>\n",
       "    </thead>\n",
       "    <tbody>\n",
       "        <tr>\n",
       "            <td>Asian    </td> <td>0.15    </td> <td>0.26  </td>\n",
       "        </tr>\n",
       "        <tr>\n",
       "            <td>Black    </td> <td>0.18    </td> <td>0.08  </td>\n",
       "        </tr>\n",
       "        <tr>\n",
       "            <td>Latino   </td> <td>0.12    </td> <td>0.08  </td>\n",
       "        </tr>\n",
       "        <tr>\n",
       "            <td>White    </td> <td>0.54    </td> <td>0.54  </td>\n",
       "        </tr>\n",
       "        <tr>\n",
       "            <td>Other    </td> <td>0.01    </td> <td>0.04  </td>\n",
       "        </tr>\n",
       "    </tbody>\n",
       "</table>"
      ],
      "text/plain": [
       "Ethnicity | Eligible | Panels\n",
       "Asian     | 0.15     | 0.26\n",
       "Black     | 0.18     | 0.08\n",
       "Latino    | 0.12     | 0.08\n",
       "White     | 0.54     | 0.54\n",
       "Other     | 0.01     | 0.04"
      ]
     },
     "execution_count": 2,
     "metadata": {},
     "output_type": "execute_result"
    }
   ],
   "source": [
    "jury = Table().with_columns(\n",
    "    'Ethnicity', make_array('Asian', 'Black', 'Latino', 'White', 'Other'),\n",
    "    'Eligible', make_array(0.15, 0.18, 0.12, 0.54, 0.01),\n",
    "    'Panels', make_array(0.26, 0.08, 0.08, 0.54, 0.04)\n",
    ")\n",
    "\n",
    "jury"
   ]
  },
  {
   "cell_type": "code",
   "execution_count": 3,
   "metadata": {
    "tags": []
   },
   "outputs": [
    {
     "data": {
      "image/png": "[encoded data removed]",
      "text/plain": [
       "<Figure size 600x400 with 1 Axes>"
      ]
     },
     "metadata": {},
     "output_type": "display_data"
    }
   ],
   "source": [
    "jury.barh('Ethnicity')"
   ]
  },
  {
   "cell_type": "code",
   "execution_count": 4,
   "metadata": {
    "tags": []
   },
   "outputs": [],
   "source": [
    "# Under the model, this is the true distribution of people\n",
    "# from which the jurors are randomly sampled\n",
    "model = make_array(0.15, 0.18, 0.12, 0.54, 0.01)"
   ]
  },
  {
   "cell_type": "code",
   "execution_count": 5,
   "metadata": {
    "tags": []
   },
   "outputs": [
    {
     "data": {
      "text/plain": [
       "array([ 0.14617006,  0.18200984,  0.11946592,  0.54532677,  0.00702741])"
      ]
     },
     "execution_count": 5,
     "metadata": {},
     "output_type": "execute_result"
    }
   ],
   "source": [
    "# Let's simulate a random draw of 1423 jurors from this distribution\n",
    "simulated = sample_proportions(1423, model)\n",
    "simulated"
   ]
  },
  {
   "cell_type": "code",
   "execution_count": 8,
   "metadata": {
    "tags": []
   },
   "outputs": [
    {
     "data": {
      "text/html": [
       "<table border=\"1\" class=\"dataframe\">\n",
       "    <thead>\n",
       "        <tr>\n",
       "            <th>Ethnicity</th> <th>Eligible</th> <th>Panels</th> <th>Simulated</th>\n",
       "        </tr>\n",
       "    </thead>\n",
       "    <tbody>\n",
       "        <tr>\n",
       "            <td>Asian    </td> <td>0.15    </td> <td>0.26  </td> <td>0.14617   </td>\n",
       "        </tr>\n",
       "        <tr>\n",
       "            <td>Black    </td> <td>0.18    </td> <td>0.08  </td> <td>0.18201   </td>\n",
       "        </tr>\n",
       "        <tr>\n",
       "            <td>Latino   </td> <td>0.12    </td> <td>0.08  </td> <td>0.119466  </td>\n",
       "        </tr>\n",
       "        <tr>\n",
       "            <td>White    </td> <td>0.54    </td> <td>0.54  </td> <td>0.545327  </td>\n",
       "        </tr>\n",
       "        <tr>\n",
       "            <td>Other    </td> <td>0.01    </td> <td>0.04  </td> <td>0.00702741</td>\n",
       "        </tr>\n",
       "    </tbody>\n",
       "</table>"
      ],
      "text/plain": [
       "Ethnicity | Eligible | Panels | Simulated\n",
       "Asian     | 0.15     | 0.26   | 0.14617\n",
       "Black     | 0.18     | 0.08   | 0.18201\n",
       "Latino    | 0.12     | 0.08   | 0.119466\n",
       "White     | 0.54     | 0.54   | 0.545327\n",
       "Other     | 0.01     | 0.04   | 0.00702741"
      ]
     },
     "execution_count": 8,
     "metadata": {},
     "output_type": "execute_result"
    }
   ],
   "source": [
    "# The actual observed distribution (Panels) looks quite different\n",
    "# from the simulation -- try running this several times to confirm!\n",
    "jury_with_simulated = jury.with_column('Simulated', simulated)\n",
    "jury_with_simulated"
   ]
  },
  {
   "cell_type": "code",
   "execution_count": 9,
   "metadata": {
    "tags": []
   },
   "outputs": [
    {
     "data": {
      "image/png": "[encoded data removed]",
      "text/plain": [
       "<Figure size 600x400 with 1 Axes>"
      ]
     },
     "metadata": {},
     "output_type": "display_data"
    }
   ],
   "source": [
    "jury_with_simulated.barh('Ethnicity')"
   ]
  },
  {
   "cell_type": "markdown",
   "metadata": {},
   "source": [
    "## Distance Between Distributions"
   ]
  },
  {
   "cell_type": "code",
   "execution_count": 10,
   "metadata": {
    "tags": []
   },
   "outputs": [
    {
     "data": {
      "text/html": [
       "<table border=\"1\" class=\"dataframe\">\n",
       "    <thead>\n",
       "        <tr>\n",
       "            <th>Ethnicity</th> <th>Eligible</th> <th>Panels</th> <th>Difference</th>\n",
       "        </tr>\n",
       "    </thead>\n",
       "    <tbody>\n",
       "        <tr>\n",
       "            <td>Asian    </td> <td>0.15    </td> <td>0.26  </td> <td>0.11      </td>\n",
       "        </tr>\n",
       "        <tr>\n",
       "            <td>Black    </td> <td>0.18    </td> <td>0.08  </td> <td>-0.1      </td>\n",
       "        </tr>\n",
       "        <tr>\n",
       "            <td>Latino   </td> <td>0.12    </td> <td>0.08  </td> <td>-0.04     </td>\n",
       "        </tr>\n",
       "        <tr>\n",
       "            <td>White    </td> <td>0.54    </td> <td>0.54  </td> <td>0         </td>\n",
       "        </tr>\n",
       "        <tr>\n",
       "            <td>Other    </td> <td>0.01    </td> <td>0.04  </td> <td>0.03      </td>\n",
       "        </tr>\n",
       "    </tbody>\n",
       "</table>"
      ],
      "text/plain": [
       "Ethnicity | Eligible | Panels | Difference\n",
       "Asian     | 0.15     | 0.26   | 0.11\n",
       "Black     | 0.18     | 0.08   | -0.1\n",
       "Latino    | 0.12     | 0.08   | -0.04\n",
       "White     | 0.54     | 0.54   | 0\n",
       "Other     | 0.01     | 0.04   | 0.03"
      ]
     },
     "execution_count": 10,
     "metadata": {},
     "output_type": "execute_result"
    }
   ],
   "source": [
    "# In the last lecture, the difference between observed black/purple\n",
    "# and their expected values (26%/74%) was our statistic.\n",
    "#\n",
    "# In this case, we need to understand how each of the 5 categories\n",
    "# differ from their expected values according to the model.\n",
    "\n",
    "diffs = jury.column('Panels') - jury.column('Eligible')\n",
    "jury_with_difference = jury.with_column('Difference', diffs)\n",
    "jury_with_difference"
   ]
  },
  {
   "cell_type": "markdown",
   "metadata": {},
   "source": [
    "## Total Variation Distance"
   ]
  },
  {
   "cell_type": "markdown",
   "metadata": {},
   "source": [
    "Let's find a single number to use for comparison"
   ]
  },
  {
   "cell_type": "code",
   "execution_count": 11,
   "metadata": {
    "tags": []
   },
   "outputs": [],
   "source": [
    "def tvd(dist1, dist2):\n",
    "    return sum(abs(dist1 - dist2))/2"
   ]
  },
  {
   "cell_type": "code",
   "execution_count": 12,
   "metadata": {
    "tags": []
   },
   "outputs": [
    {
     "data": {
      "text/plain": [
       "0.14000000000000001"
      ]
     },
     "execution_count": 12,
     "metadata": {},
     "output_type": "execute_result"
    }
   ],
   "source": [
    "# The TVD of our observed data (Panels) from their expected values\n",
    "# assuming the model is true (Eligbible)\n",
    "obsvd_tvd = tvd(jury.column('Panels'), jury.column('Eligible'))\n",
    "obsvd_tvd"
   ]
  },
  {
   "cell_type": "code",
   "execution_count": 13,
   "metadata": {
    "tags": []
   },
   "outputs": [
    {
     "data": {
      "text/plain": [
       "0.017695010541110348"
      ]
     },
     "execution_count": 13,
     "metadata": {},
     "output_type": "execute_result"
    }
   ],
   "source": [
    "# The TVD of a model simluation from its expected values\n",
    "tvd(sample_proportions(1423, model), jury.column('Eligible'))"
   ]
  },
  {
   "cell_type": "markdown",
   "metadata": {},
   "source": [
    "Let's run a lot of samples"
   ]
  },
  {
   "cell_type": "code",
   "execution_count": 14,
   "metadata": {
    "tags": []
   },
   "outputs": [],
   "source": [
    "def simulated_tvd():\n",
    "    return tvd(sample_proportions(1423, model), model)\n",
    "\n",
    "tvds = make_array()\n",
    "\n",
    "num_simulations = 10000\n",
    "for i in np.arange(num_simulations):\n",
    "    new_tvd = simulated_tvd()\n",
    "    tvds = np.append(tvds, new_tvd)"
   ]
  },
  {
   "cell_type": "code",
   "execution_count": 15,
   "metadata": {
    "tags": []
   },
   "outputs": [
    {
     "name": "stdout",
     "output_type": "stream",
     "text": [
      "Observed TVD: 0.14\n"
     ]
    },
    {
     "data": {
      "image/png": "[encoded data removed]",
      "text/plain": [
       "<Figure size 600x400 with 1 Axes>"
      ]
     },
     "metadata": {},
     "output_type": "display_data"
    }
   ],
   "source": [
    "title = 'Simulated TVDs (if model is true)'\n",
    "bins = np.arange(0, .05, .005)\n",
    "\n",
    "Table().with_column(title, tvds).hist(bins = bins)\n",
    "plots.ylim(-2, 55)\n",
    "plots.scatter(obsvd_tvd, 0, color='red', s=30)\n",
    "\n",
    "print('Observed TVD: ' + str(obsvd_tvd))"
   ]
  },
  {
   "cell_type": "markdown",
   "metadata": {},
   "source": [
    "How does are model compare to random sampling? \n",
    "The observed value is inconsistent with the distribution"
   ]
  },
  {
   "cell_type": "code",
   "execution_count": null,
   "metadata": {},
   "outputs": [],
   "source": []
  }
 ],
 "metadata": {
  "anaconda-cloud": {},
  "kernelspec": {
   "display_name": "Python 3 (ipykernel)",
   "language": "python",
   "name": "python3"
  },
  "language_info": {
   "codemirror_mode": {
    "name": "ipython",
    "version": 3
   },
   "file_extension": ".py",
   "mimetype": "text/x-python",
   "name": "python",
   "nbconvert_exporter": "python",
   "pygments_lexer": "ipython3",
   "version": "3.11.4"
  }
 },
 "nbformat": 4,
 "nbformat_minor": 4
}
