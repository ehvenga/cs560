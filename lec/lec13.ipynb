{
 "cells": [
  {
   "cell_type": "code",
   "execution_count": 1,
   "metadata": {
    "tags": []
   },
   "outputs": [],
   "source": [
    "from datascience import *\n",
    "import numpy as np\n",
    "\n",
    "%matplotlib inline\n",
    "import matplotlib.pyplot as plots\n",
    "plots.style.use('fivethirtyeight')"
   ]
  },
  {
   "cell_type": "markdown",
   "metadata": {},
   "source": [
    "## Comparison ##"
   ]
  },
  {
   "cell_type": "code",
   "execution_count": 2,
   "metadata": {
    "tags": []
   },
   "outputs": [
    {
     "data": {
      "text/plain": [
       "True"
      ]
     },
     "execution_count": 2,
     "metadata": {},
     "output_type": "execute_result"
    }
   ],
   "source": [
    "3 > 1"
   ]
  },
  {
   "cell_type": "code",
   "execution_count": 3,
   "metadata": {
    "tags": []
   },
   "outputs": [
    {
     "data": {
      "text/plain": [
       "bool"
      ]
     },
     "execution_count": 3,
     "metadata": {},
     "output_type": "execute_result"
    }
   ],
   "source": [
    "type(3 > 1)"
   ]
  },
  {
   "cell_type": "code",
   "execution_count": 4,
   "metadata": {
    "tags": []
   },
   "outputs": [
    {
     "data": {
      "text/plain": [
       "True"
      ]
     },
     "execution_count": 4,
     "metadata": {},
     "output_type": "execute_result"
    }
   ],
   "source": [
    "True"
   ]
  },
  {
   "cell_type": "code",
   "execution_count": 5,
   "metadata": {
    "tags": []
   },
   "outputs": [],
   "source": [
    "#true #needs to be capital T"
   ]
  },
  {
   "cell_type": "code",
   "execution_count": 6,
   "metadata": {
    "tags": []
   },
   "outputs": [],
   "source": [
    "#3 = 3 #can't assign to 3"
   ]
  },
  {
   "cell_type": "code",
   "execution_count": 7,
   "metadata": {
    "tags": []
   },
   "outputs": [
    {
     "data": {
      "text/plain": [
       "True"
      ]
     },
     "execution_count": 7,
     "metadata": {},
     "output_type": "execute_result"
    }
   ],
   "source": [
    "3 == 3.0 #implicit cast"
   ]
  },
  {
   "cell_type": "code",
   "execution_count": 8,
   "metadata": {
    "tags": []
   },
   "outputs": [
    {
     "data": {
      "text/plain": [
       "True"
      ]
     },
     "execution_count": 8,
     "metadata": {},
     "output_type": "execute_result"
    }
   ],
   "source": [
    "10 != 2"
   ]
  },
  {
   "cell_type": "code",
   "execution_count": 9,
   "metadata": {
    "tags": []
   },
   "outputs": [],
   "source": [
    "x = 14 #works with variables\n",
    "y = 3"
   ]
  },
  {
   "cell_type": "code",
   "execution_count": 10,
   "metadata": {
    "tags": []
   },
   "outputs": [
    {
     "data": {
      "text/plain": [
       "False"
      ]
     },
     "execution_count": 10,
     "metadata": {},
     "output_type": "execute_result"
    }
   ],
   "source": [
    "x > 15"
   ]
  },
  {
   "cell_type": "code",
   "execution_count": 11,
   "metadata": {
    "tags": []
   },
   "outputs": [
    {
     "data": {
      "text/plain": [
       "True"
      ]
     },
     "execution_count": 11,
     "metadata": {},
     "output_type": "execute_result"
    }
   ],
   "source": [
    "12 < x"
   ]
  },
  {
   "cell_type": "code",
   "execution_count": 12,
   "metadata": {
    "tags": []
   },
   "outputs": [
    {
     "data": {
      "text/plain": [
       "True"
      ]
     },
     "execution_count": 12,
     "metadata": {},
     "output_type": "execute_result"
    }
   ],
   "source": [
    "x < 20"
   ]
  },
  {
   "cell_type": "code",
   "execution_count": 13,
   "metadata": {
    "tags": []
   },
   "outputs": [
    {
     "data": {
      "text/plain": [
       "True"
      ]
     },
     "execution_count": 13,
     "metadata": {},
     "output_type": "execute_result"
    }
   ],
   "source": [
    "12 < x < 20 #You can chain comparisons"
   ]
  },
  {
   "cell_type": "code",
   "execution_count": 14,
   "metadata": {
    "tags": []
   },
   "outputs": [
    {
     "data": {
      "text/plain": [
       "True"
      ]
     },
     "execution_count": 14,
     "metadata": {},
     "output_type": "execute_result"
    }
   ],
   "source": [
    "10 < x-y < 13"
   ]
  },
  {
   "cell_type": "code",
   "execution_count": 15,
   "metadata": {
    "tags": []
   },
   "outputs": [
    {
     "data": {
      "text/plain": [
       "True"
      ]
     },
     "execution_count": 15,
     "metadata": {},
     "output_type": "execute_result"
    }
   ],
   "source": [
    "x > 13 and y < 3.14159 #and or not"
   ]
  },
  {
   "cell_type": "markdown",
   "metadata": {},
   "source": [
    "## Comparisons with arrays"
   ]
  },
  {
   "cell_type": "code",
   "execution_count": 16,
   "metadata": {
    "tags": []
   },
   "outputs": [],
   "source": [
    "pets = make_array('cat', 'cat', 'dog', 'cat', 'dog', 'rabbit')"
   ]
  },
  {
   "cell_type": "code",
   "execution_count": 17,
   "metadata": {
    "tags": []
   },
   "outputs": [
    {
     "data": {
      "text/plain": [
       "array([ True,  True, False,  True, False, False], dtype=bool)"
      ]
     },
     "execution_count": 17,
     "metadata": {},
     "output_type": "execute_result"
    }
   ],
   "source": [
    "pets == 'cat'"
   ]
  },
  {
   "cell_type": "code",
   "execution_count": 18,
   "metadata": {
    "tags": []
   },
   "outputs": [
    {
     "data": {
      "text/plain": [
       "3"
      ]
     },
     "execution_count": 18,
     "metadata": {},
     "output_type": "execute_result"
    }
   ],
   "source": [
    "1 + 1 + 0 + 1 + 0 + 0"
   ]
  },
  {
   "cell_type": "code",
   "execution_count": 19,
   "metadata": {
    "tags": []
   },
   "outputs": [
    {
     "data": {
      "text/plain": [
       "3"
      ]
     },
     "execution_count": 19,
     "metadata": {},
     "output_type": "execute_result"
    }
   ],
   "source": [
    "sum(make_array(True, True, False, True, False, False))"
   ]
  },
  {
   "cell_type": "code",
   "execution_count": 20,
   "metadata": {
    "tags": []
   },
   "outputs": [
    {
     "data": {
      "text/plain": [
       "2"
      ]
     },
     "execution_count": 20,
     "metadata": {},
     "output_type": "execute_result"
    }
   ],
   "source": [
    "sum(pets == 'dog')"
   ]
  },
  {
   "cell_type": "code",
   "execution_count": 44,
   "metadata": {
    "tags": []
   },
   "outputs": [
    {
     "data": {
      "text/plain": [
       "2"
      ]
     },
     "execution_count": 44,
     "metadata": {},
     "output_type": "execute_result"
    }
   ],
   "source": [
    "np.count_nonzero(pets == 'dog')"
   ]
  },
  {
   "cell_type": "code",
   "execution_count": 45,
   "metadata": {
    "tags": []
   },
   "outputs": [],
   "source": [
    "x = np.arange(20, 31)"
   ]
  },
  {
   "cell_type": "code",
   "execution_count": 46,
   "metadata": {
    "scrolled": true,
    "tags": []
   },
   "outputs": [
    {
     "data": {
      "text/plain": [
       "array([False, False, False, False, False, False, False, False, False,\n",
       "        True,  True], dtype=bool)"
      ]
     },
     "execution_count": 46,
     "metadata": {},
     "output_type": "execute_result"
    }
   ],
   "source": [
    "x > 28"
   ]
  },
  {
   "cell_type": "markdown",
   "metadata": {},
   "source": [
    "## Simulation"
   ]
  },
  {
   "cell_type": "markdown",
   "metadata": {},
   "source": [
    "Let's play a game: we each roll a die. \n",
    "\n",
    "If my number is bigger: you pay me a dollar.\n",
    "\n",
    "If they're the same: we do nothing.\n",
    "\n",
    "If your number is bigger: I pay you a dollar."
   ]
  },
  {
   "cell_type": "markdown",
   "metadata": {},
   "source": [
    "Steps:\n",
    "1. Find a way to simulate two dice rolls.\n",
    "2. Compute how much money we win/lose based on the result.\n",
    "3. Do steps 1 and 2 10,000 times."
   ]
  },
  {
   "cell_type": "markdown",
   "metadata": {},
   "source": [
    "### Conditional Statements"
   ]
  },
  {
   "cell_type": "code",
   "execution_count": 47,
   "metadata": {
    "tags": []
   },
   "outputs": [],
   "source": [
    "# Work in progress\n",
    "def one_round(my_roll, your_roll):\n",
    "    if my_roll > your_roll:\n",
    "        return 1"
   ]
  },
  {
   "cell_type": "code",
   "execution_count": 48,
   "metadata": {
    "tags": []
   },
   "outputs": [
    {
     "data": {
      "text/plain": [
       "1"
      ]
     },
     "execution_count": 48,
     "metadata": {},
     "output_type": "execute_result"
    }
   ],
   "source": [
    "one_round(4, 3)"
   ]
  },
  {
   "cell_type": "code",
   "execution_count": 49,
   "metadata": {
    "tags": []
   },
   "outputs": [],
   "source": [
    "one_round(2, 6)"
   ]
  },
  {
   "cell_type": "code",
   "execution_count": 50,
   "metadata": {
    "tags": []
   },
   "outputs": [],
   "source": [
    "# Final correct version\n",
    "def one_round(my_roll, your_roll):\n",
    "    if my_roll > your_roll:\n",
    "        return 1\n",
    "    elif your_roll > my_roll:\n",
    "        return -1\n",
    "    elif your_roll == my_roll:\n",
    "        return 0"
   ]
  },
  {
   "cell_type": "code",
   "execution_count": 51,
   "metadata": {
    "tags": []
   },
   "outputs": [
    {
     "data": {
      "text/plain": [
       "0"
      ]
     },
     "execution_count": 51,
     "metadata": {},
     "output_type": "execute_result"
    }
   ],
   "source": [
    "one_round(1, 1)"
   ]
  },
  {
   "cell_type": "code",
   "execution_count": 52,
   "metadata": {
    "tags": []
   },
   "outputs": [
    {
     "data": {
      "text/plain": [
       "1"
      ]
     },
     "execution_count": 52,
     "metadata": {},
     "output_type": "execute_result"
    }
   ],
   "source": [
    "one_round(6, 5)"
   ]
  },
  {
   "cell_type": "code",
   "execution_count": 53,
   "metadata": {
    "tags": []
   },
   "outputs": [
    {
     "data": {
      "text/plain": [
       "1"
      ]
     },
     "execution_count": 53,
     "metadata": {},
     "output_type": "execute_result"
    }
   ],
   "source": [
    "one_round(7, -1)"
   ]
  },
  {
   "cell_type": "markdown",
   "metadata": {},
   "source": [
    "### Random Selection"
   ]
  },
  {
   "cell_type": "code",
   "execution_count": 54,
   "metadata": {
    "tags": []
   },
   "outputs": [],
   "source": [
    "mornings = make_array('wake up', 'sleep in')"
   ]
  },
  {
   "cell_type": "code",
   "execution_count": 55,
   "metadata": {
    "tags": []
   },
   "outputs": [
    {
     "data": {
      "text/plain": [
       "'wake up'"
      ]
     },
     "execution_count": 55,
     "metadata": {},
     "output_type": "execute_result"
    }
   ],
   "source": [
    "np.random.choice(mornings)"
   ]
  },
  {
   "cell_type": "code",
   "execution_count": 56,
   "metadata": {
    "tags": []
   },
   "outputs": [
    {
     "data": {
      "text/plain": [
       "'sleep in'"
      ]
     },
     "execution_count": 56,
     "metadata": {},
     "output_type": "execute_result"
    }
   ],
   "source": [
    "np.random.choice(mornings)"
   ]
  },
  {
   "cell_type": "code",
   "execution_count": 57,
   "metadata": {
    "tags": []
   },
   "outputs": [
    {
     "data": {
      "text/plain": [
       "'sleep in'"
      ]
     },
     "execution_count": 57,
     "metadata": {},
     "output_type": "execute_result"
    }
   ],
   "source": [
    "np.random.choice(mornings)"
   ]
  },
  {
   "cell_type": "code",
   "execution_count": 58,
   "metadata": {
    "tags": []
   },
   "outputs": [
    {
     "data": {
      "text/plain": [
       "array(['sleep in', 'sleep in', 'wake up', 'wake up', 'wake up', 'wake up',\n",
       "       'wake up'],\n",
       "      dtype='<U8')"
      ]
     },
     "execution_count": 58,
     "metadata": {},
     "output_type": "execute_result"
    }
   ],
   "source": [
    "np.random.choice(mornings, 7)"
   ]
  },
  {
   "cell_type": "code",
   "execution_count": 59,
   "metadata": {
    "tags": []
   },
   "outputs": [
    {
     "data": {
      "text/plain": [
       "4"
      ]
     },
     "execution_count": 59,
     "metadata": {},
     "output_type": "execute_result"
    }
   ],
   "source": [
    "sum(np.random.choice(mornings, 7) == 'wake up') #Bad, this and next cell are two different weeks"
   ]
  },
  {
   "cell_type": "code",
   "execution_count": 60,
   "metadata": {
    "tags": []
   },
   "outputs": [
    {
     "data": {
      "text/plain": [
       "4"
      ]
     },
     "execution_count": 60,
     "metadata": {},
     "output_type": "execute_result"
    }
   ],
   "source": [
    "sum(np.random.choice(mornings, 7) == 'sleep in')"
   ]
  },
  {
   "cell_type": "code",
   "execution_count": 61,
   "metadata": {
    "tags": []
   },
   "outputs": [
    {
     "data": {
      "text/plain": [
       "array(['wake up', 'wake up', 'wake up', 'sleep in', 'sleep in', 'wake up',\n",
       "       'sleep in'],\n",
       "      dtype='<U8')"
      ]
     },
     "execution_count": 61,
     "metadata": {},
     "output_type": "execute_result"
    }
   ],
   "source": [
    "morning_week = np.random.choice(mornings, 7) #instead save and then sum\n",
    "morning_week"
   ]
  },
  {
   "cell_type": "code",
   "execution_count": 62,
   "metadata": {
    "tags": []
   },
   "outputs": [
    {
     "data": {
      "text/plain": [
       "4"
      ]
     },
     "execution_count": 62,
     "metadata": {},
     "output_type": "execute_result"
    }
   ],
   "source": [
    "sum(morning_week == 'wake up')"
   ]
  },
  {
   "cell_type": "code",
   "execution_count": 63,
   "metadata": {
    "tags": []
   },
   "outputs": [
    {
     "data": {
      "text/plain": [
       "3"
      ]
     },
     "execution_count": 63,
     "metadata": {},
     "output_type": "execute_result"
    }
   ],
   "source": [
    "sum(morning_week == 'sleep in') #now it totals to 7"
   ]
  },
  {
   "cell_type": "code",
   "execution_count": 64,
   "metadata": {
    "tags": []
   },
   "outputs": [],
   "source": [
    "die_faces = np.arange(1, 7) #https://www.google.com/search?q=dice+pictures"
   ]
  },
  {
   "cell_type": "code",
   "execution_count": 65,
   "metadata": {
    "tags": []
   },
   "outputs": [
    {
     "data": {
      "text/plain": [
       "2"
      ]
     },
     "execution_count": 65,
     "metadata": {},
     "output_type": "execute_result"
    }
   ],
   "source": [
    "np.random.choice(die_faces)"
   ]
  },
  {
   "cell_type": "code",
   "execution_count": 66,
   "metadata": {
    "tags": []
   },
   "outputs": [],
   "source": [
    "def simulate_one_round():\n",
    "    my_roll = np.random.choice(die_faces)\n",
    "    your_roll = np.random.choice(die_faces)\n",
    "    return one_round(my_roll, your_roll)"
   ]
  },
  {
   "cell_type": "code",
   "execution_count": 67,
   "metadata": {
    "tags": []
   },
   "outputs": [
    {
     "data": {
      "text/plain": [
       "-1"
      ]
     },
     "execution_count": 67,
     "metadata": {},
     "output_type": "execute_result"
    }
   ],
   "source": [
    "simulate_one_round()"
   ]
  },
  {
   "cell_type": "markdown",
   "metadata": {},
   "source": [
    "### Appending Arrays"
   ]
  },
  {
   "cell_type": "code",
   "execution_count": 68,
   "metadata": {
    "tags": []
   },
   "outputs": [],
   "source": [
    "first = np.arange(4)\n",
    "second = np.arange(10, 17)"
   ]
  },
  {
   "cell_type": "code",
   "execution_count": 69,
   "metadata": {
    "tags": []
   },
   "outputs": [
    {
     "data": {
      "text/plain": [
       "array([0, 1, 2, 3, 6])"
      ]
     },
     "execution_count": 69,
     "metadata": {},
     "output_type": "execute_result"
    }
   ],
   "source": [
    "np.append(first, 6)"
   ]
  },
  {
   "cell_type": "code",
   "execution_count": 70,
   "metadata": {
    "tags": []
   },
   "outputs": [
    {
     "data": {
      "text/plain": [
       "array([0, 1, 2, 3])"
      ]
     },
     "execution_count": 70,
     "metadata": {},
     "output_type": "execute_result"
    }
   ],
   "source": [
    "first"
   ]
  },
  {
   "cell_type": "code",
   "execution_count": 71,
   "metadata": {
    "tags": []
   },
   "outputs": [
    {
     "data": {
      "text/plain": [
       "array([ 0,  1,  2,  3, 10, 11, 12, 13, 14, 15, 16])"
      ]
     },
     "execution_count": 71,
     "metadata": {},
     "output_type": "execute_result"
    }
   ],
   "source": [
    "np.append(first, second)"
   ]
  },
  {
   "cell_type": "code",
   "execution_count": 72,
   "metadata": {
    "tags": []
   },
   "outputs": [
    {
     "data": {
      "text/plain": [
       "array([0, 1, 2, 3])"
      ]
     },
     "execution_count": 72,
     "metadata": {},
     "output_type": "execute_result"
    }
   ],
   "source": [
    "first #doesn't change first without assignment"
   ]
  },
  {
   "cell_type": "code",
   "execution_count": 73,
   "metadata": {
    "tags": []
   },
   "outputs": [
    {
     "data": {
      "text/plain": [
       "array([10, 11, 12, 13, 14, 15, 16])"
      ]
     },
     "execution_count": 73,
     "metadata": {},
     "output_type": "execute_result"
    }
   ],
   "source": [
    "second"
   ]
  },
  {
   "cell_type": "markdown",
   "metadata": {},
   "source": [
    "### Repeated Betting ###"
   ]
  },
  {
   "cell_type": "code",
   "execution_count": 74,
   "metadata": {
    "tags": []
   },
   "outputs": [],
   "source": [
    "results = make_array()"
   ]
  },
  {
   "cell_type": "code",
   "execution_count": 75,
   "metadata": {
    "tags": []
   },
   "outputs": [
    {
     "data": {
      "text/plain": [
       "array([-1.])"
      ]
     },
     "execution_count": 75,
     "metadata": {},
     "output_type": "execute_result"
    }
   ],
   "source": [
    "results = np.append(results, simulate_one_round())\n",
    "results"
   ]
  },
  {
   "cell_type": "markdown",
   "metadata": {},
   "source": [
    "## `For` Statements"
   ]
  },
  {
   "cell_type": "code",
   "execution_count": 76,
   "metadata": {
    "scrolled": true,
    "tags": []
   },
   "outputs": [
    {
     "name": "stdout",
     "output_type": "stream",
     "text": [
      "I love my cat\n",
      "I love my dog\n",
      "I love my rabbit\n"
     ]
    }
   ],
   "source": [
    "for pet in make_array('cat', 'dog', 'rabbit'):\n",
    "    print('I love my ' + pet)"
   ]
  },
  {
   "cell_type": "code",
   "execution_count": 77,
   "metadata": {
    "tags": []
   },
   "outputs": [
    {
     "name": "stdout",
     "output_type": "stream",
     "text": [
      "I love my cat\n",
      "I love my dog\n",
      "I love my rabbit\n"
     ]
    }
   ],
   "source": [
    "pet = make_array('cat', 'dog', 'rabbit').item(0)\n",
    "print('I love my ' + pet)\n",
    "\n",
    "pet = make_array('cat', 'dog', 'rabbit').item(1)\n",
    "print('I love my ' + pet)\n",
    "\n",
    "pet = make_array('cat', 'dog', 'rabbit').item(2)\n",
    "print('I love my ' + pet)"
   ]
  },
  {
   "cell_type": "code",
   "execution_count": 78,
   "metadata": {
    "tags": []
   },
   "outputs": [
    {
     "data": {
      "text/plain": [
       "array([ 1.,  1., -1., -1.,  1.])"
      ]
     },
     "execution_count": 78,
     "metadata": {},
     "output_type": "execute_result"
    }
   ],
   "source": [
    "game_outcomes = make_array()\n",
    "\n",
    "for i in np.arange(5):\n",
    "    game_outcomes = np.append(game_outcomes, simulate_one_round())\n",
    "    \n",
    "game_outcomes"
   ]
  },
  {
   "cell_type": "code",
   "execution_count": 79,
   "metadata": {
    "tags": []
   },
   "outputs": [
    {
     "data": {
      "text/plain": [
       "array([-1.,  1.,  0., ..., -1.,  0.,  1.])"
      ]
     },
     "execution_count": 79,
     "metadata": {},
     "output_type": "execute_result"
    }
   ],
   "source": [
    "game_outcomes = make_array()\n",
    "\n",
    "for i in np.arange(10000):\n",
    "    game_outcomes = np.append(game_outcomes, simulate_one_round())\n",
    "    \n",
    "game_outcomes"
   ]
  },
  {
   "cell_type": "code",
   "execution_count": 80,
   "metadata": {
    "tags": []
   },
   "outputs": [
    {
     "data": {
      "text/plain": [
       "10000"
      ]
     },
     "execution_count": 80,
     "metadata": {},
     "output_type": "execute_result"
    }
   ],
   "source": [
    "len(game_outcomes)"
   ]
  },
  {
   "cell_type": "code",
   "execution_count": 81,
   "metadata": {
    "tags": []
   },
   "outputs": [],
   "source": [
    "results = Table().with_column('My winnings', game_outcomes)"
   ]
  },
  {
   "cell_type": "code",
   "execution_count": 82,
   "metadata": {
    "tags": []
   },
   "outputs": [
    {
     "data": {
      "text/html": [
       "<table border=\"1\" class=\"dataframe\">\n",
       "    <thead>\n",
       "        <tr>\n",
       "            <th>My winnings</th>\n",
       "        </tr>\n",
       "    </thead>\n",
       "    <tbody>\n",
       "        <tr>\n",
       "            <td>-1         </td>\n",
       "        </tr>\n",
       "        <tr>\n",
       "            <td>1          </td>\n",
       "        </tr>\n",
       "        <tr>\n",
       "            <td>0          </td>\n",
       "        </tr>\n",
       "        <tr>\n",
       "            <td>-1         </td>\n",
       "        </tr>\n",
       "        <tr>\n",
       "            <td>-1         </td>\n",
       "        </tr>\n",
       "        <tr>\n",
       "            <td>1          </td>\n",
       "        </tr>\n",
       "        <tr>\n",
       "            <td>0          </td>\n",
       "        </tr>\n",
       "        <tr>\n",
       "            <td>1          </td>\n",
       "        </tr>\n",
       "        <tr>\n",
       "            <td>0          </td>\n",
       "        </tr>\n",
       "        <tr>\n",
       "            <td>1          </td>\n",
       "        </tr>\n",
       "    </tbody>\n",
       "</table>\n",
       "<p>... (9990 rows omitted)</p>"
      ],
      "text/plain": [
       "My winnings\n",
       "-1\n",
       "1\n",
       "0\n",
       "-1\n",
       "-1\n",
       "1\n",
       "0\n",
       "1\n",
       "0\n",
       "1\n",
       "... (9990 rows omitted)"
      ]
     },
     "execution_count": 82,
     "metadata": {},
     "output_type": "execute_result"
    }
   ],
   "source": [
    "results"
   ]
  },
  {
   "cell_type": "code",
   "execution_count": 83,
   "metadata": {
    "tags": []
   },
   "outputs": [
    {
     "data": {
      "image/png": "[encoded data removed]",
      "text/plain": [
       "<Figure size 600x400 with 1 Axes>"
      ]
     },
     "metadata": {},
     "output_type": "display_data"
    }
   ],
   "source": [
    "results.group('My winnings').barh('My winnings')"
   ]
  },
  {
   "cell_type": "code",
   "execution_count": 84,
   "metadata": {
    "tags": []
   },
   "outputs": [
    {
     "data": {
      "text/html": [
       "<table border=\"1\" class=\"dataframe\">\n",
       "    <thead>\n",
       "        <tr>\n",
       "            <th>My winnings</th> <th>count</th>\n",
       "        </tr>\n",
       "    </thead>\n",
       "    <tbody>\n",
       "        <tr>\n",
       "            <td>-1         </td> <td>4189 </td>\n",
       "        </tr>\n",
       "        <tr>\n",
       "            <td>0          </td> <td>1645 </td>\n",
       "        </tr>\n",
       "        <tr>\n",
       "            <td>1          </td> <td>4166 </td>\n",
       "        </tr>\n",
       "    </tbody>\n",
       "</table>"
      ],
      "text/plain": [
       "My winnings | count\n",
       "-1          | 4189\n",
       "0           | 1645\n",
       "1           | 4166"
      ]
     },
     "execution_count": 84,
     "metadata": {},
     "output_type": "execute_result"
    }
   ],
   "source": [
    "results.group('My winnings')"
   ]
  },
  {
   "cell_type": "code",
   "execution_count": 85,
   "metadata": {
    "tags": []
   },
   "outputs": [],
   "source": [
    "# Bonus question: This simulation is relatively simple. \n",
    "# Can you find a way to run it without using a for loop?"
   ]
  },
  {
   "cell_type": "markdown",
   "metadata": {},
   "source": [
    "### Another example: simulating heads in 100 coin tosses"
   ]
  },
  {
   "cell_type": "code",
   "execution_count": 86,
   "metadata": {
    "tags": []
   },
   "outputs": [],
   "source": [
    "coin = make_array('heads', 'tails')"
   ]
  },
  {
   "cell_type": "code",
   "execution_count": 87,
   "metadata": {
    "tags": []
   },
   "outputs": [
    {
     "data": {
      "text/plain": [
       "44"
      ]
     },
     "execution_count": 87,
     "metadata": {},
     "output_type": "execute_result"
    }
   ],
   "source": [
    "sum(np.random.choice(coin, 100) == 'heads')"
   ]
  },
  {
   "cell_type": "code",
   "execution_count": 88,
   "metadata": {
    "tags": []
   },
   "outputs": [],
   "source": [
    "# Simulate one outcome\n",
    "\n",
    "def num_heads():\n",
    "    return sum(np.random.choice(coin, 100) == 'heads')"
   ]
  },
  {
   "cell_type": "code",
   "execution_count": 89,
   "metadata": {
    "tags": []
   },
   "outputs": [],
   "source": [
    "# Decide how many times you want to repeat the experiment\n",
    "\n",
    "repetitions = 10000"
   ]
  },
  {
   "cell_type": "code",
   "execution_count": 90,
   "metadata": {
    "tags": []
   },
   "outputs": [],
   "source": [
    "# Simulate that many outcomes\n",
    "\n",
    "outcomes = make_array()\n",
    "\n",
    "for i in np.arange(repetitions):\n",
    "    outcomes = np.append(outcomes, num_heads())"
   ]
  },
  {
   "cell_type": "code",
   "execution_count": 91,
   "metadata": {
    "tags": []
   },
   "outputs": [
    {
     "data": {
      "image/png": "[encoded data removed]",
      "text/plain": [
       "<Figure size 600x400 with 1 Axes>"
      ]
     },
     "metadata": {},
     "output_type": "display_data"
    }
   ],
   "source": [
    "heads = Table().with_column('Heads', outcomes)\n",
    "heads.hist(bins = np.arange(29.5, 70.6))"
   ]
  },
  {
   "cell_type": "markdown",
   "metadata": {},
   "source": [
    "### Optional: Bay Area Bike Share"
   ]
  },
  {
   "cell_type": "code",
   "execution_count": 92,
   "metadata": {
    "tags": []
   },
   "outputs": [
    {
     "data": {
      "text/html": [
       "<table border=\"1\" class=\"dataframe\">\n",
       "    <thead>\n",
       "        <tr>\n",
       "            <th>Trip ID</th> <th>Duration</th> <th>Start Date</th> <th>Start Station</th> <th>Start Terminal</th> <th>End Date</th> <th>End Station</th> <th>End Terminal</th> <th>Bike #</th> <th>Subscriber Type</th> <th>Zip Code</th>\n",
       "        </tr>\n",
       "    </thead>\n",
       "    <tbody>\n",
       "        <tr>\n",
       "            <td>913460 </td> <td>765     </td> <td>8/31/2015 23:26</td> <td>Harry Bridges Plaza (Ferry Building)         </td> <td>50            </td> <td>8/31/2015 23:39</td> <td>San Francisco Caltrain (Townsend at 4th)     </td> <td>70          </td> <td>288   </td> <td>Subscriber     </td> <td>2139    </td>\n",
       "        </tr>\n",
       "        <tr>\n",
       "            <td>913459 </td> <td>1036    </td> <td>8/31/2015 23:11</td> <td>San Antonio Shopping Center                  </td> <td>31            </td> <td>8/31/2015 23:28</td> <td>Mountain View City Hall                      </td> <td>27          </td> <td>35    </td> <td>Subscriber     </td> <td>95032   </td>\n",
       "        </tr>\n",
       "        <tr>\n",
       "            <td>913455 </td> <td>307     </td> <td>8/31/2015 23:13</td> <td>Post at Kearny                               </td> <td>47            </td> <td>8/31/2015 23:18</td> <td>2nd at South Park                            </td> <td>64          </td> <td>468   </td> <td>Subscriber     </td> <td>94107   </td>\n",
       "        </tr>\n",
       "        <tr>\n",
       "            <td>913454 </td> <td>409     </td> <td>8/31/2015 23:10</td> <td>San Jose City Hall                           </td> <td>10            </td> <td>8/31/2015 23:17</td> <td>San Salvador at 1st                          </td> <td>8           </td> <td>68    </td> <td>Subscriber     </td> <td>95113   </td>\n",
       "        </tr>\n",
       "        <tr>\n",
       "            <td>913453 </td> <td>789     </td> <td>8/31/2015 23:09</td> <td>Embarcadero at Folsom                        </td> <td>51            </td> <td>8/31/2015 23:22</td> <td>Embarcadero at Sansome                       </td> <td>60          </td> <td>487   </td> <td>Customer       </td> <td>9069    </td>\n",
       "        </tr>\n",
       "        <tr>\n",
       "            <td>913452 </td> <td>293     </td> <td>8/31/2015 23:07</td> <td>Yerba Buena Center of the Arts (3rd @ Howard)</td> <td>68            </td> <td>8/31/2015 23:12</td> <td>San Francisco Caltrain (Townsend at 4th)     </td> <td>70          </td> <td>538   </td> <td>Subscriber     </td> <td>94118   </td>\n",
       "        </tr>\n",
       "        <tr>\n",
       "            <td>913451 </td> <td>896     </td> <td>8/31/2015 23:07</td> <td>Embarcadero at Folsom                        </td> <td>51            </td> <td>8/31/2015 23:22</td> <td>Embarcadero at Sansome                       </td> <td>60          </td> <td>363   </td> <td>Customer       </td> <td>92562   </td>\n",
       "        </tr>\n",
       "        <tr>\n",
       "            <td>913450 </td> <td>255     </td> <td>8/31/2015 22:16</td> <td>Embarcadero at Sansome                       </td> <td>60            </td> <td>8/31/2015 22:20</td> <td>Steuart at Market                            </td> <td>74          </td> <td>470   </td> <td>Subscriber     </td> <td>94111   </td>\n",
       "        </tr>\n",
       "        <tr>\n",
       "            <td>913449 </td> <td>126     </td> <td>8/31/2015 22:12</td> <td>Beale at Market                              </td> <td>56            </td> <td>8/31/2015 22:15</td> <td>Temporary Transbay Terminal (Howard at Beale)</td> <td>55          </td> <td>439   </td> <td>Subscriber     </td> <td>94130   </td>\n",
       "        </tr>\n",
       "        <tr>\n",
       "            <td>913448 </td> <td>932     </td> <td>8/31/2015 21:57</td> <td>Post at Kearny                               </td> <td>47            </td> <td>8/31/2015 22:12</td> <td>South Van Ness at Market                     </td> <td>66          </td> <td>472   </td> <td>Subscriber     </td> <td>94702   </td>\n",
       "        </tr>\n",
       "    </tbody>\n",
       "</table>\n",
       "<p>... (354142 rows omitted)</p>"
      ],
      "text/plain": [
       "Trip ID | Duration | Start Date      | Start Station                                 | Start Terminal | End Date        | End Station                                   | End Terminal | Bike # | Subscriber Type | Zip Code\n",
       "913460  | 765      | 8/31/2015 23:26 | Harry Bridges Plaza (Ferry Building)          | 50             | 8/31/2015 23:39 | San Francisco Caltrain (Townsend at 4th)      | 70           | 288    | Subscriber      | 2139\n",
       "913459  | 1036     | 8/31/2015 23:11 | San Antonio Shopping Center                   | 31             | 8/31/2015 23:28 | Mountain View City Hall                       | 27           | 35     | Subscriber      | 95032\n",
       "913455  | 307      | 8/31/2015 23:13 | Post at Kearny                                | 47             | 8/31/2015 23:18 | 2nd at South Park                             | 64           | 468    | Subscriber      | 94107\n",
       "913454  | 409      | 8/31/2015 23:10 | San Jose City Hall                            | 10             | 8/31/2015 23:17 | San Salvador at 1st                           | 8            | 68     | Subscriber      | 95113\n",
       "913453  | 789      | 8/31/2015 23:09 | Embarcadero at Folsom                         | 51             | 8/31/2015 23:22 | Embarcadero at Sansome                        | 60           | 487    | Customer        | 9069\n",
       "913452  | 293      | 8/31/2015 23:07 | Yerba Buena Center of the Arts (3rd @ Howard) | 68             | 8/31/2015 23:12 | San Francisco Caltrain (Townsend at 4th)      | 70           | 538    | Subscriber      | 94118\n",
       "913451  | 896      | 8/31/2015 23:07 | Embarcadero at Folsom                         | 51             | 8/31/2015 23:22 | Embarcadero at Sansome                        | 60           | 363    | Customer        | 92562\n",
       "913450  | 255      | 8/31/2015 22:16 | Embarcadero at Sansome                        | 60             | 8/31/2015 22:20 | Steuart at Market                             | 74           | 470    | Subscriber      | 94111\n",
       "913449  | 126      | 8/31/2015 22:12 | Beale at Market                               | 56             | 8/31/2015 22:15 | Temporary Transbay Terminal (Howard at Beale) | 55           | 439    | Subscriber      | 94130\n",
       "913448  | 932      | 8/31/2015 21:57 | Post at Kearny                                | 47             | 8/31/2015 22:12 | South Van Ness at Market                      | 66           | 472    | Subscriber      | 94702\n",
       "... (354142 rows omitted)"
      ]
     },
     "execution_count": 92,
     "metadata": {},
     "output_type": "execute_result"
    }
   ],
   "source": [
    "trip = Table.read_table('trip.csv')\n",
    "trip"
   ]
  },
  {
   "cell_type": "code",
   "execution_count": 93,
   "metadata": {
    "tags": []
   },
   "outputs": [
    {
     "data": {
      "image/png": "[encoded data removed]",
      "text/plain": [
       "<Figure size 600x400 with 1 Axes>"
      ]
     },
     "metadata": {},
     "output_type": "display_data"
    }
   ],
   "source": [
    "commute = trip.where('Duration', are.below(1800))\n",
    "commute.hist('Duration')"
   ]
  },
  {
   "cell_type": "code",
   "execution_count": 94,
   "metadata": {
    "tags": []
   },
   "outputs": [
    {
     "data": {
      "image/png": "[encoded data removed]",
      "text/plain": [
       "<Figure size 600x400 with 1 Axes>"
      ]
     },
     "metadata": {},
     "output_type": "display_data"
    }
   ],
   "source": [
    "commute.hist('Duration', bins=60, unit='second')"
   ]
  },
  {
   "cell_type": "code",
   "execution_count": 95,
   "metadata": {
    "tags": []
   },
   "outputs": [
    {
     "data": {
      "text/plain": [
       "37.5"
      ]
     },
     "execution_count": 95,
     "metadata": {},
     "output_type": "execute_result"
    }
   ],
   "source": [
    "# Percent of people who have a ride duration between 500 and 250 seconds\n",
    "(500-250) * 0.15 "
   ]
  },
  {
   "cell_type": "code",
   "execution_count": 96,
   "metadata": {
    "tags": []
   },
   "outputs": [
    {
     "data": {
      "text/html": [
       "<table border=\"1\" class=\"dataframe\">\n",
       "    <thead>\n",
       "        <tr>\n",
       "            <th>Start Station</th> <th>count</th>\n",
       "        </tr>\n",
       "    </thead>\n",
       "    <tbody>\n",
       "        <tr>\n",
       "            <td>San Francisco Caltrain (Townsend at 4th)     </td> <td>25858</td>\n",
       "        </tr>\n",
       "        <tr>\n",
       "            <td>San Francisco Caltrain 2 (330 Townsend)      </td> <td>21523</td>\n",
       "        </tr>\n",
       "        <tr>\n",
       "            <td>Harry Bridges Plaza (Ferry Building)         </td> <td>15543</td>\n",
       "        </tr>\n",
       "        <tr>\n",
       "            <td>Temporary Transbay Terminal (Howard at Beale)</td> <td>14298</td>\n",
       "        </tr>\n",
       "        <tr>\n",
       "            <td>2nd at Townsend                              </td> <td>13674</td>\n",
       "        </tr>\n",
       "        <tr>\n",
       "            <td>Townsend at 7th                              </td> <td>13579</td>\n",
       "        </tr>\n",
       "        <tr>\n",
       "            <td>Steuart at Market                            </td> <td>13215</td>\n",
       "        </tr>\n",
       "        <tr>\n",
       "            <td>Embarcadero at Sansome                       </td> <td>12842</td>\n",
       "        </tr>\n",
       "        <tr>\n",
       "            <td>Market at 10th                               </td> <td>11523</td>\n",
       "        </tr>\n",
       "        <tr>\n",
       "            <td>Market at Sansome                            </td> <td>11023</td>\n",
       "        </tr>\n",
       "    </tbody>\n",
       "</table>\n",
       "<p>... (60 rows omitted)</p>"
      ],
      "text/plain": [
       "Start Station                                 | count\n",
       "San Francisco Caltrain (Townsend at 4th)      | 25858\n",
       "San Francisco Caltrain 2 (330 Townsend)       | 21523\n",
       "Harry Bridges Plaza (Ferry Building)          | 15543\n",
       "Temporary Transbay Terminal (Howard at Beale) | 14298\n",
       "2nd at Townsend                               | 13674\n",
       "Townsend at 7th                               | 13579\n",
       "Steuart at Market                             | 13215\n",
       "Embarcadero at Sansome                        | 12842\n",
       "Market at 10th                                | 11523\n",
       "Market at Sansome                             | 11023\n",
       "... (60 rows omitted)"
      ]
     },
     "execution_count": 96,
     "metadata": {},
     "output_type": "execute_result"
    }
   ],
   "source": [
    "starts = commute.group('Start Station').sort('count', descending=True)\n",
    "starts"
   ]
  },
  {
   "cell_type": "code",
   "execution_count": 97,
   "metadata": {
    "tags": []
   },
   "outputs": [
    {
     "data": {
      "text/html": [
       "<table border=\"1\" class=\"dataframe\">\n",
       "    <thead>\n",
       "        <tr>\n",
       "            <th>End Station</th> <th>2nd at Folsom</th> <th>2nd at South Park</th> <th>2nd at Townsend</th> <th>5th at Howard</th> <th>Adobe on Almaden</th> <th>Arena Green / SAP Center</th> <th>Beale at Market</th> <th>Broadway St at Battery St</th> <th>California Ave Caltrain Station</th> <th>Castro Street and El Camino Real</th> <th>Civic Center BART (7th at Market)</th> <th>Clay at Battery</th> <th>Commercial at Montgomery</th> <th>Cowper at University</th> <th>Davis at Jackson</th> <th>Embarcadero at Bryant</th> <th>Embarcadero at Folsom</th> <th>Embarcadero at Sansome</th> <th>Embarcadero at Vallejo</th> <th>Evelyn Park and Ride</th> <th>Franklin at Maple</th> <th>Golden Gate at Polk</th> <th>Grant Avenue at Columbus Avenue</th> <th>Harry Bridges Plaza (Ferry Building)</th> <th>Howard at 2nd</th> <th>Japantown</th> <th>MLK Library</th> <th>Market at 10th</th> <th>Market at 4th</th> <th>Market at Sansome</th> <th>Mechanics Plaza (Market at Battery)</th> <th>Mezes Park</th> <th>Mountain View Caltrain Station</th> <th>Mountain View City Hall</th> <th>Palo Alto Caltrain Station</th> <th>Park at Olive</th> <th>Paseo de San Antonio</th> <th>Post at Kearny</th> <th>Powell Street BART</th> <th>Powell at Post (Union Square)</th> <th>Redwood City Caltrain Station</th> <th>Redwood City Medical Center</th> <th>Redwood City Public Library</th> <th>Rengstorff Avenue / California Street</th> <th>Ryland Park</th> <th>SJSU - San Salvador at 9th</th> <th>SJSU 4th at San Carlos</th> <th>San Antonio Caltrain Station</th> <th>San Antonio Shopping Center</th> <th>San Francisco Caltrain (Townsend at 4th)</th> <th>San Francisco Caltrain 2 (330 Townsend)</th> <th>San Francisco City Hall</th> <th>San Jose City Hall</th> <th>San Jose Civic Center</th> <th>San Jose Diridon Caltrain Station</th> <th>San Mateo County Center</th> <th>San Pedro Square</th> <th>San Salvador at 1st</th> <th>Santa Clara County Civic Center</th> <th>Santa Clara at Almaden</th> <th>South Van Ness at Market</th> <th>Spear at Folsom</th> <th>St James Park</th> <th>Stanford in Redwood City</th> <th>Steuart at Market</th> <th>Temporary Transbay Terminal (Howard at Beale)</th> <th>Townsend at 7th</th> <th>University and Emerson</th> <th>Washington at Kearny</th> <th>Yerba Buena Center of the Arts (3rd @ Howard)</th>\n",
       "        </tr>\n",
       "    </thead>\n",
       "    <tbody>\n",
       "        <tr>\n",
       "            <td>2nd at Folsom                   </td> <td>54           </td> <td>190              </td> <td>554            </td> <td>107          </td> <td>0               </td> <td>0                       </td> <td>40             </td> <td>21                       </td> <td>0                              </td> <td>0                               </td> <td>44                               </td> <td>78             </td> <td>54                      </td> <td>0                   </td> <td>9               </td> <td>77                   </td> <td>32                   </td> <td>41                    </td> <td>14                    </td> <td>0                   </td> <td>0                </td> <td>11                 </td> <td>30                             </td> <td>416                                 </td> <td>53           </td> <td>0        </td> <td>0          </td> <td>169           </td> <td>114          </td> <td>302              </td> <td>33                                 </td> <td>0         </td> <td>0                             </td> <td>0                      </td> <td>0                         </td> <td>0            </td> <td>0                   </td> <td>60            </td> <td>121               </td> <td>88                           </td> <td>0                            </td> <td>0                          </td> <td>0                          </td> <td>0                                    </td> <td>0          </td> <td>0                         </td> <td>0                     </td> <td>0                           </td> <td>0                          </td> <td>694                                     </td> <td>445                                    </td> <td>21                     </td> <td>0                 </td> <td>0                    </td> <td>0                                </td> <td>0                      </td> <td>0               </td> <td>0                  </td> <td>0                              </td> <td>0                     </td> <td>38                      </td> <td>57             </td> <td>0            </td> <td>0                       </td> <td>39               </td> <td>237                                          </td> <td>342            </td> <td>0                     </td> <td>17                  </td> <td>31                                           </td>\n",
       "        </tr>\n",
       "        <tr>\n",
       "            <td>2nd at South Park               </td> <td>295          </td> <td>164              </td> <td>71             </td> <td>180          </td> <td>0               </td> <td>0                       </td> <td>208            </td> <td>85                       </td> <td>0                              </td> <td>0                               </td> <td>112                              </td> <td>87             </td> <td>160                     </td> <td>0                   </td> <td>37              </td> <td>56                   </td> <td>178                  </td> <td>83                    </td> <td>116                   </td> <td>0                   </td> <td>0                </td> <td>57                 </td> <td>73                             </td> <td>574                                 </td> <td>500          </td> <td>0        </td> <td>0          </td> <td>139           </td> <td>199          </td> <td>1633             </td> <td>119                                </td> <td>0         </td> <td>0                             </td> <td>0                      </td> <td>0                         </td> <td>0            </td> <td>0                   </td> <td>299           </td> <td>84                </td> <td>113                          </td> <td>0                            </td> <td>0                          </td> <td>0                          </td> <td>0                                    </td> <td>0          </td> <td>0                         </td> <td>0                     </td> <td>0                           </td> <td>0                          </td> <td>559                                     </td> <td>480                                    </td> <td>48                     </td> <td>0                 </td> <td>0                    </td> <td>0                                </td> <td>0                      </td> <td>0               </td> <td>0                  </td> <td>0                              </td> <td>0                     </td> <td>66                      </td> <td>152            </td> <td>0            </td> <td>0                       </td> <td>374              </td> <td>429                                          </td> <td>143            </td> <td>0                     </td> <td>63                  </td> <td>209                                          </td>\n",
       "        </tr>\n",
       "        <tr>\n",
       "            <td>2nd at Townsend                 </td> <td>437          </td> <td>151              </td> <td>185            </td> <td>92           </td> <td>0               </td> <td>0                       </td> <td>608            </td> <td>350                      </td> <td>0                              </td> <td>0                               </td> <td>80                               </td> <td>329            </td> <td>168                     </td> <td>0                   </td> <td>386             </td> <td>361                  </td> <td>658                  </td> <td>506                   </td> <td>254                   </td> <td>0                   </td> <td>0                </td> <td>27                 </td> <td>315                            </td> <td>2607                                </td> <td>295          </td> <td>0        </td> <td>0          </td> <td>110           </td> <td>225          </td> <td>845              </td> <td>177                                </td> <td>0         </td> <td>0                             </td> <td>0                      </td> <td>0                         </td> <td>0            </td> <td>0                   </td> <td>120           </td> <td>100               </td> <td>141                          </td> <td>0                            </td> <td>0                          </td> <td>0                          </td> <td>0                                    </td> <td>0          </td> <td>0                         </td> <td>0                     </td> <td>0                           </td> <td>0                          </td> <td>905                                     </td> <td>299                                    </td> <td>14                     </td> <td>0                 </td> <td>0                    </td> <td>0                                </td> <td>0                      </td> <td>0               </td> <td>0                  </td> <td>0                              </td> <td>0                     </td> <td>72                      </td> <td>508            </td> <td>0            </td> <td>0                       </td> <td>2349             </td> <td>784                                          </td> <td>417            </td> <td>0                     </td> <td>57                  </td> <td>166                                          </td>\n",
       "        </tr>\n",
       "        <tr>\n",
       "            <td>5th at Howard                   </td> <td>113          </td> <td>177              </td> <td>148            </td> <td>83           </td> <td>0               </td> <td>0                       </td> <td>59             </td> <td>130                      </td> <td>0                              </td> <td>0                               </td> <td>203                              </td> <td>76             </td> <td>129                     </td> <td>0                   </td> <td>30              </td> <td>57                   </td> <td>49                   </td> <td>166                   </td> <td>54                    </td> <td>0                   </td> <td>0                </td> <td>85                 </td> <td>78                             </td> <td>371                                 </td> <td>478          </td> <td>0        </td> <td>0          </td> <td>303           </td> <td>158          </td> <td>168              </td> <td>90                                 </td> <td>0         </td> <td>0                             </td> <td>0                      </td> <td>0                         </td> <td>0            </td> <td>0                   </td> <td>93            </td> <td>183               </td> <td>169                          </td> <td>0                            </td> <td>0                          </td> <td>0                          </td> <td>0                                    </td> <td>0          </td> <td>0                         </td> <td>0                     </td> <td>0                           </td> <td>0                          </td> <td>690                                     </td> <td>1859                                   </td> <td>48                     </td> <td>0                 </td> <td>0                    </td> <td>0                                </td> <td>0                      </td> <td>0               </td> <td>0                  </td> <td>0                              </td> <td>0                     </td> <td>116                     </td> <td>102            </td> <td>0            </td> <td>0                       </td> <td>182              </td> <td>750                                          </td> <td>200            </td> <td>0                     </td> <td>43                  </td> <td>267                                          </td>\n",
       "        </tr>\n",
       "        <tr>\n",
       "            <td>Adobe on Almaden                </td> <td>0            </td> <td>0                </td> <td>0              </td> <td>0            </td> <td>11              </td> <td>4                       </td> <td>0              </td> <td>0                        </td> <td>0                              </td> <td>0                               </td> <td>0                                </td> <td>0              </td> <td>0                       </td> <td>0                   </td> <td>0               </td> <td>0                    </td> <td>0                    </td> <td>0                     </td> <td>0                     </td> <td>0                   </td> <td>0                </td> <td>0                  </td> <td>0                              </td> <td>0                                   </td> <td>0            </td> <td>17       </td> <td>7          </td> <td>0             </td> <td>0            </td> <td>0                </td> <td>0                                  </td> <td>0         </td> <td>0                             </td> <td>0                      </td> <td>0                         </td> <td>0            </td> <td>25                  </td> <td>0             </td> <td>0                 </td> <td>0                            </td> <td>0                            </td> <td>0                          </td> <td>0                          </td> <td>0                                    </td> <td>7          </td> <td>7                         </td> <td>16                    </td> <td>0                           </td> <td>0                          </td> <td>0                                       </td> <td>0                                      </td> <td>0                      </td> <td>19                </td> <td>23                   </td> <td>265                              </td> <td>0                      </td> <td>20              </td> <td>4                  </td> <td>5                              </td> <td>10                    </td> <td>0                       </td> <td>0              </td> <td>14           </td> <td>0                       </td> <td>0                </td> <td>0                                            </td> <td>0              </td> <td>0                     </td> <td>0                   </td> <td>0                                            </td>\n",
       "        </tr>\n",
       "        <tr>\n",
       "            <td>Arena Green / SAP Center        </td> <td>0            </td> <td>0                </td> <td>0              </td> <td>0            </td> <td>7               </td> <td>64                      </td> <td>0              </td> <td>0                        </td> <td>0                              </td> <td>0                               </td> <td>0                                </td> <td>0              </td> <td>0                       </td> <td>0                   </td> <td>0               </td> <td>0                    </td> <td>0                    </td> <td>0                     </td> <td>0                     </td> <td>0                   </td> <td>0                </td> <td>0                  </td> <td>0                              </td> <td>0                                   </td> <td>0            </td> <td>16       </td> <td>5          </td> <td>0             </td> <td>0            </td> <td>0                </td> <td>0                                  </td> <td>0         </td> <td>0                             </td> <td>0                      </td> <td>0                         </td> <td>0            </td> <td>21                  </td> <td>0             </td> <td>0                 </td> <td>0                            </td> <td>0                            </td> <td>0                          </td> <td>0                          </td> <td>0                                    </td> <td>24         </td> <td>3                         </td> <td>7                     </td> <td>0                           </td> <td>0                          </td> <td>0                                       </td> <td>0                                      </td> <td>0                      </td> <td>6                 </td> <td>20                   </td> <td>7                                </td> <td>0                      </td> <td>56              </td> <td>12                 </td> <td>38                             </td> <td>259                   </td> <td>0                       </td> <td>0              </td> <td>13           </td> <td>0                       </td> <td>0                </td> <td>0                                            </td> <td>0              </td> <td>0                     </td> <td>0                   </td> <td>0                                            </td>\n",
       "        </tr>\n",
       "        <tr>\n",
       "            <td>Beale at Market                 </td> <td>127          </td> <td>79               </td> <td>183            </td> <td>59           </td> <td>0               </td> <td>0                       </td> <td>59             </td> <td>661                      </td> <td>0                              </td> <td>0                               </td> <td>201                              </td> <td>75             </td> <td>101                     </td> <td>0                   </td> <td>247             </td> <td>178                  </td> <td>38                   </td> <td>590                   </td> <td>165                   </td> <td>0                   </td> <td>0                </td> <td>54                 </td> <td>435                            </td> <td>57                                  </td> <td>72           </td> <td>0        </td> <td>0          </td> <td>286           </td> <td>236          </td> <td>163              </td> <td>26                                 </td> <td>0         </td> <td>0                             </td> <td>0                      </td> <td>0                         </td> <td>0            </td> <td>0                   </td> <td>49            </td> <td>227               </td> <td>179                          </td> <td>0                            </td> <td>0                          </td> <td>0                          </td> <td>0                                    </td> <td>0          </td> <td>0                         </td> <td>0                     </td> <td>0                           </td> <td>0                          </td> <td>640                                     </td> <td>269                                    </td> <td>25                     </td> <td>0                 </td> <td>0                    </td> <td>0                                </td> <td>0                      </td> <td>0               </td> <td>0                  </td> <td>0                              </td> <td>0                     </td> <td>243                     </td> <td>128            </td> <td>0            </td> <td>0                       </td> <td>16               </td> <td>167                                          </td> <td>35             </td> <td>0                     </td> <td>64                  </td> <td>45                                           </td>\n",
       "        </tr>\n",
       "        <tr>\n",
       "            <td>Broadway St at Battery St       </td> <td>67           </td> <td>89               </td> <td>279            </td> <td>119          </td> <td>0               </td> <td>0                       </td> <td>1022           </td> <td>110                      </td> <td>0                              </td> <td>0                               </td> <td>62                               </td> <td>283            </td> <td>226                     </td> <td>0                   </td> <td>191             </td> <td>198                  </td> <td>79                   </td> <td>231                   </td> <td>35                    </td> <td>0                   </td> <td>0                </td> <td>5                  </td> <td>70                             </td> <td>168                                 </td> <td>49           </td> <td>0        </td> <td>0          </td> <td>32            </td> <td>97           </td> <td>341              </td> <td>214                                </td> <td>0         </td> <td>0                             </td> <td>0                      </td> <td>0                         </td> <td>0            </td> <td>0                   </td> <td>169           </td> <td>71                </td> <td>218                          </td> <td>0                            </td> <td>0                          </td> <td>0                          </td> <td>0                                    </td> <td>0          </td> <td>0                         </td> <td>0                     </td> <td>0                           </td> <td>0                          </td> <td>685                                     </td> <td>438                                    </td> <td>7                      </td> <td>0                 </td> <td>0                    </td> <td>0                                </td> <td>0                      </td> <td>0               </td> <td>0                  </td> <td>0                              </td> <td>0                     </td> <td>18                      </td> <td>106            </td> <td>0            </td> <td>0                       </td> <td>344              </td> <td>748                                          </td> <td>50             </td> <td>0                     </td> <td>79                  </td> <td>47                                           </td>\n",
       "        </tr>\n",
       "        <tr>\n",
       "            <td>California Ave Caltrain Station </td> <td>0            </td> <td>0                </td> <td>0              </td> <td>0            </td> <td>0               </td> <td>0                       </td> <td>0              </td> <td>0                        </td> <td>38                             </td> <td>1                               </td> <td>0                                </td> <td>0              </td> <td>0                       </td> <td>29                  </td> <td>0               </td> <td>0                    </td> <td>0                    </td> <td>0                     </td> <td>0                     </td> <td>0                   </td> <td>0                </td> <td>0                  </td> <td>0                              </td> <td>0                                   </td> <td>0            </td> <td>0        </td> <td>0          </td> <td>0             </td> <td>0            </td> <td>0                </td> <td>0                                  </td> <td>0         </td> <td>1                             </td> <td>0                      </td> <td>192                       </td> <td>40           </td> <td>0                   </td> <td>0             </td> <td>0                 </td> <td>0                            </td> <td>0                            </td> <td>0                          </td> <td>0                          </td> <td>6                                    </td> <td>0          </td> <td>0                         </td> <td>0                     </td> <td>17                          </td> <td>10                         </td> <td>0                                       </td> <td>0                                      </td> <td>0                      </td> <td>0                 </td> <td>0                    </td> <td>0                                </td> <td>0                      </td> <td>0               </td> <td>0                  </td> <td>0                              </td> <td>0                     </td> <td>0                       </td> <td>0              </td> <td>0            </td> <td>0                       </td> <td>0                </td> <td>0                                            </td> <td>0              </td> <td>57                    </td> <td>0                   </td> <td>0                                            </td>\n",
       "        </tr>\n",
       "        <tr>\n",
       "            <td>Castro Street and El Camino Real</td> <td>0            </td> <td>0                </td> <td>0              </td> <td>0            </td> <td>0               </td> <td>0                       </td> <td>0              </td> <td>0                        </td> <td>0                              </td> <td>30                              </td> <td>0                                </td> <td>0              </td> <td>0                       </td> <td>0                   </td> <td>0               </td> <td>0                    </td> <td>0                    </td> <td>0                     </td> <td>0                     </td> <td>14                  </td> <td>0                </td> <td>0                  </td> <td>0                              </td> <td>0                                   </td> <td>0            </td> <td>0        </td> <td>0          </td> <td>0             </td> <td>0            </td> <td>0                </td> <td>0                                  </td> <td>0         </td> <td>931                           </td> <td>34                     </td> <td>0                         </td> <td>0            </td> <td>0                   </td> <td>0             </td> <td>0                 </td> <td>0                            </td> <td>0                            </td> <td>0                          </td> <td>0                          </td> <td>7                                    </td> <td>0          </td> <td>0                         </td> <td>0                     </td> <td>4                           </td> <td>12                         </td> <td>0                                       </td> <td>0                                      </td> <td>0                      </td> <td>0                 </td> <td>0                    </td> <td>0                                </td> <td>0                      </td> <td>0               </td> <td>0                  </td> <td>0                              </td> <td>0                     </td> <td>0                       </td> <td>0              </td> <td>0            </td> <td>0                       </td> <td>0                </td> <td>0                                            </td> <td>0              </td> <td>0                     </td> <td>0                   </td> <td>0                                            </td>\n",
       "        </tr>\n",
       "    </tbody>\n",
       "</table>\n",
       "<p>... (60 rows omitted)</p>"
      ],
      "text/plain": [
       "End Station                      | 2nd at Folsom | 2nd at South Park | 2nd at Townsend | 5th at Howard | Adobe on Almaden | Arena Green / SAP Center | Beale at Market | Broadway St at Battery St | California Ave Caltrain Station | Castro Street and El Camino Real | Civic Center BART (7th at Market) | Clay at Battery | Commercial at Montgomery | Cowper at University | Davis at Jackson | Embarcadero at Bryant | Embarcadero at Folsom | Embarcadero at Sansome | Embarcadero at Vallejo | Evelyn Park and Ride | Franklin at Maple | Golden Gate at Polk | Grant Avenue at Columbus Avenue | Harry Bridges Plaza (Ferry Building) | Howard at 2nd | Japantown | MLK Library | Market at 10th | Market at 4th | Market at Sansome | Mechanics Plaza (Market at Battery) | Mezes Park | Mountain View Caltrain Station | Mountain View City Hall | Palo Alto Caltrain Station | Park at Olive | Paseo de San Antonio | Post at Kearny | Powell Street BART | Powell at Post (Union Square) | Redwood City Caltrain Station | Redwood City Medical Center | Redwood City Public Library | Rengstorff Avenue / California Street | Ryland Park | SJSU - San Salvador at 9th | SJSU 4th at San Carlos | San Antonio Caltrain Station | San Antonio Shopping Center | San Francisco Caltrain (Townsend at 4th) | San Francisco Caltrain 2 (330 Townsend) | San Francisco City Hall | San Jose City Hall | San Jose Civic Center | San Jose Diridon Caltrain Station | San Mateo County Center | San Pedro Square | San Salvador at 1st | Santa Clara County Civic Center | Santa Clara at Almaden | South Van Ness at Market | Spear at Folsom | St James Park | Stanford in Redwood City | Steuart at Market | Temporary Transbay Terminal (Howard at Beale) | Townsend at 7th | University and Emerson | Washington at Kearny | Yerba Buena Center of the Arts (3rd @ Howard)\n",
       "2nd at Folsom                    | 54            | 190               | 554             | 107           | 0                | 0                        | 40              | 21                        | 0                               | 0                                | 44                                | 78              | 54                       | 0                    | 9                | 77                    | 32                    | 41                     | 14                     | 0                    | 0                 | 11                  | 30                              | 416                                  | 53            | 0         | 0           | 169            | 114           | 302               | 33                                  | 0          | 0                              | 0                       | 0                          | 0             | 0                    | 60             | 121                | 88                            | 0                             | 0                           | 0                           | 0                                     | 0           | 0                          | 0                      | 0                            | 0                           | 694                                      | 445                                     | 21                      | 0                  | 0                     | 0                                 | 0                       | 0                | 0                   | 0                               | 0                      | 38                       | 57              | 0             | 0                        | 39                | 237                                           | 342             | 0                      | 17                   | 31\n",
       "2nd at South Park                | 295           | 164               | 71              | 180           | 0                | 0                        | 208             | 85                        | 0                               | 0                                | 112                               | 87              | 160                      | 0                    | 37               | 56                    | 178                   | 83                     | 116                    | 0                    | 0                 | 57                  | 73                              | 574                                  | 500           | 0         | 0           | 139            | 199           | 1633              | 119                                 | 0          | 0                              | 0                       | 0                          | 0             | 0                    | 299            | 84                 | 113                           | 0                             | 0                           | 0                           | 0                                     | 0           | 0                          | 0                      | 0                            | 0                           | 559                                      | 480                                     | 48                      | 0                  | 0                     | 0                                 | 0                       | 0                | 0                   | 0                               | 0                      | 66                       | 152             | 0             | 0                        | 374               | 429                                           | 143             | 0                      | 63                   | 209\n",
       "2nd at Townsend                  | 437           | 151               | 185             | 92            | 0                | 0                        | 608             | 350                       | 0                               | 0                                | 80                                | 329             | 168                      | 0                    | 386              | 361                   | 658                   | 506                    | 254                    | 0                    | 0                 | 27                  | 315                             | 2607                                 | 295           | 0         | 0           | 110            | 225           | 845               | 177                                 | 0          | 0                              | 0                       | 0                          | 0             | 0                    | 120            | 100                | 141                           | 0                             | 0                           | 0                           | 0                                     | 0           | 0                          | 0                      | 0                            | 0                           | 905                                      | 299                                     | 14                      | 0                  | 0                     | 0                                 | 0                       | 0                | 0                   | 0                               | 0                      | 72                       | 508             | 0             | 0                        | 2349              | 784                                           | 417             | 0                      | 57                   | 166\n",
       "5th at Howard                    | 113           | 177               | 148             | 83            | 0                | 0                        | 59              | 130                       | 0                               | 0                                | 203                               | 76              | 129                      | 0                    | 30               | 57                    | 49                    | 166                    | 54                     | 0                    | 0                 | 85                  | 78                              | 371                                  | 478           | 0         | 0           | 303            | 158           | 168               | 90                                  | 0          | 0                              | 0                       | 0                          | 0             | 0                    | 93             | 183                | 169                           | 0                             | 0                           | 0                           | 0                                     | 0           | 0                          | 0                      | 0                            | 0                           | 690                                      | 1859                                    | 48                      | 0                  | 0                     | 0                                 | 0                       | 0                | 0                   | 0                               | 0                      | 116                      | 102             | 0             | 0                        | 182               | 750                                           | 200             | 0                      | 43                   | 267\n",
       "Adobe on Almaden                 | 0             | 0                 | 0               | 0             | 11               | 4                        | 0               | 0                         | 0                               | 0                                | 0                                 | 0               | 0                        | 0                    | 0                | 0                     | 0                     | 0                      | 0                      | 0                    | 0                 | 0                   | 0                               | 0                                    | 0             | 17        | 7           | 0              | 0             | 0                 | 0                                   | 0          | 0                              | 0                       | 0                          | 0             | 25                   | 0              | 0                  | 0                             | 0                             | 0                           | 0                           | 0                                     | 7           | 7                          | 16                     | 0                            | 0                           | 0                                        | 0                                       | 0                       | 19                 | 23                    | 265                               | 0                       | 20               | 4                   | 5                               | 10                     | 0                        | 0               | 14            | 0                        | 0                 | 0                                             | 0               | 0                      | 0                    | 0\n",
       "Arena Green / SAP Center         | 0             | 0                 | 0               | 0             | 7                | 64                       | 0               | 0                         | 0                               | 0                                | 0                                 | 0               | 0                        | 0                    | 0                | 0                     | 0                     | 0                      | 0                      | 0                    | 0                 | 0                   | 0                               | 0                                    | 0             | 16        | 5           | 0              | 0             | 0                 | 0                                   | 0          | 0                              | 0                       | 0                          | 0             | 21                   | 0              | 0                  | 0                             | 0                             | 0                           | 0                           | 0                                     | 24          | 3                          | 7                      | 0                            | 0                           | 0                                        | 0                                       | 0                       | 6                  | 20                    | 7                                 | 0                       | 56               | 12                  | 38                              | 259                    | 0                        | 0               | 13            | 0                        | 0                 | 0                                             | 0               | 0                      | 0                    | 0\n",
       "Beale at Market                  | 127           | 79                | 183             | 59            | 0                | 0                        | 59              | 661                       | 0                               | 0                                | 201                               | 75              | 101                      | 0                    | 247              | 178                   | 38                    | 590                    | 165                    | 0                    | 0                 | 54                  | 435                             | 57                                   | 72            | 0         | 0           | 286            | 236           | 163               | 26                                  | 0          | 0                              | 0                       | 0                          | 0             | 0                    | 49             | 227                | 179                           | 0                             | 0                           | 0                           | 0                                     | 0           | 0                          | 0                      | 0                            | 0                           | 640                                      | 269                                     | 25                      | 0                  | 0                     | 0                                 | 0                       | 0                | 0                   | 0                               | 0                      | 243                      | 128             | 0             | 0                        | 16                | 167                                           | 35              | 0                      | 64                   | 45\n",
       "Broadway St at Battery St        | 67            | 89                | 279             | 119           | 0                | 0                        | 1022            | 110                       | 0                               | 0                                | 62                                | 283             | 226                      | 0                    | 191              | 198                   | 79                    | 231                    | 35                     | 0                    | 0                 | 5                   | 70                              | 168                                  | 49            | 0         | 0           | 32             | 97            | 341               | 214                                 | 0          | 0                              | 0                       | 0                          | 0             | 0                    | 169            | 71                 | 218                           | 0                             | 0                           | 0                           | 0                                     | 0           | 0                          | 0                      | 0                            | 0                           | 685                                      | 438                                     | 7                       | 0                  | 0                     | 0                                 | 0                       | 0                | 0                   | 0                               | 0                      | 18                       | 106             | 0             | 0                        | 344               | 748                                           | 50              | 0                      | 79                   | 47\n",
       "California Ave Caltrain Station  | 0             | 0                 | 0               | 0             | 0                | 0                        | 0               | 0                         | 38                              | 1                                | 0                                 | 0               | 0                        | 29                   | 0                | 0                     | 0                     | 0                      | 0                      | 0                    | 0                 | 0                   | 0                               | 0                                    | 0             | 0         | 0           | 0              | 0             | 0                 | 0                                   | 0          | 1                              | 0                       | 192                        | 40            | 0                    | 0              | 0                  | 0                             | 0                             | 0                           | 0                           | 6                                     | 0           | 0                          | 0                      | 17                           | 10                          | 0                                        | 0                                       | 0                       | 0                  | 0                     | 0                                 | 0                       | 0                | 0                   | 0                               | 0                      | 0                        | 0               | 0             | 0                        | 0                 | 0                                             | 0               | 57                     | 0                    | 0\n",
       "Castro Street and El Camino Real | 0             | 0                 | 0               | 0             | 0                | 0                        | 0               | 0                         | 0                               | 30                               | 0                                 | 0               | 0                        | 0                    | 0                | 0                     | 0                     | 0                      | 0                      | 14                   | 0                 | 0                   | 0                               | 0                                    | 0             | 0         | 0           | 0              | 0             | 0                 | 0                                   | 0          | 931                            | 34                      | 0                          | 0             | 0                    | 0              | 0                  | 0                             | 0                             | 0                           | 0                           | 7                                     | 0           | 0                          | 0                      | 4                            | 12                          | 0                                        | 0                                       | 0                       | 0                  | 0                     | 0                                 | 0                       | 0                | 0                   | 0                               | 0                      | 0                        | 0               | 0             | 0                        | 0                 | 0                                             | 0               | 0                      | 0                    | 0\n",
       "... (60 rows omitted)"
      ]
     },
     "execution_count": 97,
     "metadata": {},
     "output_type": "execute_result"
    }
   ],
   "source": [
    "commute.pivot('Start Station', 'End Station')"
   ]
  },
  {
   "cell_type": "code",
   "execution_count": 98,
   "metadata": {
    "tags": []
   },
   "outputs": [
    {
     "data": {
      "text/html": [
       "<table border=\"1\" class=\"dataframe\">\n",
       "    <thead>\n",
       "        <tr>\n",
       "            <th>Start Station</th> <th>End Station</th> <th>Duration</th>\n",
       "        </tr>\n",
       "    </thead>\n",
       "    <tbody>\n",
       "        <tr>\n",
       "            <td>Harry Bridges Plaza (Ferry Building)         </td> <td>San Francisco Caltrain (Townsend at 4th)     </td> <td>765     </td>\n",
       "        </tr>\n",
       "        <tr>\n",
       "            <td>San Antonio Shopping Center                  </td> <td>Mountain View City Hall                      </td> <td>1036    </td>\n",
       "        </tr>\n",
       "        <tr>\n",
       "            <td>Post at Kearny                               </td> <td>2nd at South Park                            </td> <td>307     </td>\n",
       "        </tr>\n",
       "        <tr>\n",
       "            <td>San Jose City Hall                           </td> <td>San Salvador at 1st                          </td> <td>409     </td>\n",
       "        </tr>\n",
       "        <tr>\n",
       "            <td>Embarcadero at Folsom                        </td> <td>Embarcadero at Sansome                       </td> <td>789     </td>\n",
       "        </tr>\n",
       "        <tr>\n",
       "            <td>Yerba Buena Center of the Arts (3rd @ Howard)</td> <td>San Francisco Caltrain (Townsend at 4th)     </td> <td>293     </td>\n",
       "        </tr>\n",
       "        <tr>\n",
       "            <td>Embarcadero at Folsom                        </td> <td>Embarcadero at Sansome                       </td> <td>896     </td>\n",
       "        </tr>\n",
       "        <tr>\n",
       "            <td>Embarcadero at Sansome                       </td> <td>Steuart at Market                            </td> <td>255     </td>\n",
       "        </tr>\n",
       "        <tr>\n",
       "            <td>Beale at Market                              </td> <td>Temporary Transbay Terminal (Howard at Beale)</td> <td>126     </td>\n",
       "        </tr>\n",
       "        <tr>\n",
       "            <td>Post at Kearny                               </td> <td>South Van Ness at Market                     </td> <td>932     </td>\n",
       "        </tr>\n",
       "    </tbody>\n",
       "</table>\n",
       "<p>... (354142 rows omitted)</p>"
      ],
      "text/plain": [
       "Start Station                                 | End Station                                   | Duration\n",
       "Harry Bridges Plaza (Ferry Building)          | San Francisco Caltrain (Townsend at 4th)      | 765\n",
       "San Antonio Shopping Center                   | Mountain View City Hall                       | 1036\n",
       "Post at Kearny                                | 2nd at South Park                             | 307\n",
       "San Jose City Hall                            | San Salvador at 1st                           | 409\n",
       "Embarcadero at Folsom                         | Embarcadero at Sansome                        | 789\n",
       "Yerba Buena Center of the Arts (3rd @ Howard) | San Francisco Caltrain (Townsend at 4th)      | 293\n",
       "Embarcadero at Folsom                         | Embarcadero at Sansome                        | 896\n",
       "Embarcadero at Sansome                        | Steuart at Market                             | 255\n",
       "Beale at Market                               | Temporary Transbay Terminal (Howard at Beale) | 126\n",
       "Post at Kearny                                | South Van Ness at Market                      | 932\n",
       "... (354142 rows omitted)"
      ]
     },
     "execution_count": 98,
     "metadata": {},
     "output_type": "execute_result"
    }
   ],
   "source": [
    "duration = trip.select('Start Station', 'End Station', 'Duration')\n",
    "duration"
   ]
  },
  {
   "cell_type": "markdown",
   "metadata": {},
   "source": [
    "## Optional: Advanced `where` ##"
   ]
  },
  {
   "cell_type": "code",
   "execution_count": 99,
   "metadata": {
    "tags": []
   },
   "outputs": [],
   "source": [
    "#apply an array of bools to a table\n",
    "ages = make_array(16, 22, 18, 15, 19, 15, 16, 21)\n",
    "age = Table().with_column('Age', ages)"
   ]
  },
  {
   "cell_type": "code",
   "execution_count": 100,
   "metadata": {
    "tags": []
   },
   "outputs": [
    {
     "data": {
      "text/html": [
       "<table border=\"1\" class=\"dataframe\">\n",
       "    <thead>\n",
       "        <tr>\n",
       "            <th>Age</th>\n",
       "        </tr>\n",
       "    </thead>\n",
       "    <tbody>\n",
       "        <tr>\n",
       "            <td>16  </td>\n",
       "        </tr>\n",
       "        <tr>\n",
       "            <td>22  </td>\n",
       "        </tr>\n",
       "        <tr>\n",
       "            <td>18  </td>\n",
       "        </tr>\n",
       "        <tr>\n",
       "            <td>15  </td>\n",
       "        </tr>\n",
       "        <tr>\n",
       "            <td>19  </td>\n",
       "        </tr>\n",
       "        <tr>\n",
       "            <td>15  </td>\n",
       "        </tr>\n",
       "        <tr>\n",
       "            <td>16  </td>\n",
       "        </tr>\n",
       "        <tr>\n",
       "            <td>21  </td>\n",
       "        </tr>\n",
       "    </tbody>\n",
       "</table>"
      ],
      "text/plain": [
       "Age\n",
       "16\n",
       "22\n",
       "18\n",
       "15\n",
       "19\n",
       "15\n",
       "16\n",
       "21"
      ]
     },
     "execution_count": 100,
     "metadata": {},
     "output_type": "execute_result"
    }
   ],
   "source": [
    "age"
   ]
  },
  {
   "cell_type": "code",
   "execution_count": 101,
   "metadata": {
    "tags": []
   },
   "outputs": [
    {
     "data": {
      "text/html": [
       "<table border=\"1\" class=\"dataframe\">\n",
       "    <thead>\n",
       "        <tr>\n",
       "            <th>Age</th>\n",
       "        </tr>\n",
       "    </thead>\n",
       "    <tbody>\n",
       "        <tr>\n",
       "            <td>22  </td>\n",
       "        </tr>\n",
       "        <tr>\n",
       "            <td>18  </td>\n",
       "        </tr>\n",
       "        <tr>\n",
       "            <td>19  </td>\n",
       "        </tr>\n",
       "        <tr>\n",
       "            <td>21  </td>\n",
       "        </tr>\n",
       "    </tbody>\n",
       "</table>"
      ],
      "text/plain": [
       "Age\n",
       "22\n",
       "18\n",
       "19\n",
       "21"
      ]
     },
     "execution_count": 101,
     "metadata": {},
     "output_type": "execute_result"
    }
   ],
   "source": [
    "age.where('Age', are.above_or_equal_to(18))"
   ]
  },
  {
   "cell_type": "code",
   "execution_count": 102,
   "metadata": {
    "tags": []
   },
   "outputs": [],
   "source": [
    "voter = ages >= 18"
   ]
  },
  {
   "cell_type": "code",
   "execution_count": 103,
   "metadata": {
    "tags": []
   },
   "outputs": [
    {
     "data": {
      "text/plain": [
       "array([False,  True,  True, False,  True, False, False,  True], dtype=bool)"
      ]
     },
     "execution_count": 103,
     "metadata": {},
     "output_type": "execute_result"
    }
   ],
   "source": [
    "voter"
   ]
  },
  {
   "cell_type": "code",
   "execution_count": 104,
   "metadata": {
    "tags": []
   },
   "outputs": [
    {
     "data": {
      "text/html": [
       "<table border=\"1\" class=\"dataframe\">\n",
       "    <thead>\n",
       "        <tr>\n",
       "            <th>Age</th>\n",
       "        </tr>\n",
       "    </thead>\n",
       "    <tbody>\n",
       "        <tr>\n",
       "            <td>22  </td>\n",
       "        </tr>\n",
       "        <tr>\n",
       "            <td>18  </td>\n",
       "        </tr>\n",
       "        <tr>\n",
       "            <td>19  </td>\n",
       "        </tr>\n",
       "        <tr>\n",
       "            <td>21  </td>\n",
       "        </tr>\n",
       "    </tbody>\n",
       "</table>"
      ],
      "text/plain": [
       "Age\n",
       "22\n",
       "18\n",
       "19\n",
       "21"
      ]
     },
     "execution_count": 104,
     "metadata": {},
     "output_type": "execute_result"
    }
   ],
   "source": [
    "age.where(voter)"
   ]
  },
  {
   "cell_type": "code",
   "execution_count": 105,
   "metadata": {
    "tags": []
   },
   "outputs": [],
   "source": [
    "is_voter = are.above_or_equal_to(18)"
   ]
  },
  {
   "cell_type": "code",
   "execution_count": 106,
   "metadata": {
    "tags": []
   },
   "outputs": [
    {
     "data": {
      "text/plain": [
       "datascience.predicates._combinable"
      ]
     },
     "execution_count": 106,
     "metadata": {},
     "output_type": "execute_result"
    }
   ],
   "source": [
    "type(is_voter)"
   ]
  },
  {
   "cell_type": "code",
   "execution_count": 107,
   "metadata": {
    "tags": []
   },
   "outputs": [
    {
     "data": {
      "text/plain": [
       "True"
      ]
     },
     "execution_count": 107,
     "metadata": {},
     "output_type": "execute_result"
    }
   ],
   "source": [
    "is_voter(22)"
   ]
  },
  {
   "cell_type": "code",
   "execution_count": 108,
   "metadata": {
    "tags": []
   },
   "outputs": [
    {
     "data": {
      "text/plain": [
       "False"
      ]
     },
     "execution_count": 108,
     "metadata": {},
     "output_type": "execute_result"
    }
   ],
   "source": [
    "is_voter(3)"
   ]
  },
  {
   "cell_type": "code",
   "execution_count": 109,
   "metadata": {
    "tags": []
   },
   "outputs": [
    {
     "data": {
      "text/plain": [
       "array([False,  True,  True, False,  True, False, False,  True], dtype=bool)"
      ]
     },
     "execution_count": 109,
     "metadata": {},
     "output_type": "execute_result"
    }
   ],
   "source": [
    "age.apply(is_voter, 'Age')"
   ]
  },
  {
   "cell_type": "code",
   "execution_count": 110,
   "metadata": {
    "tags": []
   },
   "outputs": [
    {
     "data": {
      "text/plain": [
       "array([False,  True,  True, False,  True, False, False,  True], dtype=bool)"
      ]
     },
     "execution_count": 110,
     "metadata": {},
     "output_type": "execute_result"
    }
   ],
   "source": [
    "ages >= 18"
   ]
  },
  {
   "cell_type": "code",
   "execution_count": 111,
   "metadata": {
    "tags": []
   },
   "outputs": [
    {
     "data": {
      "text/plain": [
       "array([False,  True,  True, False,  True, False, False,  True], dtype=bool)"
      ]
     },
     "execution_count": 111,
     "metadata": {},
     "output_type": "execute_result"
    }
   ],
   "source": [
    "voter"
   ]
  },
  {
   "cell_type": "code",
   "execution_count": 112,
   "metadata": {
    "tags": []
   },
   "outputs": [],
   "source": [
    "def my_voter_function(x):\n",
    "    return x >= 18"
   ]
  },
  {
   "cell_type": "code",
   "execution_count": 113,
   "metadata": {
    "tags": []
   },
   "outputs": [
    {
     "data": {
      "text/html": [
       "<table border=\"1\" class=\"dataframe\">\n",
       "    <thead>\n",
       "        <tr>\n",
       "            <th>Age</th>\n",
       "        </tr>\n",
       "    </thead>\n",
       "    <tbody>\n",
       "        <tr>\n",
       "            <td>22  </td>\n",
       "        </tr>\n",
       "        <tr>\n",
       "            <td>18  </td>\n",
       "        </tr>\n",
       "        <tr>\n",
       "            <td>19  </td>\n",
       "        </tr>\n",
       "        <tr>\n",
       "            <td>21  </td>\n",
       "        </tr>\n",
       "    </tbody>\n",
       "</table>"
      ],
      "text/plain": [
       "Age\n",
       "22\n",
       "18\n",
       "19\n",
       "21"
      ]
     },
     "execution_count": 113,
     "metadata": {},
     "output_type": "execute_result"
    }
   ],
   "source": [
    "age.where('Age', are.above_or_equal_to(18))"
   ]
  },
  {
   "cell_type": "code",
   "execution_count": 114,
   "metadata": {
    "tags": []
   },
   "outputs": [
    {
     "data": {
      "text/html": [
       "<table border=\"1\" class=\"dataframe\">\n",
       "    <thead>\n",
       "        <tr>\n",
       "            <th>Age</th>\n",
       "        </tr>\n",
       "    </thead>\n",
       "    <tbody>\n",
       "        <tr>\n",
       "            <td>22  </td>\n",
       "        </tr>\n",
       "        <tr>\n",
       "            <td>18  </td>\n",
       "        </tr>\n",
       "        <tr>\n",
       "            <td>19  </td>\n",
       "        </tr>\n",
       "        <tr>\n",
       "            <td>21  </td>\n",
       "        </tr>\n",
       "    </tbody>\n",
       "</table>"
      ],
      "text/plain": [
       "Age\n",
       "22\n",
       "18\n",
       "19\n",
       "21"
      ]
     },
     "execution_count": 114,
     "metadata": {},
     "output_type": "execute_result"
    }
   ],
   "source": [
    "age.where(voter)"
   ]
  },
  {
   "cell_type": "code",
   "execution_count": 91,
   "metadata": {},
   "outputs": [
    {
     "data": {
      "text/html": [
       "<table border=\"1\" class=\"dataframe\">\n",
       "    <thead>\n",
       "        <tr>\n",
       "            <th>Age</th>\n",
       "        </tr>\n",
       "    </thead>\n",
       "    <tbody>\n",
       "        <tr>\n",
       "            <td>22  </td>\n",
       "        </tr>\n",
       "        <tr>\n",
       "            <td>18  </td>\n",
       "        </tr>\n",
       "        <tr>\n",
       "            <td>19  </td>\n",
       "        </tr>\n",
       "        <tr>\n",
       "            <td>21  </td>\n",
       "        </tr>\n",
       "    </tbody>\n",
       "</table>"
      ],
      "text/plain": [
       "Age\n",
       "22\n",
       "18\n",
       "19\n",
       "21"
      ]
     },
     "execution_count": 91,
     "metadata": {},
     "output_type": "execute_result"
    }
   ],
   "source": [
    "age.where('Age', my_voter_function)"
   ]
  },
  {
   "cell_type": "code",
   "execution_count": null,
   "metadata": {},
   "outputs": [],
   "source": []
  },
  {
   "cell_type": "code",
   "execution_count": null,
   "metadata": {},
   "outputs": [],
   "source": []
  }
 ],
 "metadata": {
  "anaconda-cloud": {},
  "kernelspec": {
   "display_name": "Python 3 (ipykernel)",
   "language": "python",
   "name": "python3"
  },
  "language_info": {
   "codemirror_mode": {
    "name": "ipython",
    "version": 3
   },
   "file_extension": ".py",
   "mimetype": "text/x-python",
   "name": "python",
   "nbconvert_exporter": "python",
   "pygments_lexer": "ipython3",
   "version": "3.11.4"
  }
 },
 "nbformat": 4,
 "nbformat_minor": 4
}
