{
 "cells": [
  {
   "cell_type": "code",
   "execution_count": 18,
   "metadata": {},
   "outputs": [],
   "source": [
    "from datascience import *\n",
    "import numpy as np\n",
    "\n",
    "%matplotlib inline\n",
    "import matplotlib.pyplot as plots\n",
    "plots.style.use('fivethirtyeight')"
   ]
  },
  {
   "cell_type": "markdown",
   "metadata": {},
   "source": [
    "## The GSI's Defense ##"
   ]
  },
  {
   "cell_type": "markdown",
   "metadata": {},
   "source": [
    "Does section 3 have systematically lower scores or can this be explained by chance?"
   ]
  },
  {
   "cell_type": "code",
   "execution_count": 19,
   "metadata": {},
   "outputs": [
    {
     "data": {
      "text/html": [
       "<table border=\"1\" class=\"dataframe\">\n",
       "    <thead>\n",
       "        <tr>\n",
       "            <th>Section</th> <th>Midterm</th>\n",
       "        </tr>\n",
       "    </thead>\n",
       "    <tbody>\n",
       "        <tr>\n",
       "            <td>1      </td> <td>22     </td>\n",
       "        </tr>\n",
       "        <tr>\n",
       "            <td>2      </td> <td>12     </td>\n",
       "        </tr>\n",
       "        <tr>\n",
       "            <td>2      </td> <td>23     </td>\n",
       "        </tr>\n",
       "        <tr>\n",
       "            <td>2      </td> <td>14     </td>\n",
       "        </tr>\n",
       "        <tr>\n",
       "            <td>1      </td> <td>20     </td>\n",
       "        </tr>\n",
       "        <tr>\n",
       "            <td>3      </td> <td>25     </td>\n",
       "        </tr>\n",
       "        <tr>\n",
       "            <td>4      </td> <td>19     </td>\n",
       "        </tr>\n",
       "        <tr>\n",
       "            <td>1      </td> <td>24     </td>\n",
       "        </tr>\n",
       "        <tr>\n",
       "            <td>5      </td> <td>8      </td>\n",
       "        </tr>\n",
       "        <tr>\n",
       "            <td>6      </td> <td>14     </td>\n",
       "        </tr>\n",
       "    </tbody>\n",
       "</table>\n",
       "<p>... (349 rows omitted)</p>"
      ],
      "text/plain": [
       "Section | Midterm\n",
       "1       | 22\n",
       "2       | 12\n",
       "2       | 23\n",
       "2       | 14\n",
       "1       | 20\n",
       "3       | 25\n",
       "4       | 19\n",
       "1       | 24\n",
       "5       | 8\n",
       "6       | 14\n",
       "... (349 rows omitted)"
      ]
     },
     "execution_count": 19,
     "metadata": {},
     "output_type": "execute_result"
    }
   ],
   "source": [
    "scores = Table.read_table('scores_by_section.csv')\n",
    "scores"
   ]
  },
  {
   "cell_type": "code",
   "execution_count": 20,
   "metadata": {},
   "outputs": [
    {
     "data": {
      "text/html": [
       "<table border=\"1\" class=\"dataframe\">\n",
       "    <thead>\n",
       "        <tr>\n",
       "            <th>Section</th> <th>count</th>\n",
       "        </tr>\n",
       "    </thead>\n",
       "    <tbody>\n",
       "        <tr>\n",
       "            <td>1      </td> <td>32   </td>\n",
       "        </tr>\n",
       "        <tr>\n",
       "            <td>2      </td> <td>32   </td>\n",
       "        </tr>\n",
       "        <tr>\n",
       "            <td>3      </td> <td>27   </td>\n",
       "        </tr>\n",
       "        <tr>\n",
       "            <td>4      </td> <td>30   </td>\n",
       "        </tr>\n",
       "        <tr>\n",
       "            <td>5      </td> <td>33   </td>\n",
       "        </tr>\n",
       "        <tr>\n",
       "            <td>6      </td> <td>32   </td>\n",
       "        </tr>\n",
       "        <tr>\n",
       "            <td>7      </td> <td>24   </td>\n",
       "        </tr>\n",
       "        <tr>\n",
       "            <td>8      </td> <td>29   </td>\n",
       "        </tr>\n",
       "        <tr>\n",
       "            <td>9      </td> <td>30   </td>\n",
       "        </tr>\n",
       "        <tr>\n",
       "            <td>10     </td> <td>34   </td>\n",
       "        </tr>\n",
       "    </tbody>\n",
       "</table>\n",
       "<p>... (2 rows omitted)</p>"
      ],
      "text/plain": [
       "Section | count\n",
       "1       | 32\n",
       "2       | 32\n",
       "3       | 27\n",
       "4       | 30\n",
       "5       | 33\n",
       "6       | 32\n",
       "7       | 24\n",
       "8       | 29\n",
       "9       | 30\n",
       "10      | 34\n",
       "... (2 rows omitted)"
      ]
     },
     "execution_count": 20,
     "metadata": {},
     "output_type": "execute_result"
    }
   ],
   "source": [
    "scores.group('Section')"
   ]
  },
  {
   "cell_type": "code",
   "execution_count": 21,
   "metadata": {},
   "outputs": [
    {
     "data": {
      "text/html": [
       "<table border=\"1\" class=\"dataframe\">\n",
       "    <thead>\n",
       "        <tr>\n",
       "            <th>Section</th> <th>Midterm average</th>\n",
       "        </tr>\n",
       "    </thead>\n",
       "    <tbody>\n",
       "        <tr>\n",
       "            <td>1      </td> <td>15.5938        </td>\n",
       "        </tr>\n",
       "        <tr>\n",
       "            <td>2      </td> <td>15.125         </td>\n",
       "        </tr>\n",
       "        <tr>\n",
       "            <td>3      </td> <td>13.6667        </td>\n",
       "        </tr>\n",
       "        <tr>\n",
       "            <td>4      </td> <td>14.7667        </td>\n",
       "        </tr>\n",
       "        <tr>\n",
       "            <td>5      </td> <td>17.4545        </td>\n",
       "        </tr>\n",
       "        <tr>\n",
       "            <td>6      </td> <td>15.0312        </td>\n",
       "        </tr>\n",
       "        <tr>\n",
       "            <td>7      </td> <td>16.625         </td>\n",
       "        </tr>\n",
       "        <tr>\n",
       "            <td>8      </td> <td>16.3103        </td>\n",
       "        </tr>\n",
       "        <tr>\n",
       "            <td>9      </td> <td>14.5667        </td>\n",
       "        </tr>\n",
       "        <tr>\n",
       "            <td>10     </td> <td>15.2353        </td>\n",
       "        </tr>\n",
       "        <tr>\n",
       "            <td>11     </td> <td>15.8077        </td>\n",
       "        </tr>\n",
       "        <tr>\n",
       "            <td>12     </td> <td>15.7333        </td>\n",
       "        </tr>\n",
       "    </tbody>\n",
       "</table>"
      ],
      "text/plain": [
       "<IPython.core.display.HTML object>"
      ]
     },
     "metadata": {},
     "output_type": "display_data"
    }
   ],
   "source": [
    "scores.group('Section', np.average).show()"
   ]
  },
  {
   "cell_type": "code",
   "execution_count": 22,
   "metadata": {},
   "outputs": [],
   "source": [
    "observed_average = 13.6667 "
   ]
  },
  {
   "cell_type": "code",
   "execution_count": 25,
   "metadata": {},
   "outputs": [
    {
     "data": {
      "text/html": [
       "<table border=\"1\" class=\"dataframe\">\n",
       "    <thead>\n",
       "        <tr>\n",
       "            <th>Section</th> <th>Midterm</th>\n",
       "        </tr>\n",
       "    </thead>\n",
       "    <tbody>\n",
       "        <tr>\n",
       "            <td>10     </td> <td>19     </td>\n",
       "        </tr>\n",
       "        <tr>\n",
       "            <td>5      </td> <td>13     </td>\n",
       "        </tr>\n",
       "        <tr>\n",
       "            <td>2      </td> <td>18     </td>\n",
       "        </tr>\n",
       "        <tr>\n",
       "            <td>9      </td> <td>18     </td>\n",
       "        </tr>\n",
       "        <tr>\n",
       "            <td>6      </td> <td>21     </td>\n",
       "        </tr>\n",
       "        <tr>\n",
       "            <td>8      </td> <td>25     </td>\n",
       "        </tr>\n",
       "        <tr>\n",
       "            <td>10     </td> <td>21     </td>\n",
       "        </tr>\n",
       "        <tr>\n",
       "            <td>12     </td> <td>10     </td>\n",
       "        </tr>\n",
       "        <tr>\n",
       "            <td>7      </td> <td>9      </td>\n",
       "        </tr>\n",
       "        <tr>\n",
       "            <td>6      </td> <td>17     </td>\n",
       "        </tr>\n",
       "    </tbody>\n",
       "</table>\n",
       "<p>... (17 rows omitted)</p>"
      ],
      "text/plain": [
       "Section | Midterm\n",
       "10      | 19\n",
       "5       | 13\n",
       "2       | 18\n",
       "9       | 18\n",
       "6       | 21\n",
       "8       | 25\n",
       "10      | 21\n",
       "12      | 10\n",
       "7       | 9\n",
       "6       | 17\n",
       "... (17 rows omitted)"
      ]
     },
     "execution_count": 25,
     "metadata": {},
     "output_type": "execute_result"
    }
   ],
   "source": [
    "random_sample = scores.sample(27, with_replacement=False)\n",
    "random_sample"
   ]
  },
  {
   "cell_type": "code",
   "execution_count": 26,
   "metadata": {},
   "outputs": [
    {
     "data": {
      "text/plain": [
       "17.0"
      ]
     },
     "execution_count": 26,
     "metadata": {},
     "output_type": "execute_result"
    }
   ],
   "source": [
    "np.average(random_sample.column('Midterm'))"
   ]
  },
  {
   "cell_type": "code",
   "execution_count": 27,
   "metadata": {},
   "outputs": [],
   "source": [
    "# Simulate one value of the test statistic \n",
    "# under the hypothesis that the section is like a random sample from the class\n",
    "\n",
    "def random_sample_midterm_avg():\n",
    "    random_sample = scores.sample(27, with_replacement = False)\n",
    "    return np.average(random_sample.column('Midterm'))"
   ]
  },
  {
   "cell_type": "code",
   "execution_count": 28,
   "metadata": {},
   "outputs": [],
   "source": [
    "# Simulate 50,000 copies of the test statistic\n",
    "\n",
    "sample_averages = make_array()\n",
    "\n",
    "for i in np.arange(50000):\n",
    "    sample_averages = np.append(sample_averages, random_sample_midterm_avg())    "
   ]
  },
  {
   "cell_type": "code",
   "execution_count": 29,
   "metadata": {},
   "outputs": [
    {
     "data": {
      "image/png": "[encoded data removed]",
      "text/plain": [
       "<Figure size 432x288 with 1 Axes>"
      ]
     },
     "metadata": {},
     "output_type": "display_data"
    }
   ],
   "source": [
    "# Compare the simulated distribution of the statistic\n",
    "# and the actual observed statistic\n",
    "\n",
    "averages_tbl = Table().with_column('Random Sample Average', sample_averages)\n",
    "averages_tbl.hist(bins = 20)\n",
    "plots.scatter(observed_average, 0, color = 'red', s=40);"
   ]
  },
  {
   "cell_type": "markdown",
   "metadata": {},
   "source": [
    "# Our Decision"
   ]
  },
  {
   "cell_type": "code",
   "execution_count": 30,
   "metadata": {},
   "outputs": [
    {
     "data": {
      "text/plain": [
       "array([False,  True, False, ..., False, False, False], dtype=bool)"
      ]
     },
     "execution_count": 30,
     "metadata": {},
     "output_type": "execute_result"
    }
   ],
   "source": [
    "sample_averages <= observed_average"
   ]
  },
  {
   "cell_type": "code",
   "execution_count": 31,
   "metadata": {},
   "outputs": [
    {
     "data": {
      "text/plain": [
       "0.057299999999999997"
      ]
     },
     "execution_count": 31,
     "metadata": {},
     "output_type": "execute_result"
    }
   ],
   "source": [
    "sum(sample_averages <= observed_average) / 50000 #percentile of the observed value 13.6667 "
   ]
  },
  {
   "cell_type": "code",
   "execution_count": 32,
   "metadata": {},
   "outputs": [
    {
     "data": {
      "text/plain": [
       "13.592592592592593"
      ]
     },
     "execution_count": 32,
     "metadata": {},
     "output_type": "execute_result"
    }
   ],
   "source": [
    "# 5% of 50,000 = 2500\n",
    "\n",
    "five_percent_point = averages_tbl.sort(0).column(0).item(2500)\n",
    "five_percent_point #less than 13.6667 "
   ]
  },
  {
   "cell_type": "code",
   "execution_count": 33,
   "metadata": {},
   "outputs": [
    {
     "data": {
      "image/png": "[encoded data removed]",
      "text/plain": [
       "<Figure size 432x288 with 1 Axes>"
      ]
     },
     "metadata": {},
     "output_type": "display_data"
    }
   ],
   "source": [
    "averages_tbl.hist(bins = 20)\n",
    "plots.plot([five_percent_point, five_percent_point], [0, 0.35], color='gold', lw=2)\n",
    "plots.title('Area to the left of the gold line: 5%');"
   ]
  },
  {
   "cell_type": "code",
   "execution_count": null,
   "metadata": {},
   "outputs": [],
   "source": []
  }
 ],
 "metadata": {
  "anaconda-cloud": {},
  "kernelspec": {
   "display_name": "Python 3",
   "language": "python",
   "name": "python3"
  },
  "language_info": {
   "codemirror_mode": {
    "name": "ipython",
    "version": 3
   },
   "file_extension": ".py",
   "mimetype": "text/x-python",
   "name": "python",
   "nbconvert_exporter": "python",
   "pygments_lexer": "ipython3",
   "version": "3.8.5"
  }
 },
 "nbformat": 4,
 "nbformat_minor": 4
}
