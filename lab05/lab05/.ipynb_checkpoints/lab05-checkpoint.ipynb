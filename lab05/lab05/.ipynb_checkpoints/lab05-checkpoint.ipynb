{
 "cells": [
  {
   "cell_type": "code",
   "execution_count": 1,
   "id": "a77158eb",
   "metadata": {
    "deletable": false,
    "editable": false,
    "tags": []
   },
   "outputs": [],
   "source": [
    "# Initialize Otter\n",
    "import otter\n",
    "grader = otter.Notebook(\"lab05.ipynb\")"
   ]
  },
  {
   "cell_type": "markdown",
   "id": "3e788a48",
   "metadata": {},
   "source": [
    "# Lab 5: Simulations\n",
    "\n",
    "Welcome to Lab 5! \n",
    "\n",
    "We will go over [iteration](https://www.inferentialthinking.com/chapters/09/2/Iteration.html) and [simulations](https://www.inferentialthinking.com/chapters/09/3/Simulation.html), as well as introduce the concept of [randomness](https://www.inferentialthinking.com/chapters/09/Randomness.html).\n",
    "\n",
    "The data used in this lab will contain salary data and other statistics for basketball players from the 2014-2015 NBA season. This data was collected from the following sports analytic sites: [Basketball Reference](http://www.basketball-reference.com) and [Spotrac](http://www.spotrac.com).\n",
    "\n",
    "\n",
    "\n",
    "\n",
    "**Submission**: Once you're finished, scroll up to the top of the page, and run every cell in the notebook.  Select \"Save and Checkpoint\" in the File menu **(please don’t hit Save As)**, then rerun the last cell of the notebook.  The result will contain a zip file that you can submit. \n",
    "\n",
    "First, set up the notebook by running the cell below."
   ]
  },
  {
   "cell_type": "code",
   "execution_count": 2,
   "id": "ffa1c766",
   "metadata": {
    "tags": []
   },
   "outputs": [],
   "source": [
    "# Run this cell, but please don't change it.\n",
    "\n",
    "# These lines import the Numpy and Datascience modules.\n",
    "import numpy as np\n",
    "from datascience import *\n",
    "\n",
    "# These lines do some fancy plotting magic\n",
    "import matplotlib\n",
    "%matplotlib inline\n",
    "import matplotlib.pyplot as plt\n",
    "plt.style.use('fivethirtyeight')\n",
    "\n",
    "import d8error"
   ]
  },
  {
   "cell_type": "markdown",
   "id": "40f6891f",
   "metadata": {},
   "source": [
    "## 1. Nachos and Conditionals"
   ]
  },
  {
   "cell_type": "markdown",
   "id": "9a828f81",
   "metadata": {},
   "source": [
    "In Python, the boolean data type contains only two unique values:  `True` and `False`. Expressions containing comparison operators such as `<` (less than), `>` (greater than), and `==` (equal to) evaluate to Boolean values. A list of common comparison operators can be found below!\n",
    "\n",
    "<img src=\"comparisons.png\">"
   ]
  },
  {
   "cell_type": "markdown",
   "id": "96d1497c",
   "metadata": {},
   "source": [
    "Run the cell below to see an example of a comparison operator in action."
   ]
  },
  {
   "cell_type": "code",
   "execution_count": 3,
   "id": "98d19d79",
   "metadata": {
    "tags": []
   },
   "outputs": [
    {
     "data": {
      "text/plain": [
       "True"
      ]
     },
     "execution_count": 3,
     "metadata": {},
     "output_type": "execute_result"
    }
   ],
   "source": [
    "3 > (1 + 1)"
   ]
  },
  {
   "cell_type": "markdown",
   "id": "1a084def",
   "metadata": {},
   "source": [
    "We can even assign the result of a comparison operation to a variable."
   ]
  },
  {
   "cell_type": "code",
   "execution_count": 4,
   "id": "428b75bb",
   "metadata": {
    "tags": []
   },
   "outputs": [
    {
     "data": {
      "text/plain": [
       "True"
      ]
     },
     "execution_count": 4,
     "metadata": {},
     "output_type": "execute_result"
    }
   ],
   "source": [
    "result = 10 / 2 == 5\n",
    "result"
   ]
  },
  {
   "cell_type": "markdown",
   "id": "218499c2",
   "metadata": {},
   "source": [
    "Arrays are compatible with comparison operators. The output is an array of boolean values."
   ]
  },
  {
   "cell_type": "code",
   "execution_count": 5,
   "id": "3a3a5bab",
   "metadata": {
    "tags": []
   },
   "outputs": [
    {
     "data": {
      "text/plain": [
       "array([False,  True,  True,  True, False, False], dtype=bool)"
      ]
     },
     "execution_count": 5,
     "metadata": {},
     "output_type": "execute_result"
    }
   ],
   "source": [
    "make_array(1, 5, 7, 8, 3, -1) > 3"
   ]
  },
  {
   "cell_type": "markdown",
   "id": "7698e0af",
   "metadata": {},
   "source": [
    "One day, when you come home after a long week, you see a hot bowl of nachos waiting on the dining table! Let's say that whenever you take a nacho from the bowl, it will either have only **cheese**, only **salsa**, **both** cheese and salsa, or **neither** cheese nor salsa (a sad tortilla chip indeed). \n",
    "\n",
    "Let's try and simulate taking nachos from the bowl at random using the function, `np.random.choice(...)`."
   ]
  },
  {
   "cell_type": "markdown",
   "id": "58e8acdb",
   "metadata": {},
   "source": [
    "### `np.random.choice`\n",
    "\n",
    "`np.random.choice` picks one item at random from the given array. It is equally likely to pick any of the items. Run the cell below several times, and observe how the results change."
   ]
  },
  {
   "cell_type": "code",
   "execution_count": 6,
   "id": "7a4a1df3",
   "metadata": {
    "tags": []
   },
   "outputs": [
    {
     "data": {
      "text/plain": [
       "'both'"
      ]
     },
     "execution_count": 6,
     "metadata": {},
     "output_type": "execute_result"
    }
   ],
   "source": [
    "nachos = make_array('cheese', 'salsa', 'both', 'neither')\n",
    "np.random.choice(nachos)"
   ]
  },
  {
   "cell_type": "markdown",
   "id": "d73fdae6",
   "metadata": {},
   "source": [
    "To repeat this process multiple times, pass in an int `n` as the second argument to return `n` different random choices. By default, `np.random.choice` samples **with replacement** and returns an *array* of items. Sampling **with replacement** means if we sample `n` times, each time, every element has an equal chance of being selected.\n",
    "\n",
    "Run the next cell to see an example of sampling with replacement 10 times from the `nachos` array."
   ]
  },
  {
   "cell_type": "code",
   "execution_count": 7,
   "id": "b0422c8c",
   "metadata": {
    "tags": []
   },
   "outputs": [
    {
     "data": {
      "text/plain": [
       "array(['neither', 'cheese', 'neither', 'cheese', 'salsa', 'neither',\n",
       "       'salsa', 'cheese', 'cheese', 'salsa'],\n",
       "      dtype='<U7')"
      ]
     },
     "execution_count": 7,
     "metadata": {},
     "output_type": "execute_result"
    }
   ],
   "source": [
    "np.random.choice(nachos, 10)"
   ]
  },
  {
   "cell_type": "markdown",
   "id": "b40cbb7c",
   "metadata": {},
   "source": [
    "To count the number of times a certain type of nacho is randomly chosen, we can use `np.count_nonzero`"
   ]
  },
  {
   "cell_type": "markdown",
   "id": "ec41f47c",
   "metadata": {},
   "source": [
    "### `np.count_nonzero`\n",
    "\n",
    "`np.count_nonzero` counts the number of non-zero values that appear in an array. When an array of boolean values are passed through the function, it will count the number of `True` values (remember that in Python, `True` is coded as 1 and `False` is coded as 0.)\n",
    "\n",
    "Run the next cell to see an example that uses `np.count_nonzero`."
   ]
  },
  {
   "cell_type": "code",
   "execution_count": 8,
   "id": "17376454",
   "metadata": {
    "tags": []
   },
   "outputs": [
    {
     "data": {
      "text/plain": [
       "3"
      ]
     },
     "execution_count": 8,
     "metadata": {},
     "output_type": "execute_result"
    }
   ],
   "source": [
    "np.count_nonzero(make_array(True, False, False, True, True))"
   ]
  },
  {
   "cell_type": "markdown",
   "id": "11828264",
   "metadata": {
    "deletable": false,
    "editable": false
   },
   "source": [
    "**Question 1.1** Assume we took ten nachos at random, and stored the results in an array called `ten_nachos` as done below. Find the number of nachos with only cheese using code (do not hardcode the answer).  \n",
    "\n",
    "*Hint:* Our solution involves a comparison operator (e.g. `==`, `<`, ...) and the `np.count_nonzero` method.\n",
    "\n",
    "<!--\n",
    "BEGIN QUESTION\n",
    "name: q11\n",
    "-->"
   ]
  },
  {
   "cell_type": "code",
   "execution_count": 10,
   "id": "555e6650",
   "metadata": {
    "tags": []
   },
   "outputs": [
    {
     "data": {
      "text/plain": [
       "3"
      ]
     },
     "execution_count": 10,
     "metadata": {},
     "output_type": "execute_result"
    }
   ],
   "source": [
    "ten_nachos = make_array('neither', 'cheese', 'both', 'both', 'cheese', 'salsa', 'both', 'neither', 'cheese', 'both')\n",
    "number_cheese = np.count_nonzero(ten_nachos == 'cheese')\n",
    "number_cheese"
   ]
  },
  {
   "cell_type": "code",
   "execution_count": 11,
   "id": "d567ff73",
   "metadata": {
    "deletable": false,
    "editable": false,
    "tags": []
   },
   "outputs": [
    {
     "data": {
      "text/html": [
       "<p><strong><pre style='display: inline;'>q11</pre></strong> passed! 🌟</p>"
      ],
      "text/plain": [
       "q11 results: All test cases passed!"
      ]
     },
     "execution_count": 11,
     "metadata": {},
     "output_type": "execute_result"
    }
   ],
   "source": [
    "grader.check(\"q11\")"
   ]
  },
  {
   "cell_type": "markdown",
   "id": "7712123d",
   "metadata": {},
   "source": [
    "**Conditional Statements**\n",
    "\n",
    "A conditional statement is a multi-line statement that allows Python to choose among different alternatives based on the truth value of an expression.\n",
    "\n",
    "Here is a basic example.\n",
    "\n",
    "```\n",
    "def sign(x):\n",
    "    if x > 0:\n",
    "        return 'Positive'\n",
    "    else:\n",
    "        return 'Negative'\n",
    "```\n",
    "\n",
    "If the input `x` is greater than `0`, we return the string `'Positive'`. Otherwise, we return `'Negative'`.\n",
    "\n",
    "If we want to test multiple conditions at once, we use the following general format.\n",
    "\n",
    "```\n",
    "if <if expression>:\n",
    "    <if body>\n",
    "elif <elif expression 0>:\n",
    "    <elif body 0>\n",
    "elif <elif expression 1>:\n",
    "    <elif body 1>\n",
    "...\n",
    "else:\n",
    "    <else body>\n",
    "```\n",
    "\n",
    "Only the body for the first conditional expression that is true will be evaluated. Each `if` and `elif` expression is evaluated and considered in order, starting at the top. `elif` can only be used if an `if` clause precedes it. As soon as a true value is found, the corresponding body is executed, and the rest of the conditional statement is skipped. If none of the `if` or `elif` expressions are true, then the `else body` is executed. \n",
    "\n",
    "For more examples and explanation, refer to the section on conditional statements [here](https://inferentialthinking.com/chapters/09/1/Conditional_Statements.html)."
   ]
  },
  {
   "cell_type": "markdown",
   "id": "e8909f63",
   "metadata": {
    "deletable": false,
    "editable": false
   },
   "source": [
    "**Question 1.2** Complete the following conditional statement so that the string `'More please'` is assigned to the variable `say_please` if the number of nachos with cheese in `ten_nachos` is less than `5`. Use the if statement to do this (do not directly reassign the variable `say_please`). \n",
    "\n",
    "*Hint*: You should be using `number_cheese` from Question 1.\n",
    "\n",
    "<!--\n",
    "BEGIN QUESTION\n",
    "name: q12\n",
    "-->"
   ]
  },
  {
   "cell_type": "code",
   "execution_count": 12,
   "id": "8729feb4",
   "metadata": {
    "for_assignment_type": "student",
    "tags": []
   },
   "outputs": [
    {
     "data": {
      "text/plain": [
       "'More please'"
      ]
     },
     "execution_count": 12,
     "metadata": {},
     "output_type": "execute_result"
    }
   ],
   "source": [
    "say_please = '?'\n",
    "\n",
    "if np.count_nonzero(ten_nachos == 'cheese') < 5:\n",
    "    say_please = 'More please'\n",
    "say_please"
   ]
  },
  {
   "cell_type": "code",
   "execution_count": 13,
   "id": "0cba98c2",
   "metadata": {
    "deletable": false,
    "editable": false,
    "tags": []
   },
   "outputs": [
    {
     "data": {
      "text/html": [
       "<p><strong><pre style='display: inline;'>q12</pre></strong> passed! 🌈</p>"
      ],
      "text/plain": [
       "q12 results: All test cases passed!"
      ]
     },
     "execution_count": 13,
     "metadata": {},
     "output_type": "execute_result"
    }
   ],
   "source": [
    "grader.check(\"q12\")"
   ]
  },
  {
   "cell_type": "markdown",
   "id": "3f335e87",
   "metadata": {
    "deletable": false,
    "editable": false
   },
   "source": [
    "**Question 1.3** Write a function called `nacho_reaction` that returns a reaction (as a string) based on the type of nacho passed in as an argument. Use the table below to match the nacho type to the appropriate reaction.\n",
    "\n",
    "<img src=\"nacho_reactions.png\">\n",
    "\n",
    "*Hint:* If you're failing the test, double check the spelling of your reactions.\n",
    "\n",
    "<!--\n",
    "BEGIN QUESTION\n",
    "name: q13\n",
    "-->"
   ]
  },
  {
   "cell_type": "code",
   "execution_count": 16,
   "id": "2658f8b1",
   "metadata": {
    "for_assignment_type": "student",
    "tags": []
   },
   "outputs": [
    {
     "data": {
      "text/plain": [
       "'Spicy!'"
      ]
     },
     "execution_count": 16,
     "metadata": {},
     "output_type": "execute_result"
    }
   ],
   "source": [
    "def nacho_reaction(nacho):\n",
    "    if nacho == \"cheese\":\n",
    "        return 'Cheesy!'\n",
    "    elif nacho == \"salsa\" :\n",
    "        return 'Spicy!'\n",
    "    elif nacho == \"both\" :\n",
    "        return 'Wow!'\n",
    "    else :\n",
    "        return 'Meh.'\n",
    "\n",
    "spicy_nacho = nacho_reaction('salsa')\n",
    "spicy_nacho"
   ]
  },
  {
   "cell_type": "code",
   "execution_count": 17,
   "id": "4865803b",
   "metadata": {
    "deletable": false,
    "editable": false,
    "tags": []
   },
   "outputs": [
    {
     "data": {
      "text/html": [
       "<p><strong><pre style='display: inline;'>q13</pre></strong> passed! 🌟</p>"
      ],
      "text/plain": [
       "q13 results: All test cases passed!"
      ]
     },
     "execution_count": 17,
     "metadata": {},
     "output_type": "execute_result"
    }
   ],
   "source": [
    "grader.check(\"q13\")"
   ]
  },
  {
   "cell_type": "markdown",
   "id": "ea8ee7b2",
   "metadata": {
    "deletable": false,
    "editable": false
   },
   "source": [
    "**Question 1.4** Create a table `ten_nachos_reactions` that consists of the nachos in `ten_nachos` as well as the reactions for each of those nachos. The columns should be called `Nachos` and `Reactions`.\n",
    "\n",
    "*Hint:* Use the `apply` method. \n",
    "\n",
    "<!--\n",
    "BEGIN QUESTION\n",
    "name: q14\n",
    "-->"
   ]
  },
  {
   "cell_type": "code",
   "execution_count": 18,
   "id": "09b1da72",
   "metadata": {
    "for_assignment_type": "student",
    "tags": []
   },
   "outputs": [
    {
     "data": {
      "text/html": [
       "<table border=\"1\" class=\"dataframe\">\n",
       "    <thead>\n",
       "        <tr>\n",
       "            <th>Nachos</th> <th>Reactions</th>\n",
       "        </tr>\n",
       "    </thead>\n",
       "    <tbody>\n",
       "        <tr>\n",
       "            <td>neither</td> <td>Meh.     </td>\n",
       "        </tr>\n",
       "        <tr>\n",
       "            <td>cheese </td> <td>Cheesy!  </td>\n",
       "        </tr>\n",
       "        <tr>\n",
       "            <td>both   </td> <td>Wow!     </td>\n",
       "        </tr>\n",
       "        <tr>\n",
       "            <td>both   </td> <td>Wow!     </td>\n",
       "        </tr>\n",
       "        <tr>\n",
       "            <td>cheese </td> <td>Cheesy!  </td>\n",
       "        </tr>\n",
       "        <tr>\n",
       "            <td>salsa  </td> <td>Spicy!   </td>\n",
       "        </tr>\n",
       "        <tr>\n",
       "            <td>both   </td> <td>Wow!     </td>\n",
       "        </tr>\n",
       "        <tr>\n",
       "            <td>neither</td> <td>Meh.     </td>\n",
       "        </tr>\n",
       "        <tr>\n",
       "            <td>cheese </td> <td>Cheesy!  </td>\n",
       "        </tr>\n",
       "        <tr>\n",
       "            <td>both   </td> <td>Wow!     </td>\n",
       "        </tr>\n",
       "    </tbody>\n",
       "</table>"
      ],
      "text/plain": [
       "Nachos  | Reactions\n",
       "neither | Meh.\n",
       "cheese  | Cheesy!\n",
       "both    | Wow!\n",
       "both    | Wow!\n",
       "cheese  | Cheesy!\n",
       "salsa   | Spicy!\n",
       "both    | Wow!\n",
       "neither | Meh.\n",
       "cheese  | Cheesy!\n",
       "both    | Wow!"
      ]
     },
     "execution_count": 18,
     "metadata": {},
     "output_type": "execute_result"
    }
   ],
   "source": [
    "ten_nachos_tbl = Table().with_column('Nachos', ten_nachos)\n",
    "ten_nachos_reactions = ten_nachos_tbl.with_column('Reactions', ten_nachos_tbl.apply(nacho_reaction, 'Nachos'))\n",
    "ten_nachos_reactions"
   ]
  },
  {
   "cell_type": "code",
   "execution_count": 19,
   "id": "0c9b1bab",
   "metadata": {
    "deletable": false,
    "editable": false,
    "tags": []
   },
   "outputs": [
    {
     "data": {
      "text/html": [
       "<p><strong><pre style='display: inline;'>q14</pre></strong> passed! 🎉</p>"
      ],
      "text/plain": [
       "q14 results: All test cases passed!"
      ]
     },
     "execution_count": 19,
     "metadata": {},
     "output_type": "execute_result"
    }
   ],
   "source": [
    "grader.check(\"q14\")"
   ]
  },
  {
   "cell_type": "markdown",
   "id": "76207c4f",
   "metadata": {
    "deletable": false,
    "editable": false
   },
   "source": [
    "**Question 1.5** Using code, find the number of 'Wow!' reactions for the nachos in `ten_nachos_reactions`.\n",
    "\n",
    "<!--\n",
    "BEGIN QUESTION\n",
    "name: q15\n",
    "-->"
   ]
  },
  {
   "cell_type": "code",
   "execution_count": 21,
   "id": "da7ad873",
   "metadata": {
    "tags": []
   },
   "outputs": [
    {
     "data": {
      "text/plain": [
       "4"
      ]
     },
     "execution_count": 21,
     "metadata": {},
     "output_type": "execute_result"
    }
   ],
   "source": [
    "number_wow_reactions = np.count_nonzero(ten_nachos_reactions.column('Reactions') == 'Wow!')\n",
    "number_wow_reactions"
   ]
  },
  {
   "cell_type": "code",
   "execution_count": 22,
   "id": "44748f46",
   "metadata": {
    "deletable": false,
    "editable": false,
    "tags": []
   },
   "outputs": [
    {
     "data": {
      "text/html": [
       "<p><strong><pre style='display: inline;'>q15</pre></strong> passed! 🎉</p>"
      ],
      "text/plain": [
       "q15 results: All test cases passed!"
      ]
     },
     "execution_count": 22,
     "metadata": {},
     "output_type": "execute_result"
    }
   ],
   "source": [
    "grader.check(\"q15\")"
   ]
  },
  {
   "cell_type": "markdown",
   "id": "75389f5c",
   "metadata": {},
   "source": [
    "## 2. Simulations and For Loops\n",
    "Using a `for` statement, we can perform a task multiple times. This is known as iteration. The general structure of a for loop is:\n",
    "\n",
    "`for <placeholder> in <array>:` followed by indented lines of code that are repeated for each element of the `array` being iterated over. You can read more about for loops [here](https://www.inferentialthinking.com/chapters/09/2/Iteration.html). \n",
    "\n",
    "**NOTE:** We often use `i` as the `placeholder` in our class examples, but you could name it anything! Some examples can be found below."
   ]
  },
  {
   "cell_type": "markdown",
   "id": "58393257",
   "metadata": {},
   "source": [
    "One use of iteration is to loop through a set of values. For instance, we can print out all of the colors of the rainbow."
   ]
  },
  {
   "cell_type": "code",
   "execution_count": 23,
   "id": "081e8a5d",
   "metadata": {
    "tags": []
   },
   "outputs": [
    {
     "name": "stdout",
     "output_type": "stream",
     "text": [
      "red\n",
      "orange\n",
      "yellow\n",
      "green\n",
      "blue\n",
      "indigo\n",
      "violet\n"
     ]
    }
   ],
   "source": [
    "rainbow = make_array(\"red\", \"orange\", \"yellow\", \"green\", \"blue\", \"indigo\", \"violet\")\n",
    "\n",
    "for color in rainbow:\n",
    "    print(color)"
   ]
  },
  {
   "cell_type": "markdown",
   "id": "97af7a39",
   "metadata": {},
   "source": [
    "We can see that the indented part of the `for` loop, known as the body, is executed once for each item in `rainbow`. The name `color` is assigned to the next value in `rainbow` at the start of each iteration. Note that the name `color` is arbitrary; we could easily have named it something else. The important thing is we stay consistent throughout the `for` loop. "
   ]
  },
  {
   "cell_type": "code",
   "execution_count": 24,
   "id": "5d17c20e",
   "metadata": {
    "tags": []
   },
   "outputs": [
    {
     "name": "stdout",
     "output_type": "stream",
     "text": [
      "red\n",
      "orange\n",
      "yellow\n",
      "green\n",
      "blue\n",
      "indigo\n",
      "violet\n"
     ]
    }
   ],
   "source": [
    "for another_name in rainbow:\n",
    "    print(another_name)"
   ]
  },
  {
   "cell_type": "markdown",
   "id": "bec89d8d",
   "metadata": {},
   "source": [
    "In general, however, we would like the variable name to be somewhat informative. "
   ]
  },
  {
   "cell_type": "markdown",
   "id": "b13aa536",
   "metadata": {
    "deletable": false,
    "editable": false
   },
   "source": [
    "**Question 2.1** In the following cell, we've loaded the text of _Pride and Prejudice_ by Jane Austen, split it into individual words, and stored these words in an array `p_and_p_words`. Using a `for` loop, assign `longer_than_five` to the number of words in the novel that are more than 5 letters long.\n",
    "\n",
    "*Hint*: You can find the number of letters in a word with the `len` function.\n",
    "\n",
    "*Hint*: How can you use `longer_than_five` to keep track of the number of words that are more than five letters long?\n",
    "\n",
    "<!--\n",
    "BEGIN QUESTION\n",
    "name: q21\n",
    "-->"
   ]
  },
  {
   "cell_type": "code",
   "execution_count": 26,
   "id": "b5a40006",
   "metadata": {
    "for_assignment_type": "student",
    "tags": []
   },
   "outputs": [
    {
     "data": {
      "text/plain": [
       "35453"
      ]
     },
     "execution_count": 26,
     "metadata": {},
     "output_type": "execute_result"
    }
   ],
   "source": [
    "austen_string = open('Austen_PrideAndPrejudice.txt', encoding='utf-8').read()\n",
    "p_and_p_words = np.array(austen_string.split())\n",
    "\n",
    "longer_than_five = 0\n",
    "\n",
    "for word in p_and_p_words:\n",
    "    if len(word) > 5:\n",
    "        longer_than_five += 1\n",
    "longer_than_five"
   ]
  },
  {
   "cell_type": "code",
   "execution_count": 27,
   "id": "4d22bb53",
   "metadata": {
    "deletable": false,
    "editable": false,
    "tags": []
   },
   "outputs": [
    {
     "data": {
      "text/html": [
       "<p><strong><pre style='display: inline;'>q21</pre></strong> passed! 🌟</p>"
      ],
      "text/plain": [
       "q21 results: All test cases passed!"
      ]
     },
     "execution_count": 27,
     "metadata": {},
     "output_type": "execute_result"
    }
   ],
   "source": [
    "grader.check(\"q21\")"
   ]
  },
  {
   "cell_type": "markdown",
   "id": "447d899a",
   "metadata": {},
   "source": [
    "Another way we can use `for` loops is to repeat lines of code many times. Recall the structure of a `for` loop: \n",
    "\n",
    "`for <placeholder> in <array>:` followed by indented lines of code that are repeated for each element of the array being iterated over. \n",
    "\n",
    "Sometimes, we don't care about what the value of the placeholder is. We instead take advantage of the fact that the `for` loop will repeat as many times as the length of our array. In the following cell, we iterate through an array of length 5 and print out \"Hello, world!\" in each iteration. "
   ]
  },
  {
   "cell_type": "code",
   "execution_count": 28,
   "id": "534e8f39",
   "metadata": {
    "tags": []
   },
   "outputs": [
    {
     "name": "stdout",
     "output_type": "stream",
     "text": [
      "Hello, world!\n",
      "Hello, world!\n",
      "Hello, world!\n",
      "Hello, world!\n",
      "Hello, world!\n"
     ]
    }
   ],
   "source": [
    "for i in np.arange(5):\n",
    "    print(\"Hello, world!\")"
   ]
  },
  {
   "cell_type": "markdown",
   "id": "d444a4f1",
   "metadata": {
    "deletable": false,
    "editable": false
   },
   "source": [
    "**Question 2.2** Using a simulation with 10,000 trials, assign `num_different` to the number of times, in 10,000 trials, that two words picked uniformly at random (with replacement) from Pride and Prejudice have different lengths. \n",
    "\n",
    "*Hint 1*: What function did we use in section 1 to sample at random with replacement from an array? \n",
    "\n",
    "*Hint 2*: Remember that `!=` checks for non-equality between two items.\n",
    "\n",
    "<!--\n",
    "BEGIN QUESTION\n",
    "name: q22\n",
    "-->"
   ]
  },
  {
   "cell_type": "code",
   "execution_count": 41,
   "id": "24afda4e",
   "metadata": {
    "for_assignment_type": "student",
    "tags": []
   },
   "outputs": [
    {
     "data": {
      "text/plain": [
       "8540"
      ]
     },
     "execution_count": 41,
     "metadata": {},
     "output_type": "execute_result"
    }
   ],
   "source": [
    "trials = 10000\n",
    "num_different = 0\n",
    "\n",
    "for words in np.arange(trials):\n",
    "    random = np.random.choice(p_and_p_words, 2)\n",
    "    if len(random.item(0)) != len(random.item(1)):\n",
    "        num_different += 1\n",
    "num_different"
   ]
  },
  {
   "cell_type": "code",
   "execution_count": 42,
   "id": "4cd19663",
   "metadata": {
    "deletable": false,
    "editable": false,
    "tags": []
   },
   "outputs": [
    {
     "data": {
      "text/html": [
       "<p><strong><pre style='display: inline;'>q22</pre></strong> passed! 🙌</p>"
      ],
      "text/plain": [
       "q22 results: All test cases passed!"
      ]
     },
     "execution_count": 42,
     "metadata": {},
     "output_type": "execute_result"
    }
   ],
   "source": [
    "grader.check(\"q22\")"
   ]
  },
  {
   "cell_type": "markdown",
   "id": "89d0ad9a",
   "metadata": {},
   "source": [
    "## 3. Sampling Basketball Data\n",
    "\n",
    "We will now introduce the topic of sampling, which we’ll be discussing in more depth in this week’s lectures. We’ll guide you through this code, but if you wish to read more about different kinds of samples before attempting this question, you can check out [section 10 of the textbook](https://www.inferentialthinking.com/chapters/10/Sampling_and_Empirical_Distributions.html).\n",
    "\n",
    "Run the cell below to load player and salary data that we will use for our sampling. "
   ]
  },
  {
   "cell_type": "code",
   "execution_count": 43,
   "id": "5e0a9516",
   "metadata": {
    "tags": []
   },
   "outputs": [
    {
     "data": {
      "text/html": [
       "<table border=\"1\" class=\"dataframe\">\n",
       "    <thead>\n",
       "        <tr>\n",
       "            <th>Name</th> <th>Age</th> <th>Team</th> <th>Games</th> <th>Rebounds</th> <th>Assists</th> <th>Steals</th> <th>Blocks</th> <th>Turnovers</th> <th>Points</th>\n",
       "        </tr>\n",
       "    </thead>\n",
       "    <tbody>\n",
       "        <tr>\n",
       "            <td>James Harden </td> <td>25  </td> <td>HOU </td> <td>81   </td> <td>459     </td> <td>565    </td> <td>154   </td> <td>60    </td> <td>321      </td> <td>2217  </td>\n",
       "        </tr>\n",
       "        <tr>\n",
       "            <td>Chris Paul   </td> <td>29  </td> <td>LAC </td> <td>82   </td> <td>376     </td> <td>838    </td> <td>156   </td> <td>15    </td> <td>190      </td> <td>1564  </td>\n",
       "        </tr>\n",
       "        <tr>\n",
       "            <td>Stephen Curry</td> <td>26  </td> <td>GSW </td> <td>80   </td> <td>341     </td> <td>619    </td> <td>163   </td> <td>16    </td> <td>249      </td> <td>1900  </td>\n",
       "        </tr>\n",
       "    </tbody>\n",
       "</table>\n",
       "<p>... (489 rows omitted)</p>"
      ],
      "text/plain": [
       "<IPython.core.display.HTML object>"
      ]
     },
     "metadata": {},
     "output_type": "display_data"
    },
    {
     "data": {
      "text/html": [
       "<table border=\"1\" class=\"dataframe\">\n",
       "    <thead>\n",
       "        <tr>\n",
       "            <th>PlayerName</th> <th>Salary</th>\n",
       "        </tr>\n",
       "    </thead>\n",
       "    <tbody>\n",
       "        <tr>\n",
       "            <td>Kobe Bryant      </td> <td>23500000</td>\n",
       "        </tr>\n",
       "        <tr>\n",
       "            <td>Amar'e Stoudemire</td> <td>23410988</td>\n",
       "        </tr>\n",
       "        <tr>\n",
       "            <td>Joe Johnson      </td> <td>23180790</td>\n",
       "        </tr>\n",
       "    </tbody>\n",
       "</table>\n",
       "<p>... (489 rows omitted)</p>"
      ],
      "text/plain": [
       "<IPython.core.display.HTML object>"
      ]
     },
     "metadata": {},
     "output_type": "display_data"
    },
    {
     "data": {
      "text/html": [
       "<table border=\"1\" class=\"dataframe\">\n",
       "    <thead>\n",
       "        <tr>\n",
       "            <th>PlayerName</th> <th>Salary</th> <th>Age</th> <th>Team</th> <th>Games</th> <th>Rebounds</th> <th>Assists</th> <th>Steals</th> <th>Blocks</th> <th>Turnovers</th> <th>Points</th>\n",
       "        </tr>\n",
       "    </thead>\n",
       "    <tbody>\n",
       "        <tr>\n",
       "            <td>A.J. Price  </td> <td>62552  </td> <td>28  </td> <td>TOT </td> <td>26   </td> <td>32      </td> <td>46     </td> <td>7     </td> <td>0     </td> <td>14       </td> <td>133   </td>\n",
       "        </tr>\n",
       "        <tr>\n",
       "            <td>Aaron Brooks</td> <td>1145685</td> <td>30  </td> <td>CHI </td> <td>82   </td> <td>166     </td> <td>261    </td> <td>54    </td> <td>15    </td> <td>157      </td> <td>954   </td>\n",
       "        </tr>\n",
       "        <tr>\n",
       "            <td>Aaron Gordon</td> <td>3992040</td> <td>19  </td> <td>ORL </td> <td>47   </td> <td>169     </td> <td>33     </td> <td>21    </td> <td>22    </td> <td>38       </td> <td>243   </td>\n",
       "        </tr>\n",
       "    </tbody>\n",
       "</table>\n",
       "<p>... (489 rows omitted)</p>"
      ],
      "text/plain": [
       "<IPython.core.display.HTML object>"
      ]
     },
     "metadata": {},
     "output_type": "display_data"
    }
   ],
   "source": [
    "player_data = Table().read_table(\"player_data.csv\")\n",
    "salary_data = Table().read_table(\"salary_data.csv\")\n",
    "full_data = salary_data.join(\"PlayerName\", player_data, \"Name\")\n",
    "\n",
    "# The show method immediately displays the contents of a table. \n",
    "# This way, we can display the top of two tables using a single cell.\n",
    "player_data.show(3)\n",
    "salary_data.show(3)\n",
    "full_data.show(3)"
   ]
  },
  {
   "cell_type": "markdown",
   "id": "f45e7806",
   "metadata": {},
   "source": [
    "Rather than getting data on every player (as in the tables loaded above), imagine that we had gotten data on only a smaller subset of the players. For 492 players, it's not so unreasonable to expect to see all the data, but usually we aren't so lucky. \n",
    "\n",
    "If we want to make estimates about a certain numerical property of the population, we may have to come up with these estimates based only on a smaller sample. The numerical property of the population is known as a parameter, and the estimate is known as a statistic (e.g. the mean or median). Whether these estimates are useful or not often depends on how the sample was gathered. We have prepared some example sample datasets to see how they compare to the full NBA dataset. Later we'll ask you to create your own samples to see how they behave."
   ]
  },
  {
   "cell_type": "markdown",
   "id": "13a25a41",
   "metadata": {},
   "source": [
    "To save typing and increase the clarity of your code, we will package the analysis code into a few functions. This will be useful in the rest of the lab as we will repeatedly need to create histograms and collect summary statistics from that data."
   ]
  },
  {
   "cell_type": "markdown",
   "id": "045de697",
   "metadata": {},
   "source": [
    "We've defined the `histograms` function below, which takes a table with columns `Age` and `Salary` and draws a histogram for each one. It uses bin widths of 1 year for `Age` and $1,000,000 for `Salary`."
   ]
  },
  {
   "cell_type": "code",
   "execution_count": 44,
   "id": "0f9de540",
   "metadata": {
    "scrolled": true,
    "tags": []
   },
   "outputs": [
    {
     "name": "stdout",
     "output_type": "stream",
     "text": [
      "Two histograms should be displayed below\n"
     ]
    },
    {
     "data": {
      "image/png": "[encoded data removed]",
      "text/plain": [
       "<Figure size 600x400 with 1 Axes>"
      ]
     },
     "metadata": {},
     "output_type": "display_data"
    },
    {
     "data": {
      "image/png": "[encoded data removed]",
      "text/plain": [
       "<Figure size 600x400 with 1 Axes>"
      ]
     },
     "metadata": {},
     "output_type": "display_data"
    }
   ],
   "source": [
    "def histograms(t):\n",
    "    ages = t.column('Age')\n",
    "    salaries = t.column('Salary')/1000000\n",
    "    t1 = t.drop('Salary').with_column('Salary', salaries)\n",
    "    age_bins = np.arange(min(ages), max(ages) + 2, 1) \n",
    "    salary_bins = np.arange(min(salaries), max(salaries) + 1, 1)\n",
    "    t1.hist('Age', bins=age_bins, unit='year')\n",
    "    plt.title('Age distribution')\n",
    "    t1.hist('Salary', bins=salary_bins, unit='million dollars')\n",
    "    plt.title('Salary distribution') \n",
    "    \n",
    "histograms(full_data)\n",
    "print('Two histograms should be displayed below')"
   ]
  },
  {
   "cell_type": "markdown",
   "id": "4e16c430",
   "metadata": {
    "deletable": false,
    "editable": false
   },
   "source": [
    "**Question 3.1**. Create a function called `compute_statistics` that takes a table containing an \"Age\" column and a \"Salary\" column and:\n",
    "- Draws a histogram of ages\n",
    "- Draws a histogram of salaries\n",
    "- Returns a two-element array containing the average age and average salary (in that order)\n",
    "\n",
    "You can call the `histograms` function to draw the histograms! \n",
    "\n",
    "*Note:* More charts will be displayed when running the test cell. Please feel free to ignore the charts.\n",
    "\n",
    "<!--\n",
    "BEGIN QUESTION\n",
    "name: q31\n",
    "-->"
   ]
  },
  {
   "cell_type": "code",
   "execution_count": 47,
   "id": "56c3e83b",
   "metadata": {
    "tags": []
   },
   "outputs": [
    {
     "data": {
      "text/plain": [
       "array([  2.65365854e+01,   4.26977577e+06])"
      ]
     },
     "execution_count": 47,
     "metadata": {},
     "output_type": "execute_result"
    },
    {
     "data": {
      "image/png": "[encoded data removed]",
      "text/plain": [
       "<Figure size 600x400 with 1 Axes>"
      ]
     },
     "metadata": {},
     "output_type": "display_data"
    },
    {
     "data": {
      "image/png": "[encoded data removed]",
      "text/plain": [
       "<Figure size 600x400 with 1 Axes>"
      ]
     },
     "metadata": {},
     "output_type": "display_data"
    }
   ],
   "source": [
    "def compute_statistics(age_and_salary_data):\n",
    "    histograms(age_and_salary_data)\n",
    "    age = age_and_salary_data.column('Age')\n",
    "    salary = age_and_salary_data.column('Salary')\n",
    "    age_average = np.average(age)\n",
    "    salary_average = np.average(salary)\n",
    "    return(make_array(age_average, salary_average))\n",
    "    \n",
    "\n",
    "full_stats = compute_statistics(full_data)\n",
    "full_stats"
   ]
  },
  {
   "cell_type": "code",
   "execution_count": 48,
   "id": "2ef1babd",
   "metadata": {
    "deletable": false,
    "editable": false,
    "tags": []
   },
   "outputs": [
    {
     "data": {
      "text/html": [
       "<p><strong><pre style='display: inline;'>q31</pre></strong> passed! 🍀</p>"
      ],
      "text/plain": [
       "q31 results: All test cases passed!"
      ]
     },
     "execution_count": 48,
     "metadata": {},
     "output_type": "execute_result"
    }
   ],
   "source": [
    "grader.check(\"q31\")"
   ]
  },
  {
   "cell_type": "markdown",
   "id": "e6432076",
   "metadata": {},
   "source": [
    "### Simple random sampling\n",
    "A more justifiable approach is to sample uniformly at random from the players.  In a **simple random sample (SRS) without replacement**, we ensure that each player is selected at most once. Imagine writing down each player's name on a card, putting the cards in an box, and shuffling the box.  Then, pull out cards one by one and set them aside, stopping when the specified sample size is reached."
   ]
  },
  {
   "cell_type": "markdown",
   "id": "78cdb197",
   "metadata": {},
   "source": [
    "### Producing simple random samples\n",
    "Sometimes, it’s useful to take random samples even when we have the data for the whole population. It helps us understand sampling accuracy.\n",
    "\n",
    "### `sample`\n",
    "\n",
    "The table method `sample` produces a random sample from the table. By default, it draws at random **with replacement** from the rows of a table. Sampling with replacement means for any row selected randomly, there is a chance it can be selected again if we sample multiple times. `Sample` takes in the sample size as its argument and returns a **table** with only the rows that were selected. \n",
    "\n",
    "Run the cell below to see an example call to `sample()` with a sample size of 5, with replacement."
   ]
  },
  {
   "cell_type": "code",
   "execution_count": 49,
   "id": "e10132d6",
   "metadata": {
    "tags": []
   },
   "outputs": [
    {
     "data": {
      "text/html": [
       "<table border=\"1\" class=\"dataframe\">\n",
       "    <thead>\n",
       "        <tr>\n",
       "            <th>PlayerName</th> <th>Salary</th>\n",
       "        </tr>\n",
       "    </thead>\n",
       "    <tbody>\n",
       "        <tr>\n",
       "            <td>Malcolm Thomas   </td> <td>635827  </td>\n",
       "        </tr>\n",
       "        <tr>\n",
       "            <td>DeAndre Jordan   </td> <td>11440124</td>\n",
       "        </tr>\n",
       "        <tr>\n",
       "            <td>Marcus Smart     </td> <td>3283320 </td>\n",
       "        </tr>\n",
       "        <tr>\n",
       "            <td>Nick Young       </td> <td>4994420 </td>\n",
       "        </tr>\n",
       "        <tr>\n",
       "            <td>Amar'e Stoudemire</td> <td>23410988</td>\n",
       "        </tr>\n",
       "    </tbody>\n",
       "</table>"
      ],
      "text/plain": [
       "PlayerName        | Salary\n",
       "Malcolm Thomas    | 635827\n",
       "DeAndre Jordan    | 11440124\n",
       "Marcus Smart      | 3283320\n",
       "Nick Young        | 4994420\n",
       "Amar'e Stoudemire | 23410988"
      ]
     },
     "execution_count": 49,
     "metadata": {},
     "output_type": "execute_result"
    }
   ],
   "source": [
    "# Just run this cell\n",
    "\n",
    "salary_data.sample(5)"
   ]
  },
  {
   "cell_type": "markdown",
   "id": "86efcc2c",
   "metadata": {},
   "source": [
    "The optional argument `with_replacement=False` can be passed through `sample()` to specify that the sample should be drawn without replacement.\n",
    "\n",
    "Run the cell below to see an example call to `sample()` with a sample size of 5, without replacement."
   ]
  },
  {
   "cell_type": "code",
   "execution_count": 50,
   "id": "2d23bbbd",
   "metadata": {
    "tags": []
   },
   "outputs": [
    {
     "data": {
      "text/html": [
       "<table border=\"1\" class=\"dataframe\">\n",
       "    <thead>\n",
       "        <tr>\n",
       "            <th>PlayerName</th> <th>Salary</th>\n",
       "        </tr>\n",
       "    </thead>\n",
       "    <tbody>\n",
       "        <tr>\n",
       "            <td>Beno Udrih        </td> <td>2077000</td>\n",
       "        </tr>\n",
       "        <tr>\n",
       "            <td>Meyers Leonard    </td> <td>2317920</td>\n",
       "        </tr>\n",
       "        <tr>\n",
       "            <td>Ryan Kelly        </td> <td>1650000</td>\n",
       "        </tr>\n",
       "        <tr>\n",
       "            <td>Shayne Whittington</td> <td>507336 </td>\n",
       "        </tr>\n",
       "        <tr>\n",
       "            <td>Dewayne Dedmon    </td> <td>816482 </td>\n",
       "        </tr>\n",
       "    </tbody>\n",
       "</table>"
      ],
      "text/plain": [
       "PlayerName         | Salary\n",
       "Beno Udrih         | 2077000\n",
       "Meyers Leonard     | 2317920\n",
       "Ryan Kelly         | 1650000\n",
       "Shayne Whittington | 507336\n",
       "Dewayne Dedmon     | 816482"
      ]
     },
     "execution_count": 50,
     "metadata": {},
     "output_type": "execute_result"
    }
   ],
   "source": [
    "# Just run this cell\n",
    "\n",
    "salary_data.sample(5, with_replacement=False)"
   ]
  },
  {
   "cell_type": "markdown",
   "id": "588ccd5a",
   "metadata": {},
   "source": [
    "**Question 3.2** Produce a simple random sample **without** replacement of size **44** from `full_data`. Then, run your analysis on it again by using the `compute_statistics` function.  Run the cell a few times to see how the histograms and statistics change across different samples.\n",
    "\n",
    "- How much does the average age change across samples? \n",
    "- What about average salary?\n",
    "\n",
    "(FYI: srs = simple random sample, wor = without replacement)"
   ]
  },
  {
   "cell_type": "code",
   "execution_count": 52,
   "id": "73a192e2",
   "metadata": {
    "tags": []
   },
   "outputs": [
    {
     "data": {
      "text/plain": [
       "array([  2.66590909e+01,   3.34913239e+06])"
      ]
     },
     "execution_count": 52,
     "metadata": {},
     "output_type": "execute_result"
    },
    {
     "data": {
      "image/png": "[encoded data removed]",
      "text/plain": [
       "<Figure size 600x400 with 1 Axes>"
      ]
     },
     "metadata": {},
     "output_type": "display_data"
    },
    {
     "data": {
      "image/png": "[encoded data removed]",
      "text/plain": [
       "<Figure size 600x400 with 1 Axes>"
      ]
     },
     "metadata": {},
     "output_type": "display_data"
    }
   ],
   "source": [
    "my_small_srswor_data = full_data.sample(44)\n",
    "my_small_stats = compute_statistics(my_small_srswor_data)\n",
    "my_small_stats"
   ]
  },
  {
   "cell_type": "markdown",
   "id": "71d41d38",
   "metadata": {},
   "source": [
    "_Type your answer here, replacing this text._"
   ]
  },
  {
   "cell_type": "markdown",
   "id": "d416f6e7",
   "metadata": {},
   "source": [
    "## 4. More Random Sampling Practice\n",
    "\n",
    "More practice for random sampling using `np.random.choice`."
   ]
  },
  {
   "cell_type": "markdown",
   "id": "deaafe0c",
   "metadata": {},
   "source": [
    "###  Simulations and For Loops (cont.)"
   ]
  },
  {
   "cell_type": "markdown",
   "id": "e9e3ab94",
   "metadata": {
    "deletable": false,
    "editable": false
   },
   "source": [
    "**Question 4.1** We can use `np.random.choice` to simulate multiple trials.\n",
    "\n",
    "After finishing the Data 8 project, Stephanie decides to spend the rest of her night rolling a standard six-sided die. She wants to know what her total score would be if she rolled the die 1000 times. Write code that simulates her total score after 1000 rolls. \n",
    "\n",
    "*Hint:* First decide the possible values you can take in the experiment (point values in this case). Then use `np.random.choice` to simulate Stephanie’s rolls. Finally, sum up the rolls to get Stephanie's total score.\n",
    "\n",
    "<!--\n",
    "BEGIN QUESTION\n",
    "name: q41\n",
    "-->"
   ]
  },
  {
   "cell_type": "code",
   "execution_count": 54,
   "id": "2cd8e571",
   "metadata": {
    "tags": []
   },
   "outputs": [
    {
     "data": {
      "text/plain": [
       "3546"
      ]
     },
     "execution_count": 54,
     "metadata": {},
     "output_type": "execute_result"
    }
   ],
   "source": [
    "possible_point_values = make_array(1, 2, 3, 4, 5, 6)\n",
    "num_tosses = 1000\n",
    "simulated_tosses = np.random.choice(possible_point_values, num_tosses)\n",
    "total_score = sum(simulated_tosses)\n",
    "total_score"
   ]
  },
  {
   "cell_type": "code",
   "execution_count": 55,
   "id": "65b26ccb",
   "metadata": {
    "deletable": false,
    "editable": false,
    "tags": []
   },
   "outputs": [
    {
     "data": {
      "text/html": [
       "<p><strong><pre style='display: inline;'>q41</pre></strong> passed! 🌟</p>"
      ],
      "text/plain": [
       "q41 results: All test cases passed!"
      ]
     },
     "execution_count": 55,
     "metadata": {},
     "output_type": "execute_result"
    }
   ],
   "source": [
    "grader.check(\"q41\")"
   ]
  },
  {
   "cell_type": "markdown",
   "id": "af3138eb",
   "metadata": {},
   "source": [
    "### Simple random sampling (cont.)"
   ]
  },
  {
   "cell_type": "markdown",
   "id": "77323215",
   "metadata": {},
   "source": [
    "**Question 4.2** As in the previous question, analyze several simple random samples of size 100 from `full_data` by using the `compute_statistics` function.  \n",
    "- Do the histogram shapes seem to change more or less across samples of 100 than across samples of size 44?  \n",
    "- Are the sample averages and histograms closer to their true values/shape for age or for salary?  What did you expect to see?"
   ]
  },
  {
   "cell_type": "code",
   "execution_count": 56,
   "id": "d876ae09",
   "metadata": {
    "tags": []
   },
   "outputs": [
    {
     "data": {
      "text/plain": [
       "array([  2.66500000e+01,   5.07806389e+06])"
      ]
     },
     "execution_count": 56,
     "metadata": {},
     "output_type": "execute_result"
    },
    {
     "data": {
      "image/png": "[encoded data removed]",
      "text/plain": [
       "<Figure size 600x400 with 1 Axes>"
      ]
     },
     "metadata": {},
     "output_type": "display_data"
    },
    {
     "data": {
      "image/png": "[encoded data removed]",
      "text/plain": [
       "<Figure size 600x400 with 1 Axes>"
      ]
     },
     "metadata": {},
     "output_type": "display_data"
    }
   ],
   "source": [
    "my_large_srswor_data = full_data.sample(100)\n",
    "my_large_stats = compute_statistics(my_large_srswor_data)\n",
    "my_large_stats"
   ]
  },
  {
   "cell_type": "markdown",
   "id": "212170ba",
   "metadata": {},
   "source": [
    "_It seems to change less when comparing 100 samples_\n",
    "\n",
    "_The sample averages seem to be closer to their true values with 100 samples, and is mostly because having a bigger sample size will help get a better distribution of the samples_"
   ]
  },
  {
   "cell_type": "markdown",
   "id": "d1ba2f89",
   "metadata": {},
   "source": [
    "## 5. Submission\n",
    "<img src=\"luke_leia.jpg\" alt=\"drawing\" width=\"300\"/>\n",
    "\n",
    "Luke & Leia wants to congratulate you on finishing lab 5!\n",
    "\n",
    "<img src=\"luke.jpg\" alt=\"drawing\" width=\"300\"/>\n",
    "\n",
    "Luke wanted to also remind you to be sure to \n",
    "- **Run all the tests** (the next cell has a shortcut for that). \n",
    "- **Save** from the `File` menu.\n",
    "- **Run the cell at the bottom to download a .zip file and submit.**\n"
   ]
  },
  {
   "cell_type": "markdown",
   "id": "3cd2c502",
   "metadata": {
    "deletable": false,
    "editable": false
   },
   "source": [
    "---\n",
    "\n",
    "To double-check your work, the cell below will rerun all of the autograder tests."
   ]
  },
  {
   "cell_type": "code",
   "execution_count": 57,
   "id": "ecb32c85",
   "metadata": {
    "deletable": false,
    "editable": false,
    "tags": []
   },
   "outputs": [
    {
     "data": {
      "text/plain": [
       "q11 results: All test cases passed!\n",
       "\n",
       "q12 results: All test cases passed!\n",
       "\n",
       "q13 results: All test cases passed!\n",
       "\n",
       "q14 results: All test cases passed!\n",
       "\n",
       "q15 results: All test cases passed!\n",
       "\n",
       "q21 results: All test cases passed!\n",
       "\n",
       "q22 results: All test cases passed!\n",
       "\n",
       "q31 results: All test cases passed!\n",
       "\n",
       "q41 results: All test cases passed!"
      ]
     },
     "execution_count": 57,
     "metadata": {},
     "output_type": "execute_result"
    }
   ],
   "source": [
    "grader.check_all()"
   ]
  },
  {
   "cell_type": "markdown",
   "id": "1fee9775",
   "metadata": {
    "deletable": false,
    "editable": false
   },
   "source": [
    "## Submission\n",
    "\n",
    "Make sure you have run all cells in your notebook in order before running the cell below, so that all images/graphs appear in the output. The cell below will generate a zip file for you to submit. **Please save before exporting!**"
   ]
  },
  {
   "cell_type": "code",
   "execution_count": 58,
   "id": "752795d0",
   "metadata": {
    "deletable": false,
    "editable": false,
    "tags": []
   },
   "outputs": [
    {
     "data": {
      "text/html": [
       "\n",
       "                    <p>\n",
       "                        Your submission has been exported. Click\n",
       "                        <a href=\"lab05_2023_10_01T21_48_08_460656.zip\" download=\"lab05_2023_10_01T21_48_08_460656.zip\" target=\"_blank\">here</a> to download\n",
       "                        the zip file.\n",
       "                    </p>\n",
       "                "
      ],
      "text/plain": [
       "<IPython.core.display.HTML object>"
      ]
     },
     "metadata": {},
     "output_type": "display_data"
    }
   ],
   "source": [
    "# Save your notebook first, then run this cell to export your submission.\n",
    "grader.export(pdf=False)"
   ]
  },
  {
   "cell_type": "markdown",
   "id": "cd8a1e74",
   "metadata": {},
   "source": [
    " "
   ]
  }
 ],
 "metadata": {
  "kernelspec": {
   "display_name": "Python 3 (ipykernel)",
   "language": "python",
   "name": "python3"
  },
  "language_info": {
   "codemirror_mode": {
    "name": "ipython",
    "version": 3
   },
   "file_extension": ".py",
   "mimetype": "text/x-python",
   "name": "python",
   "nbconvert_exporter": "python",
   "pygments_lexer": "ipython3",
   "version": "3.11.4"
  }
 },
 "nbformat": 4,
 "nbformat_minor": 5
}
