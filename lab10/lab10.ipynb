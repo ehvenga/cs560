{
 "cells": [
  {
   "cell_type": "code",
   "execution_count": 1,
   "id": "c342688d",
   "metadata": {
    "deletable": false,
    "editable": false,
    "tags": []
   },
   "outputs": [],
   "source": [
    "# Initialize Otter\n",
    "import otter\n",
    "grader = otter.Notebook(\"lab10.ipynb\")"
   ]
  },
  {
   "cell_type": "markdown",
   "id": "0fbdd9c0",
   "metadata": {},
   "source": [
    "# Lab 10: Conditional Probability\n",
    "Welcome to Lab 10!\n",
    "\n",
    "This lab is an introduction to conditional probabilities.  \n",
    "\n",
    "The lab includes a visualization called an *icon array*. It's meant to be an instructional part of the lab to help build intuitions about conditional probability.  These visualizations do not appear in the textbook and will not appear on any exam.\n",
    "\n",
    "\n",
    "**Submission**: Once you're finished, scroll up to the top of the page, and run every cell in the notebook.  Select \"Save and Checkpoint\" in the File menu (please don’t hit Save As), then rerun the last cell of the notebook.  The result will contain a zip file that you can submit. \n",
    "\n",
    "*This content is protected and may not be shared, uploaded, or distributed.*"
   ]
  },
  {
   "cell_type": "code",
   "execution_count": 2,
   "id": "bf06ee8e",
   "metadata": {
    "tags": []
   },
   "outputs": [],
   "source": [
    "# Run this cell to set up the notebook, but please don't change it.\n",
    "\n",
    "# These lines import the Numpy and Datascience modules.\n",
    "import numpy as np\n",
    "from datascience import *\n",
    "\n",
    "# These lines do some fancy plotting magic.\n",
    "import matplotlib\n",
    "%matplotlib inline\n",
    "import matplotlib.pyplot as plt\n",
    "plt.style.use('fivethirtyeight')\n",
    "import warnings\n",
    "warnings.simplefilter('ignore')\n",
    "\n",
    "# This line loads the visualization code for this lab.\n",
    "import visualizations\n",
    "\n",
    "import d8error"
   ]
  },
  {
   "cell_type": "markdown",
   "id": "29274700",
   "metadata": {},
   "source": [
    "# 1. What is conditional probability good for?\n",
    "\n",
    "Suppose we have a known population, like all dogs in California.  So far, we've seen three ways of *predicting* something about an individual in that population, given incomplete knowledge about the identity of the individual:\n",
    "\n",
    "* If we know nothing about the individual dog, we could predict that its speed is the *average* or *median* of all the speeds in the population.\n",
    "* If we know the dog's height but not its speed, we could use *linear regression* to predict its speed from its height.  The resulting prediction is still imperfect, but it might be more accurate than the population average.\n",
    "* If we know the dog's breed, height, and age, we could use *nearest-neighbor classification* to predict its speed by comparing it to a collection of dogs with known speed.\n",
    "\n",
    "\n",
    "We can also compute conditional probabilities to make predictions about individuals or events. This technique is different from the previous methods we’ve examined because \n",
    "\n",
    "1. our prediction for each outcome is described by a probability, and \n",
    "2. each probability can be exactly calculated from assumptions, as opposed to estimated from data."
   ]
  },
  {
   "cell_type": "markdown",
   "id": "76245273",
   "metadata": {},
   "source": [
    "# 2. Icon arrays\n",
    "Parts 3 and 4 of this lab work with a more complex example about disease, but first, let's start with a simple example.\n",
    "\n",
    "Imagine you and Samantha are playing a game in which you are given a marble and tasked to determine the marble's texture and size. You don't know anything about the marble you're given, but you know that Samantha drew it **uniformly at random** from a bag that contained the following marbles:\n",
    "* 4 large shiny marbles,\n",
    "* 1 large dull marble,\n",
    "* 6 small shiny marbles,\n",
    "* 2 small dull marbles."
   ]
  },
  {
   "cell_type": "markdown",
   "id": "c2e6fa5a",
   "metadata": {
    "deletable": false,
    "editable": false
   },
   "source": [
    "**Question 2.0.1.** Knowing only what we've told you so far, what's the probability that the marble you're given was a large shiny marble?\n",
    "\n",
    "<!--\n",
    "BEGIN QUESTION\n",
    "name: q2_0_1\n",
    "-->"
   ]
  },
  {
   "cell_type": "code",
   "execution_count": 3,
   "id": "c0364d54",
   "metadata": {
    "deletable": false,
    "tags": []
   },
   "outputs": [],
   "source": [
    "probability_large_shiny = 4/13"
   ]
  },
  {
   "cell_type": "code",
   "execution_count": 4,
   "id": "c5f1e95e",
   "metadata": {
    "deletable": false,
    "editable": false,
    "tags": []
   },
   "outputs": [
    {
     "data": {
      "text/html": [
       "<p><strong><pre style='display: inline;'>q2_0_1</pre></strong> passed! 🌟</p>"
      ],
      "text/plain": [
       "q2_0_1 results: All test cases passed!"
      ]
     },
     "execution_count": 4,
     "metadata": {},
     "output_type": "execute_result"
    }
   ],
   "source": [
    "grader.check(\"q2_0_1\")"
   ]
  },
  {
   "cell_type": "markdown",
   "id": "3411f0cf",
   "metadata": {},
   "source": [
    "Here's a table with those marbles:"
   ]
  },
  {
   "cell_type": "code",
   "execution_count": 5,
   "id": "170791ea",
   "metadata": {
    "tags": []
   },
   "outputs": [
    {
     "data": {
      "text/html": [
       "<table border=\"1\" class=\"dataframe\">\n",
       "    <thead>\n",
       "        <tr>\n",
       "            <th>surface</th> <th>size</th>\n",
       "        </tr>\n",
       "    </thead>\n",
       "    <tbody>\n",
       "        <tr>\n",
       "            <td>shiny  </td> <td>large</td>\n",
       "        </tr>\n",
       "        <tr>\n",
       "            <td>shiny  </td> <td>large</td>\n",
       "        </tr>\n",
       "        <tr>\n",
       "            <td>shiny  </td> <td>large</td>\n",
       "        </tr>\n",
       "        <tr>\n",
       "            <td>shiny  </td> <td>large</td>\n",
       "        </tr>\n",
       "        <tr>\n",
       "            <td>dull   </td> <td>large</td>\n",
       "        </tr>\n",
       "        <tr>\n",
       "            <td>shiny  </td> <td>small</td>\n",
       "        </tr>\n",
       "        <tr>\n",
       "            <td>shiny  </td> <td>small</td>\n",
       "        </tr>\n",
       "        <tr>\n",
       "            <td>shiny  </td> <td>small</td>\n",
       "        </tr>\n",
       "        <tr>\n",
       "            <td>shiny  </td> <td>small</td>\n",
       "        </tr>\n",
       "        <tr>\n",
       "            <td>shiny  </td> <td>small</td>\n",
       "        </tr>\n",
       "        <tr>\n",
       "            <td>shiny  </td> <td>small</td>\n",
       "        </tr>\n",
       "        <tr>\n",
       "            <td>dull   </td> <td>small</td>\n",
       "        </tr>\n",
       "        <tr>\n",
       "            <td>dull   </td> <td>small</td>\n",
       "        </tr>\n",
       "    </tbody>\n",
       "</table>"
      ],
      "text/plain": [
       "<IPython.core.display.HTML object>"
      ]
     },
     "metadata": {},
     "output_type": "display_data"
    }
   ],
   "source": [
    "marbles = Table.read_table(\"marbles.csv\")\n",
    "marbles.show()"
   ]
  },
  {
   "cell_type": "markdown",
   "id": "c1882207",
   "metadata": {},
   "source": [
    "Here are the counts of each type of marble in a pivot table."
   ]
  },
  {
   "cell_type": "code",
   "execution_count": 6,
   "id": "71738111",
   "metadata": {
    "tags": []
   },
   "outputs": [
    {
     "data": {
      "text/html": [
       "<table border=\"1\" class=\"dataframe\">\n",
       "    <thead>\n",
       "        <tr>\n",
       "            <th>size</th> <th>dull</th> <th>shiny</th>\n",
       "        </tr>\n",
       "    </thead>\n",
       "    <tbody>\n",
       "        <tr>\n",
       "            <td>large</td> <td>1   </td> <td>4    </td>\n",
       "        </tr>\n",
       "        <tr>\n",
       "            <td>small</td> <td>2   </td> <td>6    </td>\n",
       "        </tr>\n",
       "    </tbody>\n",
       "</table>"
      ],
      "text/plain": [
       "size  | dull | shiny\n",
       "large | 1    | 4\n",
       "small | 2    | 6"
      ]
     },
     "execution_count": 6,
     "metadata": {},
     "output_type": "execute_result"
    }
   ],
   "source": [
    "marbles.pivot('surface', 'size')"
   ]
  },
  {
   "cell_type": "markdown",
   "id": "7525e6b8",
   "metadata": {},
   "source": [
    "Here are all the different combinations of surface and size, with the count for each surface-size combination. Each type of marble appears in its own row."
   ]
  },
  {
   "cell_type": "code",
   "execution_count": 7,
   "id": "dc6d9e46",
   "metadata": {
    "tags": []
   },
   "outputs": [
    {
     "data": {
      "text/html": [
       "<table border=\"1\" class=\"dataframe\">\n",
       "    <thead>\n",
       "        <tr>\n",
       "            <th>surface</th> <th>size</th> <th>count</th>\n",
       "        </tr>\n",
       "    </thead>\n",
       "    <tbody>\n",
       "        <tr>\n",
       "            <td>dull   </td> <td>large</td> <td>1    </td>\n",
       "        </tr>\n",
       "        <tr>\n",
       "            <td>dull   </td> <td>small</td> <td>2    </td>\n",
       "        </tr>\n",
       "        <tr>\n",
       "            <td>shiny  </td> <td>large</td> <td>4    </td>\n",
       "        </tr>\n",
       "        <tr>\n",
       "            <td>shiny  </td> <td>small</td> <td>6    </td>\n",
       "        </tr>\n",
       "    </tbody>\n",
       "</table>"
      ],
      "text/plain": [
       "surface | size  | count\n",
       "dull    | large | 1\n",
       "dull    | small | 2\n",
       "shiny   | large | 4\n",
       "shiny   | small | 6"
      ]
     },
     "execution_count": 7,
     "metadata": {},
     "output_type": "execute_result"
    }
   ],
   "source": [
    "marbles.group(['surface', 'size'])"
   ]
  },
  {
   "cell_type": "markdown",
   "id": "734f5b2f",
   "metadata": {},
   "source": [
    "We've included some code to display something called an *icon array*.  The functions in the cell below create icon arrays from various kinds of tables. Don't worry about understanding the code; just run this cell.\n",
    "\n",
    "**NOTE:** You may ignore the the y-axis labels. Just remember that each box represents 1 marble. "
   ]
  },
  {
   "cell_type": "code",
   "execution_count": 8,
   "id": "aeac51a5",
   "metadata": {
    "tags": []
   },
   "outputs": [],
   "source": [
    "# Run this cell.\n",
    "\n",
    "#######################################################################\n",
    "# The functions you'll need to actually use are in here.  Each is a\n",
    "# way of making an icon array from a differently-formatted table.\n",
    "#######################################################################\n",
    "\n",
    "def display_icon_array(table, groups, individuals_name):\n",
    "    \"\"\"\n",
    "    Given a table and some columns to group it on, displays an icon array\n",
    "    of the groups.\n",
    "    \n",
    "    groups should be an array of labels of columns in table.\n",
    "    \n",
    "    individuals_name is your name for the individual rows of table.\n",
    "    For example, if we're talking about a population of people,\n",
    "    individuals_name should be \"people\".\n",
    "    \n",
    "    For example:\n",
    "    \n",
    "    display_icon_array(marbles, [\"surface\", \"size\"], \"marbles\")\n",
    "    \"\"\"\n",
    "    display_grouped_icon_array(table.group(groups), individuals_name)\n",
    "\n",
    "def display_grouped_icon_array(grouped_data, individuals_name):\n",
    "    \"\"\"\n",
    "    Given a table with counts for data grouped by 1 or more categories,\n",
    "    displays an icon array of the groups represented in the table.\n",
    "    \n",
    "    grouped_data should be a table of frequencies or counts, such as\n",
    "    a table created by calling the groups method on some table.\n",
    "    \n",
    "    individuals_name is your name for the individual members of the\n",
    "    dataset.  For example, if we're talking about a population of\n",
    "    people, individuals_name should be \"people\".\n",
    "    \n",
    "    For example:\n",
    "    \n",
    "    display_grouped_icon_array(marbles.group([\"surface\", \"size\"]), \"marbles\")\n",
    "    \"\"\"\n",
    "    visualizations.display_combinations(grouped_data, individuals_name=individuals_name)\n",
    "\n",
    "def display_crosstab_icon_array(crosstabulation, x_label, individuals_name):\n",
    "    \"\"\"\n",
    "    Given a crosstabulation table, displays an icon array of the groups\n",
    "    represented in the table.\n",
    "    \n",
    "    crosstabulation should be a table of frequencies or counts created by\n",
    "    calling pivot on some table.\n",
    "    \n",
    "    x_label should be the label of the categories listed as columns (on\n",
    "    the \"x axis\" when the crosstabulation table is printed).\n",
    "    \n",
    "    individuals_name is your name for the individual members of the\n",
    "    dataset.  For example, if we're talking about a population of\n",
    "    people, individuals_name should be \"people\".\n",
    "    \n",
    "    For example:\n",
    "    \n",
    "    display_crosstab_icon_array(marbles.pivot(\"surface\", \"size\"), \"surface\", \"marbles\")\n",
    "    \"\"\"\n",
    "    display_grouped_icon_array(visualizations.pivot_table_to_groups(crosstabulation, x_label), individuals_name)"
   ]
  },
  {
   "cell_type": "markdown",
   "id": "d98c2e8f",
   "metadata": {},
   "source": [
    "Here's an icon array of all the marbles, grouped by surface and size:"
   ]
  },
  {
   "cell_type": "code",
   "execution_count": 9,
   "id": "9022ff19",
   "metadata": {
    "scrolled": true,
    "tags": []
   },
   "outputs": [
    {
     "ename": "ValueError",
     "evalue": "setting an array element with a sequence. The requested array has an inhomogeneous shape after 1 dimensions. The detected shape was (4,) + inhomogeneous part.",
     "output_type": "error",
     "traceback": [
      "\u001b[1;31m---------------------------------------------------------------------------\u001b[0m",
      "\u001b[1;31mValueError\u001b[0m                                Traceback (most recent call last)",
      "Cell \u001b[1;32mIn[9], line 2\u001b[0m\n\u001b[0;32m      1\u001b[0m \u001b[38;5;66;03m# Run this cell.\u001b[39;00m\n\u001b[1;32m----> 2\u001b[0m display_grouped_icon_array(marbles\u001b[38;5;241m.\u001b[39mgroup([\u001b[38;5;124m\"\u001b[39m\u001b[38;5;124msurface\u001b[39m\u001b[38;5;124m\"\u001b[39m, \u001b[38;5;124m\"\u001b[39m\u001b[38;5;124msize\u001b[39m\u001b[38;5;124m\"\u001b[39m]), \u001b[38;5;124m\"\u001b[39m\u001b[38;5;124mmarble(s)\u001b[39m\u001b[38;5;124m\"\u001b[39m)\n",
      "Cell \u001b[1;32mIn[8], line 41\u001b[0m, in \u001b[0;36mdisplay_grouped_icon_array\u001b[1;34m(grouped_data, individuals_name)\u001b[0m\n\u001b[0;32m     25\u001b[0m \u001b[38;5;28;01mdef\u001b[39;00m \u001b[38;5;21mdisplay_grouped_icon_array\u001b[39m(grouped_data, individuals_name):\n\u001b[0;32m     26\u001b[0m \u001b[38;5;250m    \u001b[39m\u001b[38;5;124;03m\"\"\"\u001b[39;00m\n\u001b[0;32m     27\u001b[0m \u001b[38;5;124;03m    Given a table with counts for data grouped by 1 or more categories,\u001b[39;00m\n\u001b[0;32m     28\u001b[0m \u001b[38;5;124;03m    displays an icon array of the groups represented in the table.\u001b[39;00m\n\u001b[1;32m   (...)\u001b[0m\n\u001b[0;32m     39\u001b[0m \u001b[38;5;124;03m    display_grouped_icon_array(marbles.group([\"surface\", \"size\"]), \"marbles\")\u001b[39;00m\n\u001b[0;32m     40\u001b[0m \u001b[38;5;124;03m    \"\"\"\u001b[39;00m\n\u001b[1;32m---> 41\u001b[0m     visualizations\u001b[38;5;241m.\u001b[39mdisplay_combinations(grouped_data, individuals_name\u001b[38;5;241m=\u001b[39mindividuals_name)\n",
      "File \u001b[1;32m~\\Documents\\CS560\\lab10\\visualizations.py:176\u001b[0m, in \u001b[0;36mdisplay_combinations\u001b[1;34m(category_counts, individuals_name)\u001b[0m\n\u001b[0;32m    175\u001b[0m \u001b[38;5;28;01mdef\u001b[39;00m \u001b[38;5;21mdisplay_combinations\u001b[39m(category_counts, individuals_name\u001b[38;5;241m=\u001b[39m\u001b[38;5;124m\"\u001b[39m\u001b[38;5;124mpeople\u001b[39m\u001b[38;5;124m\"\u001b[39m):\n\u001b[1;32m--> 176\u001b[0m     displays \u001b[38;5;241m=\u001b[39m make_displayed_rectangles(compute_combination_data(category_counts, individuals_name))\n\u001b[0;32m    177\u001b[0m     draw_plot(displays, individuals_name)\n",
      "File \u001b[1;32m~\\Documents\\CS560\\lab10\\visualizations.py:140\u001b[0m, in \u001b[0;36mmake_displayed_rectangles\u001b[1;34m(combinations)\u001b[0m\n\u001b[0;32m    137\u001b[0m         rectangles\u001b[38;5;241m.\u001b[39mappend(rectangle_for_percentile(start_percentile, end_percentile, color))\n\u001b[0;32m    138\u001b[0m     \u001b[38;5;28;01mreturn\u001b[39;00m rectangles\n\u001b[1;32m--> 140\u001b[0m displays\u001b[38;5;241m.\u001b[39mappend_column(\u001b[38;5;124m\"\u001b[39m\u001b[38;5;124mrectangles\u001b[39m\u001b[38;5;124m\"\u001b[39m, displays\u001b[38;5;241m.\u001b[39mapply(rectangles_for_percentage_range, [\u001b[38;5;124m\"\u001b[39m\u001b[38;5;124mstart amount\u001b[39m\u001b[38;5;124m\"\u001b[39m, \u001b[38;5;124m\"\u001b[39m\u001b[38;5;124mend amount\u001b[39m\u001b[38;5;124m\"\u001b[39m, \u001b[38;5;124m\"\u001b[39m\u001b[38;5;124mcolor\u001b[39m\u001b[38;5;124m\"\u001b[39m]))\n\u001b[0;32m    142\u001b[0m \u001b[38;5;28;01mreturn\u001b[39;00m displays\n",
      "File \u001b[1;32mD:\\Software\\anaconda3\\Lib\\site-packages\\datascience\\tables.py:536\u001b[0m, in \u001b[0;36mTable.apply\u001b[1;34m(self, fn, *column_or_columns)\u001b[0m\n\u001b[0;32m    534\u001b[0m     column_or_columns \u001b[38;5;241m=\u001b[39m column_or_columns[\u001b[38;5;241m0\u001b[39m]\n\u001b[0;32m    535\u001b[0m rows \u001b[38;5;241m=\u001b[39m \u001b[38;5;28mzip\u001b[39m(\u001b[38;5;241m*\u001b[39m\u001b[38;5;28mself\u001b[39m\u001b[38;5;241m.\u001b[39mselect(\u001b[38;5;241m*\u001b[39mcolumn_or_columns)\u001b[38;5;241m.\u001b[39mcolumns)\n\u001b[1;32m--> 536\u001b[0m \u001b[38;5;28;01mreturn\u001b[39;00m np\u001b[38;5;241m.\u001b[39marray([fn(\u001b[38;5;241m*\u001b[39mrow) \u001b[38;5;28;01mfor\u001b[39;00m row \u001b[38;5;129;01min\u001b[39;00m rows])\n",
      "\u001b[1;31mValueError\u001b[0m: setting an array element with a sequence. The requested array has an inhomogeneous shape after 1 dimensions. The detected shape was (4,) + inhomogeneous part."
     ]
    }
   ],
   "source": [
    "# Run this cell.\n",
    "display_grouped_icon_array(marbles.group([\"surface\", \"size\"]), \"marble(s)\")"
   ]
  },
  {
   "cell_type": "markdown",
   "id": "9f78e973",
   "metadata": {},
   "source": [
    "You should imagine that the marble you've been given was selected by a random draw from these 13 icons.\n",
    "\n",
    "The following is an icon array of the marbles, grouped **only by their surface (shiny/dull)**."
   ]
  },
  {
   "cell_type": "code",
   "execution_count": 10,
   "id": "8409117a",
   "metadata": {
    "tags": []
   },
   "outputs": [
    {
     "ename": "ValueError",
     "evalue": "setting an array element with a sequence. The requested array has an inhomogeneous shape after 1 dimensions. The detected shape was (2,) + inhomogeneous part.",
     "output_type": "error",
     "traceback": [
      "\u001b[1;31m---------------------------------------------------------------------------\u001b[0m",
      "\u001b[1;31mValueError\u001b[0m                                Traceback (most recent call last)",
      "Cell \u001b[1;32mIn[10], line 1\u001b[0m\n\u001b[1;32m----> 1\u001b[0m display_grouped_icon_array(marbles\u001b[38;5;241m.\u001b[39mgroup(\u001b[38;5;124m\"\u001b[39m\u001b[38;5;124msurface\u001b[39m\u001b[38;5;124m\"\u001b[39m), \u001b[38;5;124m\"\u001b[39m\u001b[38;5;124mmarble(s)\u001b[39m\u001b[38;5;124m\"\u001b[39m)\n",
      "Cell \u001b[1;32mIn[8], line 41\u001b[0m, in \u001b[0;36mdisplay_grouped_icon_array\u001b[1;34m(grouped_data, individuals_name)\u001b[0m\n\u001b[0;32m     25\u001b[0m \u001b[38;5;28;01mdef\u001b[39;00m \u001b[38;5;21mdisplay_grouped_icon_array\u001b[39m(grouped_data, individuals_name):\n\u001b[0;32m     26\u001b[0m \u001b[38;5;250m    \u001b[39m\u001b[38;5;124;03m\"\"\"\u001b[39;00m\n\u001b[0;32m     27\u001b[0m \u001b[38;5;124;03m    Given a table with counts for data grouped by 1 or more categories,\u001b[39;00m\n\u001b[0;32m     28\u001b[0m \u001b[38;5;124;03m    displays an icon array of the groups represented in the table.\u001b[39;00m\n\u001b[1;32m   (...)\u001b[0m\n\u001b[0;32m     39\u001b[0m \u001b[38;5;124;03m    display_grouped_icon_array(marbles.group([\"surface\", \"size\"]), \"marbles\")\u001b[39;00m\n\u001b[0;32m     40\u001b[0m \u001b[38;5;124;03m    \"\"\"\u001b[39;00m\n\u001b[1;32m---> 41\u001b[0m     visualizations\u001b[38;5;241m.\u001b[39mdisplay_combinations(grouped_data, individuals_name\u001b[38;5;241m=\u001b[39mindividuals_name)\n",
      "File \u001b[1;32m~\\Documents\\CS560\\lab10\\visualizations.py:176\u001b[0m, in \u001b[0;36mdisplay_combinations\u001b[1;34m(category_counts, individuals_name)\u001b[0m\n\u001b[0;32m    175\u001b[0m \u001b[38;5;28;01mdef\u001b[39;00m \u001b[38;5;21mdisplay_combinations\u001b[39m(category_counts, individuals_name\u001b[38;5;241m=\u001b[39m\u001b[38;5;124m\"\u001b[39m\u001b[38;5;124mpeople\u001b[39m\u001b[38;5;124m\"\u001b[39m):\n\u001b[1;32m--> 176\u001b[0m     displays \u001b[38;5;241m=\u001b[39m make_displayed_rectangles(compute_combination_data(category_counts, individuals_name))\n\u001b[0;32m    177\u001b[0m     draw_plot(displays, individuals_name)\n",
      "File \u001b[1;32m~\\Documents\\CS560\\lab10\\visualizations.py:140\u001b[0m, in \u001b[0;36mmake_displayed_rectangles\u001b[1;34m(combinations)\u001b[0m\n\u001b[0;32m    137\u001b[0m         rectangles\u001b[38;5;241m.\u001b[39mappend(rectangle_for_percentile(start_percentile, end_percentile, color))\n\u001b[0;32m    138\u001b[0m     \u001b[38;5;28;01mreturn\u001b[39;00m rectangles\n\u001b[1;32m--> 140\u001b[0m displays\u001b[38;5;241m.\u001b[39mappend_column(\u001b[38;5;124m\"\u001b[39m\u001b[38;5;124mrectangles\u001b[39m\u001b[38;5;124m\"\u001b[39m, displays\u001b[38;5;241m.\u001b[39mapply(rectangles_for_percentage_range, [\u001b[38;5;124m\"\u001b[39m\u001b[38;5;124mstart amount\u001b[39m\u001b[38;5;124m\"\u001b[39m, \u001b[38;5;124m\"\u001b[39m\u001b[38;5;124mend amount\u001b[39m\u001b[38;5;124m\"\u001b[39m, \u001b[38;5;124m\"\u001b[39m\u001b[38;5;124mcolor\u001b[39m\u001b[38;5;124m\"\u001b[39m]))\n\u001b[0;32m    142\u001b[0m \u001b[38;5;28;01mreturn\u001b[39;00m displays\n",
      "File \u001b[1;32mD:\\Software\\anaconda3\\Lib\\site-packages\\datascience\\tables.py:536\u001b[0m, in \u001b[0;36mTable.apply\u001b[1;34m(self, fn, *column_or_columns)\u001b[0m\n\u001b[0;32m    534\u001b[0m     column_or_columns \u001b[38;5;241m=\u001b[39m column_or_columns[\u001b[38;5;241m0\u001b[39m]\n\u001b[0;32m    535\u001b[0m rows \u001b[38;5;241m=\u001b[39m \u001b[38;5;28mzip\u001b[39m(\u001b[38;5;241m*\u001b[39m\u001b[38;5;28mself\u001b[39m\u001b[38;5;241m.\u001b[39mselect(\u001b[38;5;241m*\u001b[39mcolumn_or_columns)\u001b[38;5;241m.\u001b[39mcolumns)\n\u001b[1;32m--> 536\u001b[0m \u001b[38;5;28;01mreturn\u001b[39;00m np\u001b[38;5;241m.\u001b[39marray([fn(\u001b[38;5;241m*\u001b[39mrow) \u001b[38;5;28;01mfor\u001b[39;00m row \u001b[38;5;129;01min\u001b[39;00m rows])\n",
      "\u001b[1;31mValueError\u001b[0m: setting an array element with a sequence. The requested array has an inhomogeneous shape after 1 dimensions. The detected shape was (2,) + inhomogeneous part."
     ]
    }
   ],
   "source": [
    "display_grouped_icon_array(marbles.group(\"surface\"), \"marble(s)\")"
   ]
  },
  {
   "cell_type": "markdown",
   "id": "f74001c7",
   "metadata": {
    "deletable": false,
    "editable": false
   },
   "source": [
    "Knowing nothing else about the marble, it's equally likely to be any of the marbles depicted above; this is because we've assumed that the marble is selected **uniformly at random** from the bag.\n",
    "\n",
    "**Question 2.0.2.** What's the probability that you've been given a shiny marble?  Calculate this by hand (using Python for arithmetic) by looking at your icon array.\n",
    "\n",
    "<!--\n",
    "BEGIN QUESTION\n",
    "name: q2_0_2\n",
    "-->"
   ]
  },
  {
   "cell_type": "code",
   "execution_count": 11,
   "id": "67f56d88",
   "metadata": {
    "deletable": false,
    "tags": []
   },
   "outputs": [],
   "source": [
    "probability_shiny = 10/13"
   ]
  },
  {
   "cell_type": "code",
   "execution_count": 12,
   "id": "f5cc3fb1",
   "metadata": {
    "deletable": false,
    "editable": false,
    "tags": []
   },
   "outputs": [
    {
     "data": {
      "text/html": [
       "<p><strong><pre style='display: inline;'>q2_0_2</pre></strong> passed! 🎉</p>"
      ],
      "text/plain": [
       "q2_0_2 results: All test cases passed!"
      ]
     },
     "execution_count": 12,
     "metadata": {},
     "output_type": "execute_result"
    }
   ],
   "source": [
    "grader.check(\"q2_0_2\")"
   ]
  },
  {
   "cell_type": "markdown",
   "id": "6b802cf0",
   "metadata": {},
   "source": [
    "## 2.1. Conditional probability\n",
    "\n",
    "Suppose you overhear Samantha say that you were given a large marble. Does this somehow change the chance that your marble is shiny?  Let's find out.\n",
    "\n",
    "Go back to the full icon array, displayed below for convenience."
   ]
  },
  {
   "cell_type": "code",
   "execution_count": 13,
   "id": "3c3e6a0b",
   "metadata": {
    "tags": []
   },
   "outputs": [
    {
     "ename": "ValueError",
     "evalue": "setting an array element with a sequence. The requested array has an inhomogeneous shape after 1 dimensions. The detected shape was (4,) + inhomogeneous part.",
     "output_type": "error",
     "traceback": [
      "\u001b[1;31m---------------------------------------------------------------------------\u001b[0m",
      "\u001b[1;31mValueError\u001b[0m                                Traceback (most recent call last)",
      "Cell \u001b[1;32mIn[13], line 1\u001b[0m\n\u001b[1;32m----> 1\u001b[0m display_grouped_icon_array(marbles\u001b[38;5;241m.\u001b[39mgroup([\u001b[38;5;124m\"\u001b[39m\u001b[38;5;124msurface\u001b[39m\u001b[38;5;124m\"\u001b[39m, \u001b[38;5;124m\"\u001b[39m\u001b[38;5;124msize\u001b[39m\u001b[38;5;124m\"\u001b[39m]), \u001b[38;5;124m\"\u001b[39m\u001b[38;5;124mmarble(s)\u001b[39m\u001b[38;5;124m\"\u001b[39m)\n",
      "Cell \u001b[1;32mIn[8], line 41\u001b[0m, in \u001b[0;36mdisplay_grouped_icon_array\u001b[1;34m(grouped_data, individuals_name)\u001b[0m\n\u001b[0;32m     25\u001b[0m \u001b[38;5;28;01mdef\u001b[39;00m \u001b[38;5;21mdisplay_grouped_icon_array\u001b[39m(grouped_data, individuals_name):\n\u001b[0;32m     26\u001b[0m \u001b[38;5;250m    \u001b[39m\u001b[38;5;124;03m\"\"\"\u001b[39;00m\n\u001b[0;32m     27\u001b[0m \u001b[38;5;124;03m    Given a table with counts for data grouped by 1 or more categories,\u001b[39;00m\n\u001b[0;32m     28\u001b[0m \u001b[38;5;124;03m    displays an icon array of the groups represented in the table.\u001b[39;00m\n\u001b[1;32m   (...)\u001b[0m\n\u001b[0;32m     39\u001b[0m \u001b[38;5;124;03m    display_grouped_icon_array(marbles.group([\"surface\", \"size\"]), \"marbles\")\u001b[39;00m\n\u001b[0;32m     40\u001b[0m \u001b[38;5;124;03m    \"\"\"\u001b[39;00m\n\u001b[1;32m---> 41\u001b[0m     visualizations\u001b[38;5;241m.\u001b[39mdisplay_combinations(grouped_data, individuals_name\u001b[38;5;241m=\u001b[39mindividuals_name)\n",
      "File \u001b[1;32m~\\Documents\\CS560\\lab10\\visualizations.py:176\u001b[0m, in \u001b[0;36mdisplay_combinations\u001b[1;34m(category_counts, individuals_name)\u001b[0m\n\u001b[0;32m    175\u001b[0m \u001b[38;5;28;01mdef\u001b[39;00m \u001b[38;5;21mdisplay_combinations\u001b[39m(category_counts, individuals_name\u001b[38;5;241m=\u001b[39m\u001b[38;5;124m\"\u001b[39m\u001b[38;5;124mpeople\u001b[39m\u001b[38;5;124m\"\u001b[39m):\n\u001b[1;32m--> 176\u001b[0m     displays \u001b[38;5;241m=\u001b[39m make_displayed_rectangles(compute_combination_data(category_counts, individuals_name))\n\u001b[0;32m    177\u001b[0m     draw_plot(displays, individuals_name)\n",
      "File \u001b[1;32m~\\Documents\\CS560\\lab10\\visualizations.py:140\u001b[0m, in \u001b[0;36mmake_displayed_rectangles\u001b[1;34m(combinations)\u001b[0m\n\u001b[0;32m    137\u001b[0m         rectangles\u001b[38;5;241m.\u001b[39mappend(rectangle_for_percentile(start_percentile, end_percentile, color))\n\u001b[0;32m    138\u001b[0m     \u001b[38;5;28;01mreturn\u001b[39;00m rectangles\n\u001b[1;32m--> 140\u001b[0m displays\u001b[38;5;241m.\u001b[39mappend_column(\u001b[38;5;124m\"\u001b[39m\u001b[38;5;124mrectangles\u001b[39m\u001b[38;5;124m\"\u001b[39m, displays\u001b[38;5;241m.\u001b[39mapply(rectangles_for_percentage_range, [\u001b[38;5;124m\"\u001b[39m\u001b[38;5;124mstart amount\u001b[39m\u001b[38;5;124m\"\u001b[39m, \u001b[38;5;124m\"\u001b[39m\u001b[38;5;124mend amount\u001b[39m\u001b[38;5;124m\"\u001b[39m, \u001b[38;5;124m\"\u001b[39m\u001b[38;5;124mcolor\u001b[39m\u001b[38;5;124m\"\u001b[39m]))\n\u001b[0;32m    142\u001b[0m \u001b[38;5;28;01mreturn\u001b[39;00m displays\n",
      "File \u001b[1;32mD:\\Software\\anaconda3\\Lib\\site-packages\\datascience\\tables.py:536\u001b[0m, in \u001b[0;36mTable.apply\u001b[1;34m(self, fn, *column_or_columns)\u001b[0m\n\u001b[0;32m    534\u001b[0m     column_or_columns \u001b[38;5;241m=\u001b[39m column_or_columns[\u001b[38;5;241m0\u001b[39m]\n\u001b[0;32m    535\u001b[0m rows \u001b[38;5;241m=\u001b[39m \u001b[38;5;28mzip\u001b[39m(\u001b[38;5;241m*\u001b[39m\u001b[38;5;28mself\u001b[39m\u001b[38;5;241m.\u001b[39mselect(\u001b[38;5;241m*\u001b[39mcolumn_or_columns)\u001b[38;5;241m.\u001b[39mcolumns)\n\u001b[1;32m--> 536\u001b[0m \u001b[38;5;28;01mreturn\u001b[39;00m np\u001b[38;5;241m.\u001b[39marray([fn(\u001b[38;5;241m*\u001b[39mrow) \u001b[38;5;28;01mfor\u001b[39;00m row \u001b[38;5;129;01min\u001b[39;00m rows])\n",
      "\u001b[1;31mValueError\u001b[0m: setting an array element with a sequence. The requested array has an inhomogeneous shape after 1 dimensions. The detected shape was (4,) + inhomogeneous part."
     ]
    }
   ],
   "source": [
    "display_grouped_icon_array(marbles.group([\"surface\", \"size\"]), \"marble(s)\")"
   ]
  },
  {
   "cell_type": "markdown",
   "id": "0d515581",
   "metadata": {},
   "source": [
    "In question 2.0.2, we assumed that the marble you were given was equally likely to be any of the marbles, simply because we didn't know any better.  That's why we looked at all the marbles to compute the probability that your marble was shiny.\n",
    "\n",
    "But assuming that you've been given a large marble, we can eliminate some of these possibilities. In particular, you can't have been given a small shiny marble or a small dull marble.\n",
    "\n",
    "You're still equally likely to have been given any of the remaining marbles, because you don't know any other information.  So here's an icon array of those remaining possibilities:"
   ]
  },
  {
   "cell_type": "code",
   "execution_count": 14,
   "id": "de8ca4e0",
   "metadata": {
    "tags": []
   },
   "outputs": [
    {
     "ename": "ValueError",
     "evalue": "setting an array element with a sequence. The requested array has an inhomogeneous shape after 1 dimensions. The detected shape was (2,) + inhomogeneous part.",
     "output_type": "error",
     "traceback": [
      "\u001b[1;31m---------------------------------------------------------------------------\u001b[0m",
      "\u001b[1;31mValueError\u001b[0m                                Traceback (most recent call last)",
      "Cell \u001b[1;32mIn[14], line 2\u001b[0m\n\u001b[0;32m      1\u001b[0m \u001b[38;5;66;03m# Just run this cell.\u001b[39;00m\n\u001b[1;32m----> 2\u001b[0m display_grouped_icon_array(marbles\u001b[38;5;241m.\u001b[39mwhere(\u001b[38;5;124m\"\u001b[39m\u001b[38;5;124msize\u001b[39m\u001b[38;5;124m\"\u001b[39m, \u001b[38;5;124m\"\u001b[39m\u001b[38;5;124mlarge\u001b[39m\u001b[38;5;124m\"\u001b[39m)\u001b[38;5;241m.\u001b[39mgroup(\u001b[38;5;124m\"\u001b[39m\u001b[38;5;124msurface\u001b[39m\u001b[38;5;124m\"\u001b[39m), \u001b[38;5;124m\"\u001b[39m\u001b[38;5;124mlarge marble(s)\u001b[39m\u001b[38;5;124m\"\u001b[39m)\n",
      "Cell \u001b[1;32mIn[8], line 41\u001b[0m, in \u001b[0;36mdisplay_grouped_icon_array\u001b[1;34m(grouped_data, individuals_name)\u001b[0m\n\u001b[0;32m     25\u001b[0m \u001b[38;5;28;01mdef\u001b[39;00m \u001b[38;5;21mdisplay_grouped_icon_array\u001b[39m(grouped_data, individuals_name):\n\u001b[0;32m     26\u001b[0m \u001b[38;5;250m    \u001b[39m\u001b[38;5;124;03m\"\"\"\u001b[39;00m\n\u001b[0;32m     27\u001b[0m \u001b[38;5;124;03m    Given a table with counts for data grouped by 1 or more categories,\u001b[39;00m\n\u001b[0;32m     28\u001b[0m \u001b[38;5;124;03m    displays an icon array of the groups represented in the table.\u001b[39;00m\n\u001b[1;32m   (...)\u001b[0m\n\u001b[0;32m     39\u001b[0m \u001b[38;5;124;03m    display_grouped_icon_array(marbles.group([\"surface\", \"size\"]), \"marbles\")\u001b[39;00m\n\u001b[0;32m     40\u001b[0m \u001b[38;5;124;03m    \"\"\"\u001b[39;00m\n\u001b[1;32m---> 41\u001b[0m     visualizations\u001b[38;5;241m.\u001b[39mdisplay_combinations(grouped_data, individuals_name\u001b[38;5;241m=\u001b[39mindividuals_name)\n",
      "File \u001b[1;32m~\\Documents\\CS560\\lab10\\visualizations.py:176\u001b[0m, in \u001b[0;36mdisplay_combinations\u001b[1;34m(category_counts, individuals_name)\u001b[0m\n\u001b[0;32m    175\u001b[0m \u001b[38;5;28;01mdef\u001b[39;00m \u001b[38;5;21mdisplay_combinations\u001b[39m(category_counts, individuals_name\u001b[38;5;241m=\u001b[39m\u001b[38;5;124m\"\u001b[39m\u001b[38;5;124mpeople\u001b[39m\u001b[38;5;124m\"\u001b[39m):\n\u001b[1;32m--> 176\u001b[0m     displays \u001b[38;5;241m=\u001b[39m make_displayed_rectangles(compute_combination_data(category_counts, individuals_name))\n\u001b[0;32m    177\u001b[0m     draw_plot(displays, individuals_name)\n",
      "File \u001b[1;32m~\\Documents\\CS560\\lab10\\visualizations.py:140\u001b[0m, in \u001b[0;36mmake_displayed_rectangles\u001b[1;34m(combinations)\u001b[0m\n\u001b[0;32m    137\u001b[0m         rectangles\u001b[38;5;241m.\u001b[39mappend(rectangle_for_percentile(start_percentile, end_percentile, color))\n\u001b[0;32m    138\u001b[0m     \u001b[38;5;28;01mreturn\u001b[39;00m rectangles\n\u001b[1;32m--> 140\u001b[0m displays\u001b[38;5;241m.\u001b[39mappend_column(\u001b[38;5;124m\"\u001b[39m\u001b[38;5;124mrectangles\u001b[39m\u001b[38;5;124m\"\u001b[39m, displays\u001b[38;5;241m.\u001b[39mapply(rectangles_for_percentage_range, [\u001b[38;5;124m\"\u001b[39m\u001b[38;5;124mstart amount\u001b[39m\u001b[38;5;124m\"\u001b[39m, \u001b[38;5;124m\"\u001b[39m\u001b[38;5;124mend amount\u001b[39m\u001b[38;5;124m\"\u001b[39m, \u001b[38;5;124m\"\u001b[39m\u001b[38;5;124mcolor\u001b[39m\u001b[38;5;124m\"\u001b[39m]))\n\u001b[0;32m    142\u001b[0m \u001b[38;5;28;01mreturn\u001b[39;00m displays\n",
      "File \u001b[1;32mD:\\Software\\anaconda3\\Lib\\site-packages\\datascience\\tables.py:536\u001b[0m, in \u001b[0;36mTable.apply\u001b[1;34m(self, fn, *column_or_columns)\u001b[0m\n\u001b[0;32m    534\u001b[0m     column_or_columns \u001b[38;5;241m=\u001b[39m column_or_columns[\u001b[38;5;241m0\u001b[39m]\n\u001b[0;32m    535\u001b[0m rows \u001b[38;5;241m=\u001b[39m \u001b[38;5;28mzip\u001b[39m(\u001b[38;5;241m*\u001b[39m\u001b[38;5;28mself\u001b[39m\u001b[38;5;241m.\u001b[39mselect(\u001b[38;5;241m*\u001b[39mcolumn_or_columns)\u001b[38;5;241m.\u001b[39mcolumns)\n\u001b[1;32m--> 536\u001b[0m \u001b[38;5;28;01mreturn\u001b[39;00m np\u001b[38;5;241m.\u001b[39marray([fn(\u001b[38;5;241m*\u001b[39mrow) \u001b[38;5;28;01mfor\u001b[39;00m row \u001b[38;5;129;01min\u001b[39;00m rows])\n",
      "\u001b[1;31mValueError\u001b[0m: setting an array element with a sequence. The requested array has an inhomogeneous shape after 1 dimensions. The detected shape was (2,) + inhomogeneous part."
     ]
    }
   ],
   "source": [
    "# Just run this cell.\n",
    "display_grouped_icon_array(marbles.where(\"size\", \"large\").group(\"surface\"), \"large marble(s)\")"
   ]
  },
  {
   "cell_type": "markdown",
   "id": "0e3224da",
   "metadata": {
    "deletable": false,
    "editable": false
   },
   "source": [
    "**Question 2.1.1.** What's the probability Samantha gives you a shiny marble, knowing that she gave you a large marble? \n",
    "\n",
    "*Hint: Use the icon array.*\n",
    "\n",
    "<!--\n",
    "BEGIN QUESTION\n",
    "name: q2_1_1\n",
    "-->"
   ]
  },
  {
   "cell_type": "code",
   "execution_count": 15,
   "id": "3bb22d4a",
   "metadata": {
    "deletable": false,
    "tags": []
   },
   "outputs": [],
   "source": [
    "probability_shiny_given_large = 4/5"
   ]
  },
  {
   "cell_type": "code",
   "execution_count": 16,
   "id": "30189cf1",
   "metadata": {
    "deletable": false,
    "editable": false,
    "tags": []
   },
   "outputs": [
    {
     "data": {
      "text/html": [
       "<p><strong><pre style='display: inline;'>q2_1_1</pre></strong> passed! 💯</p>"
      ],
      "text/plain": [
       "q2_1_1 results: All test cases passed!"
      ]
     },
     "execution_count": 16,
     "metadata": {},
     "output_type": "execute_result"
    }
   ],
   "source": [
    "grader.check(\"q2_1_1\")"
   ]
  },
  {
   "cell_type": "markdown",
   "id": "330d4315",
   "metadata": {},
   "source": [
    "You should have found that this is different from the probability that Samantha gave you a shiny marble, given no size information, which you computed earlier.  The distribution of surfaces among the large marbles is a little different from the distribution of surfaces among all the marbles."
   ]
  },
  {
   "cell_type": "code",
   "execution_count": 17,
   "id": "a496f542",
   "metadata": {
    "tags": []
   },
   "outputs": [
    {
     "ename": "ValueError",
     "evalue": "setting an array element with a sequence. The requested array has an inhomogeneous shape after 1 dimensions. The detected shape was (2,) + inhomogeneous part.",
     "output_type": "error",
     "traceback": [
      "\u001b[1;31m---------------------------------------------------------------------------\u001b[0m",
      "\u001b[1;31mValueError\u001b[0m                                Traceback (most recent call last)",
      "Cell \u001b[1;32mIn[17], line 2\u001b[0m\n\u001b[0;32m      1\u001b[0m \u001b[38;5;66;03m# Run this cell to display the icon array. Then fill answer the next question.\u001b[39;00m\n\u001b[1;32m----> 2\u001b[0m display_grouped_icon_array(marbles\u001b[38;5;241m.\u001b[39mwhere(\u001b[38;5;124m\"\u001b[39m\u001b[38;5;124msurface\u001b[39m\u001b[38;5;124m\"\u001b[39m, \u001b[38;5;124m\"\u001b[39m\u001b[38;5;124mshiny\u001b[39m\u001b[38;5;124m\"\u001b[39m)\u001b[38;5;241m.\u001b[39mgroup(\u001b[38;5;124m\"\u001b[39m\u001b[38;5;124msize\u001b[39m\u001b[38;5;124m\"\u001b[39m), \u001b[38;5;124m\"\u001b[39m\u001b[38;5;124mshiny marble(s)\u001b[39m\u001b[38;5;124m\"\u001b[39m)\n",
      "Cell \u001b[1;32mIn[8], line 41\u001b[0m, in \u001b[0;36mdisplay_grouped_icon_array\u001b[1;34m(grouped_data, individuals_name)\u001b[0m\n\u001b[0;32m     25\u001b[0m \u001b[38;5;28;01mdef\u001b[39;00m \u001b[38;5;21mdisplay_grouped_icon_array\u001b[39m(grouped_data, individuals_name):\n\u001b[0;32m     26\u001b[0m \u001b[38;5;250m    \u001b[39m\u001b[38;5;124;03m\"\"\"\u001b[39;00m\n\u001b[0;32m     27\u001b[0m \u001b[38;5;124;03m    Given a table with counts for data grouped by 1 or more categories,\u001b[39;00m\n\u001b[0;32m     28\u001b[0m \u001b[38;5;124;03m    displays an icon array of the groups represented in the table.\u001b[39;00m\n\u001b[1;32m   (...)\u001b[0m\n\u001b[0;32m     39\u001b[0m \u001b[38;5;124;03m    display_grouped_icon_array(marbles.group([\"surface\", \"size\"]), \"marbles\")\u001b[39;00m\n\u001b[0;32m     40\u001b[0m \u001b[38;5;124;03m    \"\"\"\u001b[39;00m\n\u001b[1;32m---> 41\u001b[0m     visualizations\u001b[38;5;241m.\u001b[39mdisplay_combinations(grouped_data, individuals_name\u001b[38;5;241m=\u001b[39mindividuals_name)\n",
      "File \u001b[1;32m~\\Documents\\CS560\\lab10\\visualizations.py:176\u001b[0m, in \u001b[0;36mdisplay_combinations\u001b[1;34m(category_counts, individuals_name)\u001b[0m\n\u001b[0;32m    175\u001b[0m \u001b[38;5;28;01mdef\u001b[39;00m \u001b[38;5;21mdisplay_combinations\u001b[39m(category_counts, individuals_name\u001b[38;5;241m=\u001b[39m\u001b[38;5;124m\"\u001b[39m\u001b[38;5;124mpeople\u001b[39m\u001b[38;5;124m\"\u001b[39m):\n\u001b[1;32m--> 176\u001b[0m     displays \u001b[38;5;241m=\u001b[39m make_displayed_rectangles(compute_combination_data(category_counts, individuals_name))\n\u001b[0;32m    177\u001b[0m     draw_plot(displays, individuals_name)\n",
      "File \u001b[1;32m~\\Documents\\CS560\\lab10\\visualizations.py:140\u001b[0m, in \u001b[0;36mmake_displayed_rectangles\u001b[1;34m(combinations)\u001b[0m\n\u001b[0;32m    137\u001b[0m         rectangles\u001b[38;5;241m.\u001b[39mappend(rectangle_for_percentile(start_percentile, end_percentile, color))\n\u001b[0;32m    138\u001b[0m     \u001b[38;5;28;01mreturn\u001b[39;00m rectangles\n\u001b[1;32m--> 140\u001b[0m displays\u001b[38;5;241m.\u001b[39mappend_column(\u001b[38;5;124m\"\u001b[39m\u001b[38;5;124mrectangles\u001b[39m\u001b[38;5;124m\"\u001b[39m, displays\u001b[38;5;241m.\u001b[39mapply(rectangles_for_percentage_range, [\u001b[38;5;124m\"\u001b[39m\u001b[38;5;124mstart amount\u001b[39m\u001b[38;5;124m\"\u001b[39m, \u001b[38;5;124m\"\u001b[39m\u001b[38;5;124mend amount\u001b[39m\u001b[38;5;124m\"\u001b[39m, \u001b[38;5;124m\"\u001b[39m\u001b[38;5;124mcolor\u001b[39m\u001b[38;5;124m\"\u001b[39m]))\n\u001b[0;32m    142\u001b[0m \u001b[38;5;28;01mreturn\u001b[39;00m displays\n",
      "File \u001b[1;32mD:\\Software\\anaconda3\\Lib\\site-packages\\datascience\\tables.py:536\u001b[0m, in \u001b[0;36mTable.apply\u001b[1;34m(self, fn, *column_or_columns)\u001b[0m\n\u001b[0;32m    534\u001b[0m     column_or_columns \u001b[38;5;241m=\u001b[39m column_or_columns[\u001b[38;5;241m0\u001b[39m]\n\u001b[0;32m    535\u001b[0m rows \u001b[38;5;241m=\u001b[39m \u001b[38;5;28mzip\u001b[39m(\u001b[38;5;241m*\u001b[39m\u001b[38;5;28mself\u001b[39m\u001b[38;5;241m.\u001b[39mselect(\u001b[38;5;241m*\u001b[39mcolumn_or_columns)\u001b[38;5;241m.\u001b[39mcolumns)\n\u001b[1;32m--> 536\u001b[0m \u001b[38;5;28;01mreturn\u001b[39;00m np\u001b[38;5;241m.\u001b[39marray([fn(\u001b[38;5;241m*\u001b[39mrow) \u001b[38;5;28;01mfor\u001b[39;00m row \u001b[38;5;129;01min\u001b[39;00m rows])\n",
      "\u001b[1;31mValueError\u001b[0m: setting an array element with a sequence. The requested array has an inhomogeneous shape after 1 dimensions. The detected shape was (2,) + inhomogeneous part."
     ]
    }
   ],
   "source": [
    "# Run this cell to display the icon array. Then fill answer the next question.\n",
    "display_grouped_icon_array(marbles.where(\"surface\", \"shiny\").group(\"size\"), \"shiny marble(s)\")"
   ]
  },
  {
   "cell_type": "markdown",
   "id": "94d22b74",
   "metadata": {
    "deletable": false,
    "editable": false
   },
   "source": [
    "**Question 2.1.2.** Suppose instead Samantha had said she gave you a **shiny** marble (hooray!). What's the probability that the marble given to you is large? \n",
    "\n",
    "Run the code cell above to display the icon array, then assign `probability_large_given_shiny` to the appropriate value.\n",
    "<!--\n",
    "BEGIN QUESTION\n",
    "name: q2_1_2\n",
    "-->"
   ]
  },
  {
   "cell_type": "code",
   "execution_count": 18,
   "id": "376ae420",
   "metadata": {
    "tags": []
   },
   "outputs": [],
   "source": [
    "probability_large_given_shiny = 4/10"
   ]
  },
  {
   "cell_type": "code",
   "execution_count": 22,
   "id": "fd29a354",
   "metadata": {
    "deletable": false,
    "editable": false,
    "tags": []
   },
   "outputs": [
    {
     "data": {
      "text/html": [
       "<p><strong><pre style='display: inline;'>q2_1_2</pre></strong> passed! 🙌</p>"
      ],
      "text/plain": [
       "q2_1_2 results: All test cases passed!"
      ]
     },
     "execution_count": 22,
     "metadata": {},
     "output_type": "execute_result"
    }
   ],
   "source": [
    "grader.check(\"q2_1_2\")"
   ]
  },
  {
   "cell_type": "markdown",
   "id": "751931ae",
   "metadata": {},
   "source": [
    "**Question 2.1.3.** Can you answer the previous two questions just by looking at the full icon array?  (You can run the cell below to see it again.)\n",
    "\n",
    "*Hint:* Check out [Ch 18.2](https://inferentialthinking.com/chapters/18/2/Making_Decisions.html) for a refresher on how to use Bayes' Rule."
   ]
  },
  {
   "cell_type": "code",
   "execution_count": 23,
   "id": "2e6b1f6b",
   "metadata": {
    "tags": []
   },
   "outputs": [
    {
     "ename": "ValueError",
     "evalue": "setting an array element with a sequence. The requested array has an inhomogeneous shape after 1 dimensions. The detected shape was (4,) + inhomogeneous part.",
     "output_type": "error",
     "traceback": [
      "\u001b[1;31m---------------------------------------------------------------------------\u001b[0m",
      "\u001b[1;31mValueError\u001b[0m                                Traceback (most recent call last)",
      "Cell \u001b[1;32mIn[23], line 2\u001b[0m\n\u001b[0;32m      1\u001b[0m \u001b[38;5;66;03m# Just run this cell.  The next cell is where you should write your answer.\u001b[39;00m\n\u001b[1;32m----> 2\u001b[0m display_grouped_icon_array(marbles\u001b[38;5;241m.\u001b[39mgroup([\u001b[38;5;124m\"\u001b[39m\u001b[38;5;124msurface\u001b[39m\u001b[38;5;124m\"\u001b[39m, \u001b[38;5;124m\"\u001b[39m\u001b[38;5;124msize\u001b[39m\u001b[38;5;124m\"\u001b[39m]), \u001b[38;5;124m\"\u001b[39m\u001b[38;5;124mmarble(s)\u001b[39m\u001b[38;5;124m\"\u001b[39m)\n",
      "Cell \u001b[1;32mIn[8], line 41\u001b[0m, in \u001b[0;36mdisplay_grouped_icon_array\u001b[1;34m(grouped_data, individuals_name)\u001b[0m\n\u001b[0;32m     25\u001b[0m \u001b[38;5;28;01mdef\u001b[39;00m \u001b[38;5;21mdisplay_grouped_icon_array\u001b[39m(grouped_data, individuals_name):\n\u001b[0;32m     26\u001b[0m \u001b[38;5;250m    \u001b[39m\u001b[38;5;124;03m\"\"\"\u001b[39;00m\n\u001b[0;32m     27\u001b[0m \u001b[38;5;124;03m    Given a table with counts for data grouped by 1 or more categories,\u001b[39;00m\n\u001b[0;32m     28\u001b[0m \u001b[38;5;124;03m    displays an icon array of the groups represented in the table.\u001b[39;00m\n\u001b[1;32m   (...)\u001b[0m\n\u001b[0;32m     39\u001b[0m \u001b[38;5;124;03m    display_grouped_icon_array(marbles.group([\"surface\", \"size\"]), \"marbles\")\u001b[39;00m\n\u001b[0;32m     40\u001b[0m \u001b[38;5;124;03m    \"\"\"\u001b[39;00m\n\u001b[1;32m---> 41\u001b[0m     visualizations\u001b[38;5;241m.\u001b[39mdisplay_combinations(grouped_data, individuals_name\u001b[38;5;241m=\u001b[39mindividuals_name)\n",
      "File \u001b[1;32m~\\Documents\\CS560\\lab10\\visualizations.py:176\u001b[0m, in \u001b[0;36mdisplay_combinations\u001b[1;34m(category_counts, individuals_name)\u001b[0m\n\u001b[0;32m    175\u001b[0m \u001b[38;5;28;01mdef\u001b[39;00m \u001b[38;5;21mdisplay_combinations\u001b[39m(category_counts, individuals_name\u001b[38;5;241m=\u001b[39m\u001b[38;5;124m\"\u001b[39m\u001b[38;5;124mpeople\u001b[39m\u001b[38;5;124m\"\u001b[39m):\n\u001b[1;32m--> 176\u001b[0m     displays \u001b[38;5;241m=\u001b[39m make_displayed_rectangles(compute_combination_data(category_counts, individuals_name))\n\u001b[0;32m    177\u001b[0m     draw_plot(displays, individuals_name)\n",
      "File \u001b[1;32m~\\Documents\\CS560\\lab10\\visualizations.py:140\u001b[0m, in \u001b[0;36mmake_displayed_rectangles\u001b[1;34m(combinations)\u001b[0m\n\u001b[0;32m    137\u001b[0m         rectangles\u001b[38;5;241m.\u001b[39mappend(rectangle_for_percentile(start_percentile, end_percentile, color))\n\u001b[0;32m    138\u001b[0m     \u001b[38;5;28;01mreturn\u001b[39;00m rectangles\n\u001b[1;32m--> 140\u001b[0m displays\u001b[38;5;241m.\u001b[39mappend_column(\u001b[38;5;124m\"\u001b[39m\u001b[38;5;124mrectangles\u001b[39m\u001b[38;5;124m\"\u001b[39m, displays\u001b[38;5;241m.\u001b[39mapply(rectangles_for_percentage_range, [\u001b[38;5;124m\"\u001b[39m\u001b[38;5;124mstart amount\u001b[39m\u001b[38;5;124m\"\u001b[39m, \u001b[38;5;124m\"\u001b[39m\u001b[38;5;124mend amount\u001b[39m\u001b[38;5;124m\"\u001b[39m, \u001b[38;5;124m\"\u001b[39m\u001b[38;5;124mcolor\u001b[39m\u001b[38;5;124m\"\u001b[39m]))\n\u001b[0;32m    142\u001b[0m \u001b[38;5;28;01mreturn\u001b[39;00m displays\n",
      "File \u001b[1;32mD:\\Software\\anaconda3\\Lib\\site-packages\\datascience\\tables.py:536\u001b[0m, in \u001b[0;36mTable.apply\u001b[1;34m(self, fn, *column_or_columns)\u001b[0m\n\u001b[0;32m    534\u001b[0m     column_or_columns \u001b[38;5;241m=\u001b[39m column_or_columns[\u001b[38;5;241m0\u001b[39m]\n\u001b[0;32m    535\u001b[0m rows \u001b[38;5;241m=\u001b[39m \u001b[38;5;28mzip\u001b[39m(\u001b[38;5;241m*\u001b[39m\u001b[38;5;28mself\u001b[39m\u001b[38;5;241m.\u001b[39mselect(\u001b[38;5;241m*\u001b[39mcolumn_or_columns)\u001b[38;5;241m.\u001b[39mcolumns)\n\u001b[1;32m--> 536\u001b[0m \u001b[38;5;28;01mreturn\u001b[39;00m np\u001b[38;5;241m.\u001b[39marray([fn(\u001b[38;5;241m*\u001b[39mrow) \u001b[38;5;28;01mfor\u001b[39;00m row \u001b[38;5;129;01min\u001b[39;00m rows])\n",
      "\u001b[1;31mValueError\u001b[0m: setting an array element with a sequence. The requested array has an inhomogeneous shape after 1 dimensions. The detected shape was (4,) + inhomogeneous part."
     ]
    }
   ],
   "source": [
    "# Just run this cell.  The next cell is where you should write your answer.\n",
    "display_grouped_icon_array(marbles.group([\"surface\", \"size\"]), \"marble(s)\")"
   ]
  },
  {
   "cell_type": "markdown",
   "id": "b91387b0",
   "metadata": {
    "deletable": false,
    "editable": false
   },
   "source": [
    "If you can, how? If not, why not? Check with your lab peers or a staff member to see if you are on the right track. \n",
    "\n",
    "<!--\n",
    "BEGIN QUESTION\n",
    "name: q2_1_3\n",
    "-->"
   ]
  },
  {
   "cell_type": "markdown",
   "id": "65cfc498",
   "metadata": {},
   "source": [
    "_Type your answer here, replacing this text._"
   ]
  },
  {
   "cell_type": "markdown",
   "id": "3e333629",
   "metadata": {},
   "source": [
    "# 3. Cancer screening\n",
    "Hopefully the icon arrays from the previous portion helped you build intuition for why conditional probabilities can be helpful. Now, let’s look at a real life application.\n",
    "\n",
    "### Background\n",
    "Medical testing is very important, especially for cancer. A basic cancer screening involves looking for cancer before a person has any symptoms. \n",
    "\n",
    "Cancer screening is not 100% reliable, and it can have errors. There are cases in which someone without cancer or with a benign tumor sees a positive test result. There are also cases where someone with cancer can receive a negative result. (“Positive” implies an indication of cancer in this context.) The first case, called a false positive, could cause anxiety for a patient and lead to further testing that may be risky and involve unnecessary radiation. In the second case, called a false negative, a person would not receive the necessary information and possible treatment for their condition.\n",
    "\n",
    "Conditional probability can provide insight into the accuracy of initial cancer tests. For example, you can compute the chance that a person has cancer given the results of a diagnostic test by combining information from different probability distributions. You’ll see that the chance Person X does have cancer even if they receive a positive result is not necessarily 100%.\n",
    "\n",
    "It is important to note that conditional probabilities offer just one line of insight to understanding a test result and that this statistical approach does not take into account important factors like heredity or environment that come to affect a person’s health and diagnoses. The [Centers for Disease Control and Prevention](https://www.cdc.gov/cancer/dcpc/prevention/screening.htm) (CDC) recommends getting preventative cancer screenings, and one should always consult a doctor if they are concerned about their health. "
   ]
  },
  {
   "cell_type": "markdown",
   "id": "0779ad48",
   "metadata": {},
   "source": [
    "## 3.1. Basic cancer statistics\n",
    "\n",
    "Note: All of the following statistics are made up and don’t necessarily reflect the actual state of the world.\n",
    "\n",
    "\n",
    "Suppose that in a representative group of 10,000 people who are tested for cancer (\"representative\" meaning that the frequencies of different events are the same as the frequencies in the whole population):\n",
    "1. 100 people have cancer.\n",
    "2. Among the 100 people that have cancer, 90 have positive results on a cancer test and 10 have negative results.  (So 10 people receive false negative results.)\n",
    "3. The other 9,900 people don't have cancer.\n",
    "4. Among these 9,900 people, 198 have positive results on a cancer test and the other 9,702 have negative results.  (So 198 see \"false positive\" results.)\n",
    "\n",
    "Below we've generated a table with data from these 10,000 hypothetical people.\n",
    "\n",
    "*Note: These statistics are made up and don’t necessarily reflect the actual state of the world.*"
   ]
  },
  {
   "cell_type": "code",
   "execution_count": 24,
   "id": "b4d1bd60",
   "metadata": {
    "tags": []
   },
   "outputs": [
    {
     "data": {
      "text/html": [
       "<table border=\"1\" class=\"dataframe\">\n",
       "    <thead>\n",
       "        <tr>\n",
       "            <th>status</th> <th>test status</th> <th>count</th>\n",
       "        </tr>\n",
       "    </thead>\n",
       "    <tbody>\n",
       "        <tr>\n",
       "            <td>cancer   </td> <td>positive   </td> <td>90   </td>\n",
       "        </tr>\n",
       "        <tr>\n",
       "            <td>cancer   </td> <td>negative   </td> <td>10   </td>\n",
       "        </tr>\n",
       "        <tr>\n",
       "            <td>no cancer</td> <td>positive   </td> <td>198  </td>\n",
       "        </tr>\n",
       "        <tr>\n",
       "            <td>no cancer</td> <td>negative   </td> <td>9702 </td>\n",
       "        </tr>\n",
       "    </tbody>\n",
       "</table>"
      ],
      "text/plain": [
       "status    | test status | count\n",
       "cancer    | positive    | 90\n",
       "cancer    | negative    | 10\n",
       "no cancer | positive    | 198\n",
       "no cancer | negative    | 9702"
      ]
     },
     "execution_count": 24,
     "metadata": {},
     "output_type": "execute_result"
    }
   ],
   "source": [
    "people = Table().with_columns(\n",
    "    \"status\", [\"cancer\", \"cancer\", \"no cancer\", \"no cancer\"],\n",
    "    \"test status\", [\"positive\", \"negative\", \"positive\", \"negative\"],\n",
    "    \"count\", [90, 10, 198, 9702])\n",
    "people"
   ]
  },
  {
   "cell_type": "markdown",
   "id": "99f98133",
   "metadata": {
    "deletable": false,
    "editable": false
   },
   "source": [
    "One way to visualize this dataset is with a contingency table, which you've seen before.\n",
    "\n",
    "**Question 3.1.1.** Using the `people` table defined above, create a contingency table that looks like this:\n",
    "\n",
    "|status|negative|positive|\n",
    "|-|-|-|\n",
    "|cancer|||\n",
    "|no cancer||||\n",
    "\n",
    "...with the **count** of each group filled in, according to what we've told you above.  The counts in the 4 boxes should sum to 10,000.\n",
    "\n",
    "<!--\n",
    "BEGIN QUESTION\n",
    "name: q3_1_1\n",
    "-->"
   ]
  },
  {
   "cell_type": "code",
   "execution_count": 25,
   "id": "5eed1651",
   "metadata": {
    "deletable": false,
    "scrolled": true,
    "tags": []
   },
   "outputs": [
    {
     "data": {
      "text/html": [
       "<table border=\"1\" class=\"dataframe\">\n",
       "    <thead>\n",
       "        <tr>\n",
       "            <th>status</th> <th>negative</th> <th>positive</th>\n",
       "        </tr>\n",
       "    </thead>\n",
       "    <tbody>\n",
       "        <tr>\n",
       "            <td>cancer   </td> <td>10      </td> <td>90      </td>\n",
       "        </tr>\n",
       "        <tr>\n",
       "            <td>no cancer</td> <td>9702    </td> <td>198     </td>\n",
       "        </tr>\n",
       "    </tbody>\n",
       "</table>"
      ],
      "text/plain": [
       "status    | negative | positive\n",
       "cancer    | 10       | 90\n",
       "no cancer | 9702     | 198"
      ]
     },
     "execution_count": 25,
     "metadata": {},
     "output_type": "execute_result"
    }
   ],
   "source": [
    "cancer = people.pivot('test status', 'status', 'count', sum)\n",
    "cancer"
   ]
  },
  {
   "cell_type": "code",
   "execution_count": 26,
   "id": "82a3f5f1",
   "metadata": {
    "deletable": false,
    "editable": false
   },
   "outputs": [
    {
     "data": {
      "text/html": [
       "<p><strong><pre style='display: inline;'>q3_1_1</pre></strong> passed! 🌟</p>"
      ],
      "text/plain": [
       "q3_1_1 results: All test cases passed!"
      ]
     },
     "execution_count": 26,
     "metadata": {},
     "output_type": "execute_result"
    }
   ],
   "source": [
    "grader.check(\"q3_1_1\")"
   ]
  },
  {
   "cell_type": "markdown",
   "id": "a3734cab",
   "metadata": {},
   "source": [
    "Here is the `people` data in an icon array."
   ]
  },
  {
   "cell_type": "code",
   "execution_count": 27,
   "id": "c13eacff",
   "metadata": {
    "tags": []
   },
   "outputs": [
    {
     "ename": "ValueError",
     "evalue": "setting an array element with a sequence. The requested array has an inhomogeneous shape after 1 dimensions. The detected shape was (4,) + inhomogeneous part.",
     "output_type": "error",
     "traceback": [
      "\u001b[1;31m---------------------------------------------------------------------------\u001b[0m",
      "\u001b[1;31mValueError\u001b[0m                                Traceback (most recent call last)",
      "Cell \u001b[1;32mIn[27], line 1\u001b[0m\n\u001b[1;32m----> 1\u001b[0m display_grouped_icon_array(people, \u001b[38;5;124m\"\u001b[39m\u001b[38;5;124mpeople who\u001b[39m\u001b[38;5;124m'\u001b[39m\u001b[38;5;124mve taken a cancer test\u001b[39m\u001b[38;5;124m\"\u001b[39m)\n",
      "Cell \u001b[1;32mIn[8], line 41\u001b[0m, in \u001b[0;36mdisplay_grouped_icon_array\u001b[1;34m(grouped_data, individuals_name)\u001b[0m\n\u001b[0;32m     25\u001b[0m \u001b[38;5;28;01mdef\u001b[39;00m \u001b[38;5;21mdisplay_grouped_icon_array\u001b[39m(grouped_data, individuals_name):\n\u001b[0;32m     26\u001b[0m \u001b[38;5;250m    \u001b[39m\u001b[38;5;124;03m\"\"\"\u001b[39;00m\n\u001b[0;32m     27\u001b[0m \u001b[38;5;124;03m    Given a table with counts for data grouped by 1 or more categories,\u001b[39;00m\n\u001b[0;32m     28\u001b[0m \u001b[38;5;124;03m    displays an icon array of the groups represented in the table.\u001b[39;00m\n\u001b[1;32m   (...)\u001b[0m\n\u001b[0;32m     39\u001b[0m \u001b[38;5;124;03m    display_grouped_icon_array(marbles.group([\"surface\", \"size\"]), \"marbles\")\u001b[39;00m\n\u001b[0;32m     40\u001b[0m \u001b[38;5;124;03m    \"\"\"\u001b[39;00m\n\u001b[1;32m---> 41\u001b[0m     visualizations\u001b[38;5;241m.\u001b[39mdisplay_combinations(grouped_data, individuals_name\u001b[38;5;241m=\u001b[39mindividuals_name)\n",
      "File \u001b[1;32m~\\Documents\\CS560\\lab10\\visualizations.py:176\u001b[0m, in \u001b[0;36mdisplay_combinations\u001b[1;34m(category_counts, individuals_name)\u001b[0m\n\u001b[0;32m    175\u001b[0m \u001b[38;5;28;01mdef\u001b[39;00m \u001b[38;5;21mdisplay_combinations\u001b[39m(category_counts, individuals_name\u001b[38;5;241m=\u001b[39m\u001b[38;5;124m\"\u001b[39m\u001b[38;5;124mpeople\u001b[39m\u001b[38;5;124m\"\u001b[39m):\n\u001b[1;32m--> 176\u001b[0m     displays \u001b[38;5;241m=\u001b[39m make_displayed_rectangles(compute_combination_data(category_counts, individuals_name))\n\u001b[0;32m    177\u001b[0m     draw_plot(displays, individuals_name)\n",
      "File \u001b[1;32m~\\Documents\\CS560\\lab10\\visualizations.py:140\u001b[0m, in \u001b[0;36mmake_displayed_rectangles\u001b[1;34m(combinations)\u001b[0m\n\u001b[0;32m    137\u001b[0m         rectangles\u001b[38;5;241m.\u001b[39mappend(rectangle_for_percentile(start_percentile, end_percentile, color))\n\u001b[0;32m    138\u001b[0m     \u001b[38;5;28;01mreturn\u001b[39;00m rectangles\n\u001b[1;32m--> 140\u001b[0m displays\u001b[38;5;241m.\u001b[39mappend_column(\u001b[38;5;124m\"\u001b[39m\u001b[38;5;124mrectangles\u001b[39m\u001b[38;5;124m\"\u001b[39m, displays\u001b[38;5;241m.\u001b[39mapply(rectangles_for_percentage_range, [\u001b[38;5;124m\"\u001b[39m\u001b[38;5;124mstart amount\u001b[39m\u001b[38;5;124m\"\u001b[39m, \u001b[38;5;124m\"\u001b[39m\u001b[38;5;124mend amount\u001b[39m\u001b[38;5;124m\"\u001b[39m, \u001b[38;5;124m\"\u001b[39m\u001b[38;5;124mcolor\u001b[39m\u001b[38;5;124m\"\u001b[39m]))\n\u001b[0;32m    142\u001b[0m \u001b[38;5;28;01mreturn\u001b[39;00m displays\n",
      "File \u001b[1;32mD:\\Software\\anaconda3\\Lib\\site-packages\\datascience\\tables.py:536\u001b[0m, in \u001b[0;36mTable.apply\u001b[1;34m(self, fn, *column_or_columns)\u001b[0m\n\u001b[0;32m    534\u001b[0m     column_or_columns \u001b[38;5;241m=\u001b[39m column_or_columns[\u001b[38;5;241m0\u001b[39m]\n\u001b[0;32m    535\u001b[0m rows \u001b[38;5;241m=\u001b[39m \u001b[38;5;28mzip\u001b[39m(\u001b[38;5;241m*\u001b[39m\u001b[38;5;28mself\u001b[39m\u001b[38;5;241m.\u001b[39mselect(\u001b[38;5;241m*\u001b[39mcolumn_or_columns)\u001b[38;5;241m.\u001b[39mcolumns)\n\u001b[1;32m--> 536\u001b[0m \u001b[38;5;28;01mreturn\u001b[39;00m np\u001b[38;5;241m.\u001b[39marray([fn(\u001b[38;5;241m*\u001b[39mrow) \u001b[38;5;28;01mfor\u001b[39;00m row \u001b[38;5;129;01min\u001b[39;00m rows])\n",
      "\u001b[1;31mValueError\u001b[0m: setting an array element with a sequence. The requested array has an inhomogeneous shape after 1 dimensions. The detected shape was (4,) + inhomogeneous part."
     ]
    }
   ],
   "source": [
    "display_grouped_icon_array(people, \"people who've taken a cancer test\")"
   ]
  },
  {
   "cell_type": "markdown",
   "id": "162f71f9",
   "metadata": {},
   "source": [
    "Now let's think about how you can use this kind of information when Person X is tested for cancer.\n",
    "\n",
    "Before you know any information about Person X, you could imagine Person X as a **uniform random sample** of one of the 10,000 people in this imaginary population of people who have been tested.\n",
    "\n",
    "What's the chance that Person X has cancer, knowing nothing else about them?  It's $\\frac{100}{10000}$, or 1%.  We can see that more directly with this icon array:"
   ]
  },
  {
   "cell_type": "code",
   "execution_count": 31,
   "id": "e5628309",
   "metadata": {
    "tags": []
   },
   "outputs": [
    {
     "ename": "ValueError",
     "evalue": "setting an array element with a sequence. The requested array has an inhomogeneous shape after 1 dimensions. The detected shape was (2,) + inhomogeneous part.",
     "output_type": "error",
     "traceback": [
      "\u001b[1;31m---------------------------------------------------------------------------\u001b[0m",
      "\u001b[1;31mValueError\u001b[0m                                Traceback (most recent call last)",
      "Cell \u001b[1;32mIn[31], line 2\u001b[0m\n\u001b[0;32m      1\u001b[0m by_health \u001b[38;5;241m=\u001b[39m people\u001b[38;5;241m.\u001b[39mselect(\u001b[38;5;241m0\u001b[39m, \u001b[38;5;241m2\u001b[39m)\u001b[38;5;241m.\u001b[39mgroup(\u001b[38;5;241m0\u001b[39m, \u001b[38;5;28msum\u001b[39m)\u001b[38;5;241m.\u001b[39mrelabeled(\u001b[38;5;241m1\u001b[39m, \u001b[38;5;124m'\u001b[39m\u001b[38;5;124mcount\u001b[39m\u001b[38;5;124m'\u001b[39m)\n\u001b[1;32m----> 2\u001b[0m display_grouped_icon_array(by_health, \u001b[38;5;124m\"\u001b[39m\u001b[38;5;124mpeople who\u001b[39m\u001b[38;5;124m'\u001b[39m\u001b[38;5;124mve taken a cancer test\u001b[39m\u001b[38;5;124m\"\u001b[39m)\n",
      "Cell \u001b[1;32mIn[8], line 41\u001b[0m, in \u001b[0;36mdisplay_grouped_icon_array\u001b[1;34m(grouped_data, individuals_name)\u001b[0m\n\u001b[0;32m     25\u001b[0m \u001b[38;5;28;01mdef\u001b[39;00m \u001b[38;5;21mdisplay_grouped_icon_array\u001b[39m(grouped_data, individuals_name):\n\u001b[0;32m     26\u001b[0m \u001b[38;5;250m    \u001b[39m\u001b[38;5;124;03m\"\"\"\u001b[39;00m\n\u001b[0;32m     27\u001b[0m \u001b[38;5;124;03m    Given a table with counts for data grouped by 1 or more categories,\u001b[39;00m\n\u001b[0;32m     28\u001b[0m \u001b[38;5;124;03m    displays an icon array of the groups represented in the table.\u001b[39;00m\n\u001b[1;32m   (...)\u001b[0m\n\u001b[0;32m     39\u001b[0m \u001b[38;5;124;03m    display_grouped_icon_array(marbles.group([\"surface\", \"size\"]), \"marbles\")\u001b[39;00m\n\u001b[0;32m     40\u001b[0m \u001b[38;5;124;03m    \"\"\"\u001b[39;00m\n\u001b[1;32m---> 41\u001b[0m     visualizations\u001b[38;5;241m.\u001b[39mdisplay_combinations(grouped_data, individuals_name\u001b[38;5;241m=\u001b[39mindividuals_name)\n",
      "File \u001b[1;32m~\\Documents\\CS560\\lab10\\visualizations.py:176\u001b[0m, in \u001b[0;36mdisplay_combinations\u001b[1;34m(category_counts, individuals_name)\u001b[0m\n\u001b[0;32m    175\u001b[0m \u001b[38;5;28;01mdef\u001b[39;00m \u001b[38;5;21mdisplay_combinations\u001b[39m(category_counts, individuals_name\u001b[38;5;241m=\u001b[39m\u001b[38;5;124m\"\u001b[39m\u001b[38;5;124mpeople\u001b[39m\u001b[38;5;124m\"\u001b[39m):\n\u001b[1;32m--> 176\u001b[0m     displays \u001b[38;5;241m=\u001b[39m make_displayed_rectangles(compute_combination_data(category_counts, individuals_name))\n\u001b[0;32m    177\u001b[0m     draw_plot(displays, individuals_name)\n",
      "File \u001b[1;32m~\\Documents\\CS560\\lab10\\visualizations.py:140\u001b[0m, in \u001b[0;36mmake_displayed_rectangles\u001b[1;34m(combinations)\u001b[0m\n\u001b[0;32m    137\u001b[0m         rectangles\u001b[38;5;241m.\u001b[39mappend(rectangle_for_percentile(start_percentile, end_percentile, color))\n\u001b[0;32m    138\u001b[0m     \u001b[38;5;28;01mreturn\u001b[39;00m rectangles\n\u001b[1;32m--> 140\u001b[0m displays\u001b[38;5;241m.\u001b[39mappend_column(\u001b[38;5;124m\"\u001b[39m\u001b[38;5;124mrectangles\u001b[39m\u001b[38;5;124m\"\u001b[39m, displays\u001b[38;5;241m.\u001b[39mapply(rectangles_for_percentage_range, [\u001b[38;5;124m\"\u001b[39m\u001b[38;5;124mstart amount\u001b[39m\u001b[38;5;124m\"\u001b[39m, \u001b[38;5;124m\"\u001b[39m\u001b[38;5;124mend amount\u001b[39m\u001b[38;5;124m\"\u001b[39m, \u001b[38;5;124m\"\u001b[39m\u001b[38;5;124mcolor\u001b[39m\u001b[38;5;124m\"\u001b[39m]))\n\u001b[0;32m    142\u001b[0m \u001b[38;5;28;01mreturn\u001b[39;00m displays\n",
      "File \u001b[1;32mD:\\Software\\anaconda3\\Lib\\site-packages\\datascience\\tables.py:536\u001b[0m, in \u001b[0;36mTable.apply\u001b[1;34m(self, fn, *column_or_columns)\u001b[0m\n\u001b[0;32m    534\u001b[0m     column_or_columns \u001b[38;5;241m=\u001b[39m column_or_columns[\u001b[38;5;241m0\u001b[39m]\n\u001b[0;32m    535\u001b[0m rows \u001b[38;5;241m=\u001b[39m \u001b[38;5;28mzip\u001b[39m(\u001b[38;5;241m*\u001b[39m\u001b[38;5;28mself\u001b[39m\u001b[38;5;241m.\u001b[39mselect(\u001b[38;5;241m*\u001b[39mcolumn_or_columns)\u001b[38;5;241m.\u001b[39mcolumns)\n\u001b[1;32m--> 536\u001b[0m \u001b[38;5;28;01mreturn\u001b[39;00m np\u001b[38;5;241m.\u001b[39marray([fn(\u001b[38;5;241m*\u001b[39mrow) \u001b[38;5;28;01mfor\u001b[39;00m row \u001b[38;5;129;01min\u001b[39;00m rows])\n",
      "\u001b[1;31mValueError\u001b[0m: setting an array element with a sequence. The requested array has an inhomogeneous shape after 1 dimensions. The detected shape was (2,) + inhomogeneous part."
     ]
    }
   ],
   "source": [
    "by_health = people.select(0, 2).group(0, sum).relabeled(1, 'count')\n",
    "display_grouped_icon_array(by_health, \"people who've taken a cancer test\")"
   ]
  },
  {
   "cell_type": "markdown",
   "id": "81017dc8",
   "metadata": {
    "deletable": false,
    "editable": false
   },
   "source": [
    "**Question 3.1.2.** What's the chance that Person X has a positive test result, knowing nothing else about them?\n",
    "Run the next code cell to display an icon array, then assign `probability_positive_test` to this value.\n",
    "<!--\n",
    "BEGIN QUESTION\n",
    "name: q3_1_2\n",
    "-->"
   ]
  },
  {
   "cell_type": "code",
   "execution_count": 35,
   "id": "bb2e034a",
   "metadata": {
    "deletable": false,
    "tags": []
   },
   "outputs": [
    {
     "ename": "ValueError",
     "evalue": "setting an array element with a sequence. The requested array has an inhomogeneous shape after 1 dimensions. The detected shape was (2,) + inhomogeneous part.",
     "output_type": "error",
     "traceback": [
      "\u001b[1;31m---------------------------------------------------------------------------\u001b[0m",
      "\u001b[1;31mValueError\u001b[0m                                Traceback (most recent call last)",
      "Cell \u001b[1;32mIn[35], line 3\u001b[0m\n\u001b[0;32m      1\u001b[0m \u001b[38;5;66;03m# Run this cell first to display an icon array. Then fill in the probability of a positive test result in the last line.\u001b[39;00m\n\u001b[0;32m      2\u001b[0m by_test \u001b[38;5;241m=\u001b[39m people\u001b[38;5;241m.\u001b[39mselect(\u001b[38;5;241m1\u001b[39m, \u001b[38;5;241m2\u001b[39m)\u001b[38;5;241m.\u001b[39mgroup(\u001b[38;5;241m0\u001b[39m, \u001b[38;5;28msum\u001b[39m)\u001b[38;5;241m.\u001b[39mrelabeled(\u001b[38;5;241m1\u001b[39m, \u001b[38;5;124m'\u001b[39m\u001b[38;5;124mcount\u001b[39m\u001b[38;5;124m'\u001b[39m)\n\u001b[1;32m----> 3\u001b[0m display_grouped_icon_array(by_test, \u001b[38;5;124m\"\u001b[39m\u001b[38;5;124mpeople who\u001b[39m\u001b[38;5;124m'\u001b[39m\u001b[38;5;124mve taken a cancer test\u001b[39m\u001b[38;5;124m\"\u001b[39m)\n\u001b[0;32m      5\u001b[0m \u001b[38;5;66;03m# Now fill in the probability of a positive test result\u001b[39;00m\n\u001b[0;32m      6\u001b[0m probability_positive_test \u001b[38;5;241m=\u001b[39m \u001b[38;5;241m288\u001b[39m \u001b[38;5;241m/\u001b[39m \u001b[38;5;241m10000\u001b[39m\n",
      "Cell \u001b[1;32mIn[8], line 41\u001b[0m, in \u001b[0;36mdisplay_grouped_icon_array\u001b[1;34m(grouped_data, individuals_name)\u001b[0m\n\u001b[0;32m     25\u001b[0m \u001b[38;5;28;01mdef\u001b[39;00m \u001b[38;5;21mdisplay_grouped_icon_array\u001b[39m(grouped_data, individuals_name):\n\u001b[0;32m     26\u001b[0m \u001b[38;5;250m    \u001b[39m\u001b[38;5;124;03m\"\"\"\u001b[39;00m\n\u001b[0;32m     27\u001b[0m \u001b[38;5;124;03m    Given a table with counts for data grouped by 1 or more categories,\u001b[39;00m\n\u001b[0;32m     28\u001b[0m \u001b[38;5;124;03m    displays an icon array of the groups represented in the table.\u001b[39;00m\n\u001b[1;32m   (...)\u001b[0m\n\u001b[0;32m     39\u001b[0m \u001b[38;5;124;03m    display_grouped_icon_array(marbles.group([\"surface\", \"size\"]), \"marbles\")\u001b[39;00m\n\u001b[0;32m     40\u001b[0m \u001b[38;5;124;03m    \"\"\"\u001b[39;00m\n\u001b[1;32m---> 41\u001b[0m     visualizations\u001b[38;5;241m.\u001b[39mdisplay_combinations(grouped_data, individuals_name\u001b[38;5;241m=\u001b[39mindividuals_name)\n",
      "File \u001b[1;32m~\\Documents\\CS560\\lab10\\visualizations.py:176\u001b[0m, in \u001b[0;36mdisplay_combinations\u001b[1;34m(category_counts, individuals_name)\u001b[0m\n\u001b[0;32m    175\u001b[0m \u001b[38;5;28;01mdef\u001b[39;00m \u001b[38;5;21mdisplay_combinations\u001b[39m(category_counts, individuals_name\u001b[38;5;241m=\u001b[39m\u001b[38;5;124m\"\u001b[39m\u001b[38;5;124mpeople\u001b[39m\u001b[38;5;124m\"\u001b[39m):\n\u001b[1;32m--> 176\u001b[0m     displays \u001b[38;5;241m=\u001b[39m make_displayed_rectangles(compute_combination_data(category_counts, individuals_name))\n\u001b[0;32m    177\u001b[0m     draw_plot(displays, individuals_name)\n",
      "File \u001b[1;32m~\\Documents\\CS560\\lab10\\visualizations.py:140\u001b[0m, in \u001b[0;36mmake_displayed_rectangles\u001b[1;34m(combinations)\u001b[0m\n\u001b[0;32m    137\u001b[0m         rectangles\u001b[38;5;241m.\u001b[39mappend(rectangle_for_percentile(start_percentile, end_percentile, color))\n\u001b[0;32m    138\u001b[0m     \u001b[38;5;28;01mreturn\u001b[39;00m rectangles\n\u001b[1;32m--> 140\u001b[0m displays\u001b[38;5;241m.\u001b[39mappend_column(\u001b[38;5;124m\"\u001b[39m\u001b[38;5;124mrectangles\u001b[39m\u001b[38;5;124m\"\u001b[39m, displays\u001b[38;5;241m.\u001b[39mapply(rectangles_for_percentage_range, [\u001b[38;5;124m\"\u001b[39m\u001b[38;5;124mstart amount\u001b[39m\u001b[38;5;124m\"\u001b[39m, \u001b[38;5;124m\"\u001b[39m\u001b[38;5;124mend amount\u001b[39m\u001b[38;5;124m\"\u001b[39m, \u001b[38;5;124m\"\u001b[39m\u001b[38;5;124mcolor\u001b[39m\u001b[38;5;124m\"\u001b[39m]))\n\u001b[0;32m    142\u001b[0m \u001b[38;5;28;01mreturn\u001b[39;00m displays\n",
      "File \u001b[1;32mD:\\Software\\anaconda3\\Lib\\site-packages\\datascience\\tables.py:536\u001b[0m, in \u001b[0;36mTable.apply\u001b[1;34m(self, fn, *column_or_columns)\u001b[0m\n\u001b[0;32m    534\u001b[0m     column_or_columns \u001b[38;5;241m=\u001b[39m column_or_columns[\u001b[38;5;241m0\u001b[39m]\n\u001b[0;32m    535\u001b[0m rows \u001b[38;5;241m=\u001b[39m \u001b[38;5;28mzip\u001b[39m(\u001b[38;5;241m*\u001b[39m\u001b[38;5;28mself\u001b[39m\u001b[38;5;241m.\u001b[39mselect(\u001b[38;5;241m*\u001b[39mcolumn_or_columns)\u001b[38;5;241m.\u001b[39mcolumns)\n\u001b[1;32m--> 536\u001b[0m \u001b[38;5;28;01mreturn\u001b[39;00m np\u001b[38;5;241m.\u001b[39marray([fn(\u001b[38;5;241m*\u001b[39mrow) \u001b[38;5;28;01mfor\u001b[39;00m row \u001b[38;5;129;01min\u001b[39;00m rows])\n",
      "\u001b[1;31mValueError\u001b[0m: setting an array element with a sequence. The requested array has an inhomogeneous shape after 1 dimensions. The detected shape was (2,) + inhomogeneous part."
     ]
    }
   ],
   "source": [
    "# Run this cell first to display an icon array. Then fill in the probability of a positive test result in the last line.\n",
    "by_test = people.select(1, 2).group(0, sum).relabeled(1, 'count')\n",
    "display_grouped_icon_array(by_test, \"people who've taken a cancer test\")\n",
    "\n",
    "# Now fill in the probability of a positive test result\n",
    "probability_positive_test = 288 / 10000"
   ]
  },
  {
   "cell_type": "code",
   "execution_count": 36,
   "id": "b90b8ad0",
   "metadata": {
    "deletable": false,
    "editable": false
   },
   "outputs": [
    {
     "data": {
      "text/html": [
       "<p><strong style='color: red;'><pre style='display: inline;'>q3_1_2</pre> results:</strong></p><p><strong><pre style='display: inline;'>q3_1_2 - 1</pre> result:</strong></p><pre>    ❌ Test case failed\n",
       "    Trying:\n",
       "        import hashlib \n",
       "    Expecting nothing\n",
       "    ok\n",
       "    Trying:\n",
       "        def get_hash(num):\n",
       "            \"\"\"Helper function for assessing correctness.\"\"\"\n",
       "            return hashlib.md5(str(num).encode()).hexdigest()\n",
       "    Expecting nothing\n",
       "    ok\n",
       "    Trying:\n",
       "        get_hash(np.round(probability_positive_test, 4))\n",
       "    Expecting:\n",
       "        'c50fc42a07a3cc2af3249a6e3ed78374'\n",
       "    **********************************************************************\n",
       "    Line 7, in q3_1_2 0\n",
       "    Failed example:\n",
       "        get_hash(np.round(probability_positive_test, 4))\n",
       "    Exception raised:\n",
       "        Traceback (most recent call last):\n",
       "          File \"D:\\Software\\anaconda3\\Lib\\doctest.py\", line 1351, in __run\n",
       "            exec(compile(example.source, filename, \"single\",\n",
       "          File \"<doctest q3_1_2 0[2]>\", line 1, in <module>\n",
       "            get_hash(np.round(probability_positive_test, 4))\n",
       "                              ^^^^^^^^^^^^^^^^^^^^^^^^^\n",
       "        NameError: name 'probability_positive_test' is not defined\n",
       "</pre>"
      ],
      "text/plain": [
       "q3_1_2 results:\n",
       "    q3_1_2 - 1 result:\n",
       "        ❌ Test case failed\n",
       "        Trying:\n",
       "            import hashlib \n",
       "        Expecting nothing\n",
       "        ok\n",
       "        Trying:\n",
       "            def get_hash(num):\n",
       "                \"\"\"Helper function for assessing correctness.\"\"\"\n",
       "                return hashlib.md5(str(num).encode()).hexdigest()\n",
       "        Expecting nothing\n",
       "        ok\n",
       "        Trying:\n",
       "            get_hash(np.round(probability_positive_test, 4))\n",
       "        Expecting:\n",
       "            'c50fc42a07a3cc2af3249a6e3ed78374'\n",
       "        **********************************************************************\n",
       "        Line 7, in q3_1_2 0\n",
       "        Failed example:\n",
       "            get_hash(np.round(probability_positive_test, 4))\n",
       "        Exception raised:\n",
       "            Traceback (most recent call last):\n",
       "              File \"D:\\Software\\anaconda3\\Lib\\doctest.py\", line 1351, in __run\n",
       "                exec(compile(example.source, filename, \"single\",\n",
       "              File \"<doctest q3_1_2 0[2]>\", line 1, in <module>\n",
       "                get_hash(np.round(probability_positive_test, 4))\n",
       "                                  ^^^^^^^^^^^^^^^^^^^^^^^^^\n",
       "            NameError: name 'probability_positive_test' is not defined"
      ]
     },
     "execution_count": 36,
     "metadata": {},
     "output_type": "execute_result"
    }
   ],
   "source": [
    "grader.check(\"q3_1_2\")"
   ]
  },
  {
   "cell_type": "markdown",
   "id": "e1da0a4a",
   "metadata": {},
   "source": [
    "## 3.2. Interpreting test results\n",
    "Suppose Person X has a positive test result.  This means that you can now narrow them down to being part of just one of the two following groups:\n",
    "1. The people with cancer who have a positive test result.\n",
    "2. The people without cancer who have a positive test result.\n",
    "\n",
    "Here's an icon array for those two groups:"
   ]
  },
  {
   "cell_type": "code",
   "execution_count": 37,
   "id": "ba5a2b82",
   "metadata": {
    "tags": []
   },
   "outputs": [
    {
     "ename": "ValueError",
     "evalue": "setting an array element with a sequence. The requested array has an inhomogeneous shape after 1 dimensions. The detected shape was (2,) + inhomogeneous part.",
     "output_type": "error",
     "traceback": [
      "\u001b[1;31m---------------------------------------------------------------------------\u001b[0m",
      "\u001b[1;31mValueError\u001b[0m                                Traceback (most recent call last)",
      "Cell \u001b[1;32mIn[37], line 2\u001b[0m\n\u001b[0;32m      1\u001b[0m \u001b[38;5;66;03m# Just run this cell.\u001b[39;00m\n\u001b[1;32m----> 2\u001b[0m display_grouped_icon_array(people\u001b[38;5;241m.\u001b[39mwhere(\u001b[38;5;124m\"\u001b[39m\u001b[38;5;124mtest status\u001b[39m\u001b[38;5;124m\"\u001b[39m, are\u001b[38;5;241m.\u001b[39mequal_to(\u001b[38;5;124m\"\u001b[39m\u001b[38;5;124mpositive\u001b[39m\u001b[38;5;124m\"\u001b[39m))\u001b[38;5;241m.\u001b[39mdrop(\u001b[38;5;241m1\u001b[39m), \u001b[38;5;124m\"\u001b[39m\u001b[38;5;124mpeople who have a positive test result\u001b[39m\u001b[38;5;124m\"\u001b[39m)\n",
      "Cell \u001b[1;32mIn[8], line 41\u001b[0m, in \u001b[0;36mdisplay_grouped_icon_array\u001b[1;34m(grouped_data, individuals_name)\u001b[0m\n\u001b[0;32m     25\u001b[0m \u001b[38;5;28;01mdef\u001b[39;00m \u001b[38;5;21mdisplay_grouped_icon_array\u001b[39m(grouped_data, individuals_name):\n\u001b[0;32m     26\u001b[0m \u001b[38;5;250m    \u001b[39m\u001b[38;5;124;03m\"\"\"\u001b[39;00m\n\u001b[0;32m     27\u001b[0m \u001b[38;5;124;03m    Given a table with counts for data grouped by 1 or more categories,\u001b[39;00m\n\u001b[0;32m     28\u001b[0m \u001b[38;5;124;03m    displays an icon array of the groups represented in the table.\u001b[39;00m\n\u001b[1;32m   (...)\u001b[0m\n\u001b[0;32m     39\u001b[0m \u001b[38;5;124;03m    display_grouped_icon_array(marbles.group([\"surface\", \"size\"]), \"marbles\")\u001b[39;00m\n\u001b[0;32m     40\u001b[0m \u001b[38;5;124;03m    \"\"\"\u001b[39;00m\n\u001b[1;32m---> 41\u001b[0m     visualizations\u001b[38;5;241m.\u001b[39mdisplay_combinations(grouped_data, individuals_name\u001b[38;5;241m=\u001b[39mindividuals_name)\n",
      "File \u001b[1;32m~\\Documents\\CS560\\lab10\\visualizations.py:176\u001b[0m, in \u001b[0;36mdisplay_combinations\u001b[1;34m(category_counts, individuals_name)\u001b[0m\n\u001b[0;32m    175\u001b[0m \u001b[38;5;28;01mdef\u001b[39;00m \u001b[38;5;21mdisplay_combinations\u001b[39m(category_counts, individuals_name\u001b[38;5;241m=\u001b[39m\u001b[38;5;124m\"\u001b[39m\u001b[38;5;124mpeople\u001b[39m\u001b[38;5;124m\"\u001b[39m):\n\u001b[1;32m--> 176\u001b[0m     displays \u001b[38;5;241m=\u001b[39m make_displayed_rectangles(compute_combination_data(category_counts, individuals_name))\n\u001b[0;32m    177\u001b[0m     draw_plot(displays, individuals_name)\n",
      "File \u001b[1;32m~\\Documents\\CS560\\lab10\\visualizations.py:140\u001b[0m, in \u001b[0;36mmake_displayed_rectangles\u001b[1;34m(combinations)\u001b[0m\n\u001b[0;32m    137\u001b[0m         rectangles\u001b[38;5;241m.\u001b[39mappend(rectangle_for_percentile(start_percentile, end_percentile, color))\n\u001b[0;32m    138\u001b[0m     \u001b[38;5;28;01mreturn\u001b[39;00m rectangles\n\u001b[1;32m--> 140\u001b[0m displays\u001b[38;5;241m.\u001b[39mappend_column(\u001b[38;5;124m\"\u001b[39m\u001b[38;5;124mrectangles\u001b[39m\u001b[38;5;124m\"\u001b[39m, displays\u001b[38;5;241m.\u001b[39mapply(rectangles_for_percentage_range, [\u001b[38;5;124m\"\u001b[39m\u001b[38;5;124mstart amount\u001b[39m\u001b[38;5;124m\"\u001b[39m, \u001b[38;5;124m\"\u001b[39m\u001b[38;5;124mend amount\u001b[39m\u001b[38;5;124m\"\u001b[39m, \u001b[38;5;124m\"\u001b[39m\u001b[38;5;124mcolor\u001b[39m\u001b[38;5;124m\"\u001b[39m]))\n\u001b[0;32m    142\u001b[0m \u001b[38;5;28;01mreturn\u001b[39;00m displays\n",
      "File \u001b[1;32mD:\\Software\\anaconda3\\Lib\\site-packages\\datascience\\tables.py:536\u001b[0m, in \u001b[0;36mTable.apply\u001b[1;34m(self, fn, *column_or_columns)\u001b[0m\n\u001b[0;32m    534\u001b[0m     column_or_columns \u001b[38;5;241m=\u001b[39m column_or_columns[\u001b[38;5;241m0\u001b[39m]\n\u001b[0;32m    535\u001b[0m rows \u001b[38;5;241m=\u001b[39m \u001b[38;5;28mzip\u001b[39m(\u001b[38;5;241m*\u001b[39m\u001b[38;5;28mself\u001b[39m\u001b[38;5;241m.\u001b[39mselect(\u001b[38;5;241m*\u001b[39mcolumn_or_columns)\u001b[38;5;241m.\u001b[39mcolumns)\n\u001b[1;32m--> 536\u001b[0m \u001b[38;5;28;01mreturn\u001b[39;00m np\u001b[38;5;241m.\u001b[39marray([fn(\u001b[38;5;241m*\u001b[39mrow) \u001b[38;5;28;01mfor\u001b[39;00m row \u001b[38;5;129;01min\u001b[39;00m rows])\n",
      "\u001b[1;31mValueError\u001b[0m: setting an array element with a sequence. The requested array has an inhomogeneous shape after 1 dimensions. The detected shape was (2,) + inhomogeneous part."
     ]
    }
   ],
   "source": [
    "# Just run this cell.\n",
    "display_grouped_icon_array(people.where(\"test status\", are.equal_to(\"positive\")).drop(1), \"people who have a positive test result\")"
   ]
  },
  {
   "cell_type": "markdown",
   "id": "c676abb3",
   "metadata": {
    "deletable": false,
    "editable": false
   },
   "source": [
    "The *conditional probability* that Person X **has cancer given their positive test result** is the chance that they're in the first group (cancer), assuming they have a positive test result.\n",
    "\n",
    "**Question 3.2.1.** Eyeballing the icon array above, is the conditional probability that Person X has cancer **given their positive test result** closest to:\n",
    "\n",
    "1. $\\displaystyle\\frac{9}{10}$\n",
    "\n",
    "2. $\\displaystyle\\frac{2}{3}$\n",
    "\n",
    "3. $\\displaystyle\\frac{1}{2}$\n",
    "\n",
    "4. $\\displaystyle\\frac{1}{3}$\n",
    "\n",
    "5. $\\displaystyle\\frac{1}{100}$\n",
    "\n",
    "\n",
    "Assign `rough_prob_cancer_given_positive` to an integer corresponding to your answer.\n",
    "\n",
    "<!--\n",
    "BEGIN QUESTION\n",
    "name: q3_2_1\n",
    "-->"
   ]
  },
  {
   "cell_type": "code",
   "execution_count": 31,
   "id": "ea18c3eb",
   "metadata": {
    "deletable": false,
    "execution": {
     "iopub.execute_input": "2022-04-26T09:18:41.267963Z",
     "iopub.status.busy": "2022-04-26T09:18:41.267296Z",
     "iopub.status.idle": "2022-04-26T09:18:41.271171Z",
     "shell.execute_reply": "2022-04-26T09:18:41.270462Z"
    }
   },
   "outputs": [],
   "source": [
    "# Set this to either 1, 2, 3, 4, or 5 corresponding to the correct probability.\n",
    "rough_prob_cancer_given_positive = ..."
   ]
  },
  {
   "cell_type": "code",
   "execution_count": null,
   "id": "58037270",
   "metadata": {
    "deletable": false,
    "editable": false
   },
   "outputs": [],
   "source": [
    "grader.check(\"q3_2_1\")"
   ]
  },
  {
   "cell_type": "markdown",
   "id": "85227cf3",
   "metadata": {
    "deletable": false,
    "editable": false
   },
   "source": [
    "**Question 3.2.2.** Now write code to calculate that probability exactly, using the original contingency table you wrote (the `cancer` table).\n",
    "\n",
    "Run the next code cell to see the `cancer` table, then fill in `prob_cancer_given_positive` with your code.\n",
    "\n",
    "<!--\n",
    "BEGIN QUESTION\n",
    "name: q3_2_2\n",
    "-->"
   ]
  },
  {
   "cell_type": "code",
   "execution_count": 33,
   "id": "7049501a",
   "metadata": {
    "deletable": false,
    "execution": {
     "iopub.execute_input": "2022-04-26T09:18:41.283665Z",
     "iopub.status.busy": "2022-04-26T09:18:41.283346Z",
     "iopub.status.idle": "2022-04-26T09:18:41.292548Z",
     "shell.execute_reply": "2022-04-26T09:18:41.291633Z"
    }
   },
   "outputs": [],
   "source": [
    "# Run this cell first to see the cancer table. Then fill in the next line of this cell.\n",
    "cancer.show()\n",
    "\n",
    "prob_cancer_given_positive = ...\n",
    "\n",
    "print('Probability of cancer given positive test result: {}'.format(prob_cancer_given_positive))"
   ]
  },
  {
   "cell_type": "code",
   "execution_count": null,
   "id": "d271d71e",
   "metadata": {
    "deletable": false,
    "editable": false
   },
   "outputs": [],
   "source": [
    "grader.check(\"q3_2_2\")"
   ]
  },
  {
   "cell_type": "markdown",
   "id": "822c0be6",
   "metadata": {
    "deletable": false,
    "editable": false
   },
   "source": [
    "**Question 3.2.3.** Look at the full icon array again.  Using that, how would you compute the conditional probability of cancer given a positive test?\n",
    "\n",
    "Run the next code cell to see the full icon array. \n",
    "\n",
    "<!--\n",
    "BEGIN QUESTION\n",
    "name: q3_2_3\n",
    "-->"
   ]
  },
  {
   "cell_type": "markdown",
   "id": "193c7dbb",
   "metadata": {},
   "source": [
    "_Type your answer here, replacing this text._"
   ]
  },
  {
   "cell_type": "code",
   "execution_count": 35,
   "id": "b789150e",
   "metadata": {
    "execution": {
     "iopub.execute_input": "2022-04-26T09:18:41.307081Z",
     "iopub.status.busy": "2022-04-26T09:18:41.306790Z",
     "iopub.status.idle": "2022-04-26T09:18:41.818878Z",
     "shell.execute_reply": "2022-04-26T09:18:41.818019Z"
    }
   },
   "outputs": [],
   "source": [
    "# The full icon array is given here for your convenience.\n",
    "# Write your answer in the previous cell.\n",
    "display_grouped_icon_array(people, \"people who've taken a cancer test\")"
   ]
  },
  {
   "cell_type": "markdown",
   "id": "f70f1fce",
   "metadata": {
    "deletable": false,
    "editable": false
   },
   "source": [
    "**Question 3.2.4.** Is your answer to question 3.2.2 larger than the overall proportion of people in the population who have cancer (given as 1% in 3.1.1)?  Does that make sense? Check with your peers or a staff member to see if you have the right idea. \n",
    "\n",
    "<!--\n",
    "BEGIN QUESTION\n",
    "name: q3_2_4\n",
    "-->"
   ]
  },
  {
   "cell_type": "markdown",
   "id": "302297c2",
   "metadata": {},
   "source": [
    "_Type your answer here, replacing this text._"
   ]
  },
  {
   "cell_type": "markdown",
   "id": "c8e146e2",
   "metadata": {},
   "source": [
    "# 4. A Subjective Prior\n",
    "\n",
    "Being right isn’t always satisfying. Classifying a Positive patient as not having cancer still seems somehow wrong, for such an accurate test. In this section, we'll take a deeper look at the basis of our probability calculation: the assumption of randomness.\n",
    "\n",
    "Our assumption was that a randomly chosen person was tested from our population of 10,000 individuals. This doesn’t happen in reality. People go in to get tested because they think they might have the disease, or because their doctor thinks they might have the disease. People getting tested are not randomly chosen members of the population.\n",
    "\n",
    "That is why our intuition about people getting tested was not fitting well with the answer that we got. In **Question 3.2.2**, we calculated that the probability of cancer given a positive test result was **0.3125**, or **31.25%**. This seems unusually low, especially given what we know about the efficacy of cancer screenings. We were imagining a realistic situation of a patient going in to get tested because there was some reason for them to do so, whereas the calculation was based on a randomly chosen person being tested.\n",
    "\n",
    "So let’s redo our calculation under the more realistic assumption that the patient is getting tested because the doctor thinks there’s a chance the patient has the disease and compare the two probabilities.\n",
    "\n",
    "**Aside:** For more information about Part 4 of this lab, check out [Section 18.2.2](https://inferentialthinking.com/chapters/18/2/Making_Decisions.html#a-subjective-prior) from the textbook."
   ]
  },
  {
   "cell_type": "markdown",
   "id": "eda17af6",
   "metadata": {},
   "source": [
    "## 4.1. A New Look at the Population\n",
    "Suppose now that our population of 10,000 inviduals takes into account the fact that choosing to take a medical test is not done at random; there must be some motive for an individual to take one. Thus, our modified population has the following properties:\n",
    "1. 1,000 people have cancer.\n",
    "1. Among the 1,000 people that have cancer, 900 have positive results on a cancer test and 100 have negative results. \n",
    "3. The other 9,000 people don't have cancer.\n",
    "4. Among these 9,000 people, 180 have positive results on a cancer test and the other 8,820 have negative results.  (So 180 see \"false positive\" results.)\n",
    "\n",
    "Below we've generated a population table called `people_new` and a contingency table with data from these 10,000 hypothetical people called `cancer_new`."
   ]
  },
  {
   "cell_type": "code",
   "execution_count": 36,
   "id": "46244e1f",
   "metadata": {
    "execution": {
     "iopub.execute_input": "2022-04-26T09:18:41.822273Z",
     "iopub.status.busy": "2022-04-26T09:18:41.822062Z",
     "iopub.status.idle": "2022-04-26T09:18:41.829236Z",
     "shell.execute_reply": "2022-04-26T09:18:41.828547Z"
    }
   },
   "outputs": [],
   "source": [
    "# Just run this cell to load the table\n",
    "people_new = Table().with_columns(\n",
    "    \"status\", [\"cancer\", \"cancer\", \"no cancer\", \"no cancer\"],\n",
    "    \"test status\", [\"positive\", \"negative\", \"positive\", \"negative\"],\n",
    "    \"count\", [900, 100, 180, 8820])\n",
    "people_new"
   ]
  },
  {
   "cell_type": "code",
   "execution_count": 37,
   "id": "844af950",
   "metadata": {
    "execution": {
     "iopub.execute_input": "2022-04-26T09:18:41.832204Z",
     "iopub.status.busy": "2022-04-26T09:18:41.831989Z",
     "iopub.status.idle": "2022-04-26T09:18:41.839132Z",
     "shell.execute_reply": "2022-04-26T09:18:41.838438Z"
    }
   },
   "outputs": [],
   "source": [
    "# Just run this cell to load the table\n",
    "cancer_new = Table().with_columns(\n",
    "    \"status\", [\"cancer\", \"no cancer\"],\n",
    "    \"negative\", [100, 8820],\n",
    "    \"positive\", [900, 180])\n",
    "cancer_new"
   ]
  },
  {
   "cell_type": "markdown",
   "id": "f1098cbe",
   "metadata": {},
   "source": [
    "As before, we can present the data above in an icon array. Here is the `people_new` data in such a format."
   ]
  },
  {
   "cell_type": "code",
   "execution_count": 38,
   "id": "9dfd02a7",
   "metadata": {
    "execution": {
     "iopub.execute_input": "2022-04-26T09:18:41.856055Z",
     "iopub.status.busy": "2022-04-26T09:18:41.855755Z",
     "iopub.status.idle": "2022-04-26T09:18:42.320202Z",
     "shell.execute_reply": "2022-04-26T09:18:42.319377Z"
    }
   },
   "outputs": [],
   "source": [
    "display_grouped_icon_array(people_new, \"people who've taken a cancer test\")"
   ]
  },
  {
   "cell_type": "markdown",
   "id": "5a925b31",
   "metadata": {},
   "source": [
    "## 4.2. Interpretation and Comparison\n",
    "As in Part 3, let's suppose Person X has a positive test result.  This means that you can now narrow them down to being part of just one of the two following groups:\n",
    "1. The people with cancer who have a positive test result.\n",
    "2. The people without cancer who have a positive test result.\n",
    "\n",
    "Just as we did in Part 3 of this lab, here's an icon array for those two groups:"
   ]
  },
  {
   "cell_type": "code",
   "execution_count": 39,
   "id": "db48f558",
   "metadata": {
    "execution": {
     "iopub.execute_input": "2022-04-26T09:18:42.323487Z",
     "iopub.status.busy": "2022-04-26T09:18:42.323259Z",
     "iopub.status.idle": "2022-04-26T09:18:42.766081Z",
     "shell.execute_reply": "2022-04-26T09:18:42.765098Z"
    }
   },
   "outputs": [],
   "source": [
    "# Just run this cell.\n",
    "display_grouped_icon_array(people_new.where(\"test status\", are.equal_to(\"positive\")).drop(1), \"people who have a positive test result\")"
   ]
  },
  {
   "cell_type": "markdown",
   "id": "7027513b",
   "metadata": {
    "deletable": false,
    "editable": false
   },
   "source": [
    "**Question 4.2.1.** Using the new contingency table, `cancer_new`, that was provided at the beginning of this section, write code to calculate the exact probability that an individual has cancer given that they've received a positive test result.\n",
    "\n",
    "Run the next code cell to see the `cancer_new` table, then fill in `prob_cancer_given_positive_new` with your code.\n",
    "\n",
    "<!--\n",
    "BEGIN QUESTION\n",
    "name: q4_2_1\n",
    "-->"
   ]
  },
  {
   "cell_type": "code",
   "execution_count": 40,
   "id": "c5117143",
   "metadata": {
    "deletable": false,
    "execution": {
     "iopub.execute_input": "2022-04-26T09:18:42.769649Z",
     "iopub.status.busy": "2022-04-26T09:18:42.769357Z",
     "iopub.status.idle": "2022-04-26T09:18:42.776996Z",
     "shell.execute_reply": "2022-04-26T09:18:42.775997Z"
    }
   },
   "outputs": [],
   "source": [
    "# Run this cell first to see the cancer_new table. Then fill in the next line of this cell.\n",
    "cancer_new.show()\n",
    "\n",
    "prob_cancer_given_positive_new = ...\n",
    "\n",
    "print(f'Probability of cancer given positive test result: {prob_cancer_given_positive_new}')"
   ]
  },
  {
   "cell_type": "code",
   "execution_count": null,
   "id": "2e38de55",
   "metadata": {
    "deletable": false,
    "editable": false
   },
   "outputs": [],
   "source": [
    "grader.check(\"q4_2_1\")"
   ]
  },
  {
   "cell_type": "markdown",
   "id": "c704d7db",
   "metadata": {
    "deletable": false,
    "editable": false
   },
   "source": [
    "**Question 4.2.2.** How does your probability in 3.2.2 compare to your answer from 4.2.1? Does that make sense? Check with your peers or a staff member to see if you have the right idea. \n",
    "\n",
    "<!--\n",
    "BEGIN QUESTION\n",
    "name: q3_2_4\n",
    "-->"
   ]
  },
  {
   "cell_type": "markdown",
   "id": "47e4c315",
   "metadata": {},
   "source": [
    "_Type your answer here, replacing this text._"
   ]
  },
  {
   "cell_type": "markdown",
   "id": "e8c0fa2e",
   "metadata": {},
   "source": [
    "## 5. Submission\n",
    "\n",
    "<img src=\"harley.jpeg\" alt=\"drawing\" width=\"300\"/>\n",
    "\n",
    "We've come full circle! Harley welcomed you to Data 8 fifteen weeks ago, and he's here again to end off the semester on your last lab. Woof!\n",
    "\n",
    "Congrats, you're done with the final lab!  Be sure to \n",
    "\n",
    "- **Run all the tests** (the next cell has a shortcut for that). \n",
    "- **Save** from the `File` menu.\n",
    "- **Run the cell at the bottom to download a .zip file and submit it.**"
   ]
  },
  {
   "cell_type": "markdown",
   "id": "559b7157",
   "metadata": {
    "deletable": false,
    "editable": false
   },
   "source": [
    "---\n",
    "\n",
    "To double-check your work, the cell below will rerun all of the autograder tests."
   ]
  },
  {
   "cell_type": "code",
   "execution_count": null,
   "id": "df3e2696",
   "metadata": {
    "deletable": false,
    "editable": false
   },
   "outputs": [],
   "source": [
    "grader.check_all()"
   ]
  },
  {
   "cell_type": "markdown",
   "id": "f3e2ba48",
   "metadata": {
    "deletable": false,
    "editable": false
   },
   "source": [
    "## Submission\n",
    "\n",
    "Make sure you have run all cells in your notebook in order before running the cell below, so that all images/graphs appear in the output. The cell below will generate a zip file for you to submit. **Please save before exporting!**"
   ]
  },
  {
   "cell_type": "code",
   "execution_count": null,
   "id": "85a577cb",
   "metadata": {
    "deletable": false,
    "editable": false
   },
   "outputs": [],
   "source": [
    "# Save your notebook first, then run this cell to export your submission.\n",
    "grader.export(pdf=False)"
   ]
  },
  {
   "cell_type": "markdown",
   "id": "28d35728",
   "metadata": {},
   "source": [
    " "
   ]
  }
 ],
 "metadata": {
  "kernelspec": {
   "display_name": "Python 3 (ipykernel)",
   "language": "python",
   "name": "python3"
  },
  "language_info": {
   "codemirror_mode": {
    "name": "ipython",
    "version": 3
   },
   "file_extension": ".py",
   "mimetype": "text/x-python",
   "name": "python",
   "nbconvert_exporter": "python",
   "pygments_lexer": "ipython3",
   "version": "3.11.4"
  }
 },
 "nbformat": 4,
 "nbformat_minor": 5
}
